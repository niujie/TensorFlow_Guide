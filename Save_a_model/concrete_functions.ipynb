{
 "cells": [
  {
   "cell_type": "markdown",
   "metadata": {},
   "source": [
    "# Concrete functions"
   ]
  },
  {
   "cell_type": "markdown",
   "metadata": {},
   "source": [
    "## Setup"
   ]
  },
  {
   "cell_type": "code",
   "execution_count": null,
   "metadata": {},
   "outputs": [],
   "source": [
    "from __future__ import absolute_import, division, print_function, unicode_literals"
   ]
  },
  {
   "cell_type": "code",
   "execution_count": null,
   "metadata": {},
   "outputs": [],
   "source": [
    "import traceback\n",
    "import textwrap\n",
    "\n",
    "try:\n",
    "    !pip install -q tf-nightly\n",
    "except Exception:\n",
    "    pass"
   ]
  },
  {
   "cell_type": "code",
   "execution_count": null,
   "metadata": {},
   "outputs": [],
   "source": [
    "import tensorflow as tf"
   ]
  },
  {
   "cell_type": "markdown",
   "metadata": {},
   "source": [
    "## Create a tf.function"
   ]
  },
  {
   "cell_type": "code",
   "execution_count": null,
   "metadata": {},
   "outputs": [],
   "source": [
    "@tf.function\n",
    "def square(x):\n",
    "    return x*x"
   ]
  },
  {
   "cell_type": "code",
   "execution_count": null,
   "metadata": {},
   "outputs": [],
   "source": [
    "square(2).numpy()"
   ]
  },
  {
   "cell_type": "code",
   "execution_count": null,
   "metadata": {},
   "outputs": [],
   "source": [
    "def pow(x,y):\n",
    "    return x ** y\n",
    "\n",
    "pow = tf.function(pow)"
   ]
  },
  {
   "cell_type": "code",
   "execution_count": null,
   "metadata": {},
   "outputs": [],
   "source": [
    "pow(3,4).numpy()"
   ]
  },
  {
   "cell_type": "markdown",
   "metadata": {},
   "source": [
    "### Attach a tf.function method to a tf.Module"
   ]
  },
  {
   "cell_type": "code",
   "execution_count": null,
   "metadata": {},
   "outputs": [],
   "source": [
    "class Pow(tf.Module):\n",
    "    def __init__(self, exponent):\n",
    "        self.exponent = tf.Variable(exponent, dtype = tf.float32, name='Pow/exponent')\n",
    "\n",
    "    @tf.function\n",
    "    def __call__(self, x):\n",
    "        return x ** self.exponent"
   ]
  },
  {
   "cell_type": "code",
   "execution_count": null,
   "metadata": {},
   "outputs": [],
   "source": [
    "pow = Pow(3)"
   ]
  },
  {
   "cell_type": "code",
   "execution_count": null,
   "metadata": {},
   "outputs": [],
   "source": [
    "pow.variables"
   ]
  },
  {
   "cell_type": "code",
   "execution_count": null,
   "metadata": {},
   "outputs": [],
   "source": [
    "pow(tf.constant(2.0)).numpy()"
   ]
  },
  {
   "cell_type": "code",
   "execution_count": null,
   "metadata": {},
   "outputs": [],
   "source": [
    "pow.exponent.assign(4)\n",
    "pow(tf.constant(2.0)).numpy()"
   ]
  },
  {
   "cell_type": "code",
   "execution_count": null,
   "metadata": {},
   "outputs": [],
   "source": [
    "tf.saved_model.save(pow, 'pow')"
   ]
  },
  {
   "cell_type": "code",
   "execution_count": null,
   "metadata": {},
   "outputs": [],
   "source": [
    "reloaded_pow = tf.saved_model.load('pow')"
   ]
  },
  {
   "cell_type": "code",
   "execution_count": null,
   "metadata": {},
   "outputs": [],
   "source": [
    "reloaded_pow(tf.constant(3.0)).numpy()"
   ]
  },
  {
   "cell_type": "markdown",
   "metadata": {},
   "source": [
    "### Assign a tf.function as an attribute"
   ]
  },
  {
   "cell_type": "code",
   "execution_count": null,
   "metadata": {},
   "outputs": [],
   "source": [
    "mod = tf.Module()\n",
    "mod.increment_by = tf.Variable(2.0)\n",
    "\n",
    "@tf.function\n",
    "def increment(x):\n",
    "    return x+mod.increment_by\n",
    "\n",
    "mod.inc = increment\n",
    "mod.inc(tf.constant(1.0)).numpy()"
   ]
  },
  {
   "cell_type": "code",
   "execution_count": null,
   "metadata": {},
   "outputs": [],
   "source": [
    "mod.cube = Pow(3)\n",
    "mod.cube(tf.constant(2.0)).numpy()"
   ]
  },
  {
   "cell_type": "code",
   "execution_count": null,
   "metadata": {},
   "outputs": [],
   "source": [
    "mod.variables"
   ]
  },
  {
   "cell_type": "code",
   "execution_count": null,
   "metadata": {},
   "outputs": [],
   "source": [
    "tf.saved_model.save(mod, 'mod')\n",
    "reloaded_mod = tf.saved_model.load('mod')"
   ]
  },
  {
   "cell_type": "code",
   "execution_count": null,
   "metadata": {},
   "outputs": [],
   "source": [
    "reloaded_mod.inc(4.0).numpy()"
   ]
  },
  {
   "cell_type": "code",
   "execution_count": null,
   "metadata": {},
   "outputs": [],
   "source": [
    "reloaded_mod.cube(4.0).numpy()"
   ]
  },
  {
   "cell_type": "markdown",
   "metadata": {},
   "source": [
    "### Interoperability with tf.keras"
   ]
  },
  {
   "cell_type": "code",
   "execution_count": null,
   "metadata": {},
   "outputs": [],
   "source": [
    "linear = tf.keras.Sequential([tf.keras.layers.Dense(units=1, input_shape=[1])])\n",
    "linear.compile(optimizer='adam', loss='mean_squared_error')\n",
    "linear.fit(x=[-1, 0, 1, 2, 3, 4], y=[-3, -1, 1, 3, 5, 7], epochs=50, verbose=0)"
   ]
  },
  {
   "cell_type": "code",
   "execution_count": null,
   "metadata": {},
   "outputs": [],
   "source": [
    "linear(tf.constant([[1],[2]]))"
   ]
  },
  {
   "cell_type": "code",
   "execution_count": null,
   "metadata": {},
   "outputs": [],
   "source": [
    "linear.variables"
   ]
  },
  {
   "cell_type": "code",
   "execution_count": null,
   "metadata": {},
   "outputs": [],
   "source": [
    "module = tf.Module()\n",
    "module.linear = linear"
   ]
  },
  {
   "cell_type": "code",
   "execution_count": null,
   "metadata": {},
   "outputs": [],
   "source": [
    "module.variables"
   ]
  },
  {
   "cell_type": "code",
   "execution_count": null,
   "metadata": {},
   "outputs": [],
   "source": [
    "tf.saved_model.save(module,'module')"
   ]
  },
  {
   "cell_type": "code",
   "execution_count": null,
   "metadata": {},
   "outputs": [],
   "source": [
    "reloaded = tf.saved_model.load('module')"
   ]
  },
  {
   "cell_type": "code",
   "execution_count": null,
   "metadata": {},
   "outputs": [],
   "source": [
    "reloaded.linear([[1.0]])"
   ]
  },
  {
   "cell_type": "markdown",
   "metadata": {},
   "source": [
    "## Tracing"
   ]
  },
  {
   "cell_type": "code",
   "execution_count": null,
   "metadata": {},
   "outputs": [],
   "source": [
    "@tf.function\n",
    "def mul(a, b):\n",
    "    print('Tracing:\\n    {a}\\n    {b}\\n'.format(a=a, b=b))\n",
    "    return a*b"
   ]
  },
  {
   "cell_type": "markdown",
   "metadata": {},
   "source": [
    "### Dtypes and shapes"
   ]
  },
  {
   "cell_type": "code",
   "execution_count": null,
   "metadata": {},
   "outputs": [],
   "source": [
    "# Trace with ints\n",
    "mul(tf.constant(2), tf.constant(3)).numpy()"
   ]
  },
  {
   "cell_type": "code",
   "execution_count": null,
   "metadata": {},
   "outputs": [],
   "source": [
    "# Trace with floats\n",
    "mul(tf.constant(2.0), tf.constant(3.0)).numpy()"
   ]
  },
  {
   "cell_type": "code",
   "execution_count": null,
   "metadata": {},
   "outputs": [],
   "source": [
    "# Call with ints again => no trace\n",
    "mul(tf.constant(10), tf.constant(10))"
   ]
  },
  {
   "cell_type": "code",
   "execution_count": null,
   "metadata": {},
   "outputs": [],
   "source": [
    "# Trace with vectors\n",
    "mul(tf.constant([1.0,3.0]), tf.constant(3.0)).numpy()"
   ]
  },
  {
   "cell_type": "code",
   "execution_count": null,
   "metadata": {},
   "outputs": [],
   "source": [
    "# Trace with different-sized vectors\n",
    "mul(tf.constant([1.0,2.0,3.0, 4.0]), tf.constant(3.0))"
   ]
  },
  {
   "cell_type": "markdown",
   "metadata": {},
   "source": [
    "### Immutable python objects"
   ]
  },
  {
   "cell_type": "code",
   "execution_count": null,
   "metadata": {},
   "outputs": [],
   "source": [
    "@tf.function\n",
    "def mul(a, b):\n",
    "    print('Tracing:\\n    {a}\\n    {b}\\n'.format(a=a, b=b))\n",
    "    return a*b"
   ]
  },
  {
   "cell_type": "code",
   "execution_count": null,
   "metadata": {},
   "outputs": [],
   "source": [
    "# Trace for a=3.0\n",
    "mul(3.0, tf.constant(3.0)).numpy()"
   ]
  },
  {
   "cell_type": "code",
   "execution_count": null,
   "metadata": {},
   "outputs": [],
   "source": [
    "# Don't trace for a=3.0 the second time:\n",
    "mul(3.0, tf.constant(3.0)).numpy()"
   ]
  },
  {
   "cell_type": "code",
   "execution_count": null,
   "metadata": {},
   "outputs": [],
   "source": [
    "@tf.function\n",
    "def power(a,b):\n",
    "    print('Tracing \"power\": a={}'.format(a))\n",
    "    return a**b"
   ]
  },
  {
   "cell_type": "code",
   "execution_count": null,
   "metadata": {},
   "outputs": [],
   "source": [
    "p = tf.constant(2)\n",
    "for n in range(12):\n",
    "    power(n,p)"
   ]
  },
  {
   "cell_type": "code",
   "execution_count": null,
   "metadata": {},
   "outputs": [],
   "source": [
    "p = tf.constant(2)\n",
    "for n in range(12):\n",
    "    power(n,p)"
   ]
  },
  {
   "cell_type": "code",
   "execution_count": null,
   "metadata": {},
   "outputs": [],
   "source": [
    "p = tf.constant(2)\n",
    "for n in tf.range(12):\n",
    "    power(n,p)"
   ]
  },
  {
   "cell_type": "code",
   "execution_count": null,
   "metadata": {},
   "outputs": [],
   "source": [
    "@tf.function(input_signature=(\n",
    "    tf.TensorSpec(shape=[], dtype=tf.float32),\n",
    "    tf.TensorSpec(shape=[], dtype=tf.float32),)\n",
    ")\n",
    "def power_with_sig(a,b):\n",
    "    print('Tracing \"power_with_sig\"')\n",
    "    return a**b"
   ]
  },
  {
   "cell_type": "code",
   "execution_count": null,
   "metadata": {},
   "outputs": [],
   "source": [
    "power_with_sig(3.0, 3.0).numpy()"
   ]
  },
  {
   "cell_type": "code",
   "execution_count": null,
   "metadata": {},
   "outputs": [],
   "source": [
    "try:\n",
    "    power_with_sig(tf.constant([1.0,2.0,3.0]),tf.constant(3.0))\n",
    "    assert False\n",
    "except ValueError:\n",
    "    traceback.print_exc(limit=1)"
   ]
  },
  {
   "cell_type": "markdown",
   "metadata": {},
   "source": [
    "### Example: Dropout"
   ]
  },
  {
   "cell_type": "code",
   "execution_count": null,
   "metadata": {},
   "outputs": [],
   "source": [
    "class Dropout(tf.Module):\n",
    "    def __init__(self, rate, name=None):\n",
    "        super(Dropout, self).__init__(name)\n",
    "        self.rate = tf.Variable(rate, dtype = tf.float32, trainable=False)\n",
    "\n",
    "    @tf.function\n",
    "    def __call__(self, x, training=True):\n",
    "        print(textwrap.dedent(\"\"\"\n",
    "                              Tracing \"Dropout\":\n",
    "                                  training = {}\n",
    "                                  x = {}\n",
    "                                  name = {:s}\n",
    "                              \"\"\".format(training, x, self.name)))\n",
    "        if training:\n",
    "            print('    - Train branch\\n')\n",
    "            mask = tf.random.uniform(x.shape) > self.rate\n",
    "            return x * tf.cast(mask, tf.float32)/self.rate\n",
    "        else:\n",
    "            print('    - Test branch\\n')\n",
    "            return x"
   ]
  },
  {
   "cell_type": "code",
   "execution_count": null,
   "metadata": {},
   "outputs": [],
   "source": [
    "dropout = Dropout(0.5)"
   ]
  },
  {
   "cell_type": "code",
   "execution_count": null,
   "metadata": {},
   "outputs": [],
   "source": [
    "dropout(tf.range(10, dtype=tf.float32), training=True).numpy()"
   ]
  },
  {
   "cell_type": "code",
   "execution_count": null,
   "metadata": {},
   "outputs": [],
   "source": [
    "dropout(tf.range(10, dtype=tf.float32), training=True).numpy()"
   ]
  },
  {
   "cell_type": "code",
   "execution_count": null,
   "metadata": {},
   "outputs": [],
   "source": [
    "dropout(tf.range(10, dtype=tf.float32), training=False).numpy()"
   ]
  },
  {
   "cell_type": "code",
   "execution_count": null,
   "metadata": {},
   "outputs": [],
   "source": [
    "dropout(tf.range(10, dtype=tf.float32), training=False).numpy()"
   ]
  },
  {
   "cell_type": "code",
   "execution_count": null,
   "metadata": {},
   "outputs": [],
   "source": [
    "dropout(tf.range(10, dtype=tf.float32), training=tf.constant(False)).numpy()"
   ]
  },
  {
   "cell_type": "code",
   "execution_count": null,
   "metadata": {},
   "outputs": [],
   "source": [
    " dropout(tf.range(10, dtype=tf.float32), training=tf.constant(True)).numpy()"
   ]
  },
  {
   "cell_type": "code",
   "execution_count": null,
   "metadata": {},
   "outputs": [],
   "source": [
    "dropout(tf.range(10, dtype=tf.float32), training=tf.constant(False)).numpy()"
   ]
  },
  {
   "cell_type": "markdown",
   "metadata": {},
   "source": [
    "### Other python objects"
   ]
  },
  {
   "cell_type": "code",
   "execution_count": null,
   "metadata": {},
   "outputs": [],
   "source": [
    "dropout_a = Dropout(0.5, name='dropout_a')"
   ]
  },
  {
   "cell_type": "code",
   "execution_count": null,
   "metadata": {},
   "outputs": [],
   "source": [
    "print(dropout_a(tf.range(10, dtype=tf.float32), True).numpy())\n",
    "print(dropout_a(tf.range(10, dtype=tf.float32), True).numpy())"
   ]
  },
  {
   "cell_type": "code",
   "execution_count": null,
   "metadata": {},
   "outputs": [],
   "source": [
    "dropout_b = Dropout(0.5, name='dropout_b')"
   ]
  },
  {
   "cell_type": "code",
   "execution_count": null,
   "metadata": {},
   "outputs": [],
   "source": [
    "print(dropout_b(tf.range(10, dtype=tf.float32), True).numpy())\n",
    "print(dropout_b(tf.range(10, dtype=tf.float32), True).numpy())"
   ]
  },
  {
   "cell_type": "code",
   "execution_count": null,
   "metadata": {},
   "outputs": [],
   "source": [
    "@tf.function\n",
    "def run(callable, x):\n",
    "    print('Tracing \"run\":\\n    callable = {}\\n    x = {}\\n'.format(callable, x))\n",
    "    return callable(x)"
   ]
  },
  {
   "cell_type": "code",
   "execution_count": null,
   "metadata": {},
   "outputs": [],
   "source": [
    "def plus_1(x):\n",
    "    return x+1\n",
    "\n",
    "print(run(plus_1, tf.constant(2.0)).numpy())\n",
    "print(run(plus_1, tf.constant(5.0)).numpy())"
   ]
  },
  {
   "cell_type": "code",
   "execution_count": null,
   "metadata": {},
   "outputs": [],
   "source": [
    "print(run(dropout, tf.range(10.0)).numpy())\n",
    "print(run(dropout, tf.range(10.0)).numpy())"
   ]
  },
  {
   "cell_type": "markdown",
   "metadata": {},
   "source": [
    "### Weak references"
   ]
  },
  {
   "cell_type": "code",
   "execution_count": null,
   "metadata": {},
   "outputs": [],
   "source": [
    "@tf.function\n",
    "def plus_var(x):\n",
    "    print('Tracing \"plus_var\":\\n    x = {}\\n    var = {}\\n\\n'.format(x, var.name))\n",
    "    return x + var"
   ]
  },
  {
   "cell_type": "code",
   "execution_count": null,
   "metadata": {},
   "outputs": [],
   "source": [
    "var = tf.Variable(1, name=\"IntVar\")\n",
    "plus_var(tf.constant([1,2])).numpy()"
   ]
  },
  {
   "cell_type": "code",
   "execution_count": null,
   "metadata": {},
   "outputs": [],
   "source": [
    "var = tf.Variable(2.0, name=\"FloatVar\")\n",
    "plus_var(tf.constant([2.0, 10.0])).numpy()"
   ]
  },
  {
   "cell_type": "code",
   "execution_count": null,
   "metadata": {},
   "outputs": [],
   "source": [
    "try:\n",
    "    plus_var(tf.constant([1,2])).numpy()\n",
    "    assert False\n",
    "except tf.errors.FailedPreconditionError:\n",
    "    traceback.print_exc(limit=1)"
   ]
  },
  {
   "cell_type": "markdown",
   "metadata": {},
   "source": [
    "## Accessing concrete function"
   ]
  },
  {
   "cell_type": "markdown",
   "metadata": {},
   "source": [
    "#### Using input_signature"
   ]
  },
  {
   "cell_type": "code",
   "execution_count": null,
   "metadata": {},
   "outputs": [],
   "source": [
    "@tf.function(input_signature=(\n",
    "    tf.TensorSpec(shape=[None], dtype=tf.float32),\n",
    "    tf.TensorSpec(shape=[None], dtype=tf.float32),)\n",
    ")\n",
    "def power_with_sig(a,b):\n",
    "    print('Tracing \"power_with_sig\"\\n')\n",
    "    return a**b"
   ]
  },
  {
   "cell_type": "code",
   "execution_count": null,
   "metadata": {},
   "outputs": [],
   "source": [
    "p = power_with_sig.get_concrete_function()\n",
    "type(p)"
   ]
  },
  {
   "cell_type": "code",
   "execution_count": null,
   "metadata": {},
   "outputs": [],
   "source": [
    "p(tf.constant([2.0,3.0,4.0]), tf.constant([5.0,4.0,3.0])).numpy()"
   ]
  },
  {
   "cell_type": "markdown",
   "metadata": {},
   "source": [
    "### Using get_concrete_function"
   ]
  },
  {
   "cell_type": "code",
   "execution_count": null,
   "metadata": {},
   "outputs": [],
   "source": [
    "@tf.function\n",
    "def power(a,b):\n",
    "    print('Tracing \"power\"\\n')\n",
    "    return a**b"
   ]
  },
  {
   "cell_type": "code",
   "execution_count": null,
   "metadata": {},
   "outputs": [],
   "source": [
    "float_power = power.get_concrete_function(\n",
    "  a = tf.TensorSpec(shape=[], dtype=tf.float32),\n",
    "  b = tf.TensorSpec(shape=[], dtype=tf.float32))"
   ]
  },
  {
   "cell_type": "code",
   "execution_count": null,
   "metadata": {},
   "outputs": [],
   "source": [
    "float_power(tf.constant(3.0),tf.constant(3.0))"
   ]
  },
  {
   "cell_type": "code",
   "execution_count": null,
   "metadata": {},
   "outputs": [],
   "source": [
    "row = tf.range(10)\n",
    "col = tf.constant([[1],[2],[3]])\n",
    "\n",
    "concrete_power = power.get_concrete_function(a = row, b = col)\n",
    "concrete_power(row, col).numpy()"
   ]
  },
  {
   "cell_type": "markdown",
   "metadata": {},
   "source": [
    "## Using a concrete function"
   ]
  },
  {
   "cell_type": "code",
   "execution_count": null,
   "metadata": {},
   "outputs": [],
   "source": [
    "float_power(tf.constant(2.0), tf.constant(3.0)).numpy()"
   ]
  },
  {
   "cell_type": "code",
   "execution_count": null,
   "metadata": {},
   "outputs": [],
   "source": [
    "try:\n",
    "    float_power(2.0,3.0)\n",
    "    assert False\n",
    "except ValueError:\n",
    "    traceback.print_exc(limit=1)"
   ]
  },
  {
   "cell_type": "code",
   "execution_count": null,
   "metadata": {},
   "outputs": [],
   "source": [
    "try:\n",
    "    float_power(tf.constant(1),tf.constant(3))\n",
    "    assert False\n",
    "except tf.errors.InvalidArgumentError:\n",
    "    traceback.print_exc(limit=1)"
   ]
  },
  {
   "cell_type": "code",
   "execution_count": null,
   "metadata": {},
   "outputs": [],
   "source": [
    "float_power(tf.constant([1.,2.,3.,4.,5.]),tf.constant(3.)).numpy()"
   ]
  },
  {
   "cell_type": "code",
   "execution_count": null,
   "metadata": {},
   "outputs": [],
   "source": [
    "try:\n",
    "    float_power(tf.constant([1.,2.,3.]),tf.constant([4., 5.])).numpy()\n",
    "    assert False\n",
    "except tf.errors.InvalidArgumentError:  \n",
    "    traceback.print_exc(limit=1)"
   ]
  },
  {
   "cell_type": "code",
   "execution_count": null,
   "metadata": {},
   "outputs": [],
   "source": [
    "print(float_power.structured_input_signature)\n",
    "print(float_power.structured_outputs)"
   ]
  },
  {
   "cell_type": "markdown",
   "metadata": {},
   "source": [
    "## Python Objects in signatures"
   ]
  },
  {
   "cell_type": "code",
   "execution_count": null,
   "metadata": {},
   "outputs": [],
   "source": [
    "cube = power.get_concrete_function(\n",
    "    a = tf.TensorSpec([], dtype=tf.float32),\n",
    "    b = 3.0)"
   ]
  },
  {
   "cell_type": "code",
   "execution_count": null,
   "metadata": {},
   "outputs": [],
   "source": [
    "print(cube.structured_input_signature)"
   ]
  },
  {
   "cell_type": "code",
   "execution_count": null,
   "metadata": {},
   "outputs": [],
   "source": [
    "cube(tf.constant(10.0)).numpy()"
   ]
  },
  {
   "cell_type": "code",
   "execution_count": null,
   "metadata": {},
   "outputs": [],
   "source": [
    "class Greeter(object):\n",
    "    def __init__(self, greeting):\n",
    "        self.greeting = greeting\n",
    "\n",
    "    def greet(self, who):\n",
    "        return \" \".join([self.greeting, who])\n",
    "\n",
    "p = Greeter(\"Hello\")\n",
    "m = p.greet\n",
    "print(m)"
   ]
  },
  {
   "cell_type": "code",
   "execution_count": null,
   "metadata": {},
   "outputs": [],
   "source": [
    "print(m(\"TensorFlow!\"))"
   ]
  },
  {
   "cell_type": "code",
   "execution_count": null,
   "metadata": {},
   "outputs": [],
   "source": [
    "class MyModel(tf.Module):\n",
    "    def __init__(self, ins, outs):\n",
    "        initializer = tf.initializers.GlorotNormal()\n",
    "        self.W = tf.Variable(initializer([ins, outs]))\n",
    "        self.B = tf.Variable(tf.zeros([outs], dtype = tf.float32))\n",
    "\n",
    "    @tf.function\n",
    "    def run(self, x):\n",
    "        print('Tracing \"MyModule\":\\n    x={}\\n'.format(x))\n",
    "        return tf.matmul(x, self.W)+self.B"
   ]
  },
  {
   "cell_type": "code",
   "execution_count": null,
   "metadata": {},
   "outputs": [],
   "source": [
    "mod = MyModel(ins=5, outs=3)"
   ]
  },
  {
   "cell_type": "code",
   "execution_count": null,
   "metadata": {},
   "outputs": [],
   "source": [
    "mod.run([[1.0,1.0,1.0, 1.0, 1.0]]).numpy()"
   ]
  },
  {
   "cell_type": "code",
   "execution_count": null,
   "metadata": {},
   "outputs": [],
   "source": [
    "concrete_run = mod.run.get_concrete_function(x = tf.TensorSpec([None, None]))"
   ]
  },
  {
   "cell_type": "code",
   "execution_count": null,
   "metadata": {},
   "outputs": [],
   "source": [
    "concrete_run(tf.constant([[1.0,1.0,1.0, 1.0, 1.0],\n",
    "                          [2.0,2.0,2.0, 2.0, 2.0]])).numpy()"
   ]
  },
  {
   "cell_type": "code",
   "execution_count": null,
   "metadata": {},
   "outputs": [],
   "source": [
    "print(concrete_run.structured_input_signature)\n",
    "print(concrete_run.structured_outputs)"
   ]
  },
  {
   "cell_type": "markdown",
   "metadata": {},
   "source": [
    "## Accessing concrete functions from a SavedModel"
   ]
  },
  {
   "cell_type": "code",
   "execution_count": null,
   "metadata": {},
   "outputs": [],
   "source": [
    "dropout = Dropout(0.5)\n",
    "\n",
    "_ = dropout(tf.range(10, dtype=tf.float32), tf.constant(True))\n",
    "_ = dropout(tf.random.normal([2, 3]), tf.constant(True))"
   ]
  },
  {
   "cell_type": "code",
   "execution_count": null,
   "metadata": {},
   "outputs": [],
   "source": [
    "export_dir = 'dropout'\n",
    "tf.saved_model.save(dropout, export_dir)"
   ]
  },
  {
   "cell_type": "markdown",
   "metadata": {},
   "source": [
    "### Direct access"
   ]
  },
  {
   "cell_type": "code",
   "execution_count": null,
   "metadata": {},
   "outputs": [],
   "source": [
    "reloaded_dropout = tf.saved_model.load(export_dir)"
   ]
  },
  {
   "cell_type": "code",
   "execution_count": null,
   "metadata": {},
   "outputs": [],
   "source": [
    "print(reloaded_dropout(tf.range(10, dtype=tf.float32), tf.constant(False)).numpy())\n",
    "print(reloaded_dropout(tf.random.normal([2,3]), tf.constant(True)).numpy())"
   ]
  },
  {
   "cell_type": "code",
   "execution_count": null,
   "metadata": {},
   "outputs": [],
   "source": [
    "try:\n",
    "    reloaded_dropout(tf.range(12, dtype=tf.float32), tf.constant(True))\n",
    "    assert False\n",
    "except ValueError:\n",
    "    traceback.print_exc(limit=1)"
   ]
  },
  {
   "cell_type": "code",
   "execution_count": null,
   "metadata": {},
   "outputs": [],
   "source": [
    "cf = reloaded_dropout.__call__.get_concrete_function(\n",
    "    x = tf.TensorSpec([10]), \n",
    "    training = tf.TensorSpec([], tf.bool))"
   ]
  },
  {
   "cell_type": "code",
   "execution_count": null,
   "metadata": {},
   "outputs": [],
   "source": [
    "result = cf(tf.range(10, dtype=tf.float32), tf.constant(True)).numpy()\n",
    "print(result)"
   ]
  },
  {
   "cell_type": "markdown",
   "metadata": {},
   "source": [
    "### Named signatures: Exporting for C++"
   ]
  },
  {
   "cell_type": "markdown",
   "metadata": {},
   "source": [
    "#### Simple example"
   ]
  },
  {
   "cell_type": "code",
   "execution_count": null,
   "metadata": {},
   "outputs": [],
   "source": [
    "dropout = Dropout(0.5)"
   ]
  },
  {
   "cell_type": "code",
   "execution_count": null,
   "metadata": {},
   "outputs": [],
   "source": [
    "cf = dropout.__call__.get_concrete_function(tf.zeros((2,3), dtype=tf.float32), tf.constant(False))\n",
    "\n",
    "import time\n",
    "export_dir = \"./saved/\" # +str(time.time())\n",
    "\n",
    "tf.saved_model.save(dropout, export_dir, signatures = cf)"
   ]
  },
  {
   "cell_type": "code",
   "execution_count": null,
   "metadata": {},
   "outputs": [],
   "source": [
    "reloaded = tf.saved_model.load(export_dir)\n",
    "\n",
    "print(reloaded.signatures)"
   ]
  },
  {
   "cell_type": "code",
   "execution_count": null,
   "metadata": {},
   "outputs": [],
   "source": [
    "cf = reloaded.signatures[tf.saved_model.DEFAULT_SERVING_SIGNATURE_DEF_KEY]\n",
    "result = cf(x=tf.random.normal([2,3]), training=tf.constant(True))\n",
    "\n",
    "print(result)"
   ]
  },
  {
   "cell_type": "code",
   "execution_count": null,
   "metadata": {},
   "outputs": [],
   "source": [
    "cf.structured_outputs"
   ]
  },
  {
   "cell_type": "markdown",
   "metadata": {},
   "source": [
    "#### Example: Setting the output names"
   ]
  },
  {
   "cell_type": "code",
   "execution_count": null,
   "metadata": {},
   "outputs": [],
   "source": [
    "@tf.function\n",
    "def named_result(x, training=True):\n",
    "    return {'dropout': dropout(x, training)}\n",
    "\n",
    "dropout.named_result = named_result\n",
    "\n",
    "cf = dropout.named_result.get_concrete_function(tf.zeros((2,3), dtype=tf.float32),\n",
    "                                                tf.constant(False))"
   ]
  },
  {
   "cell_type": "markdown",
   "metadata": {},
   "source": [
    "#### Example: Setting the signature names"
   ]
  },
  {
   "cell_type": "code",
   "execution_count": null,
   "metadata": {},
   "outputs": [],
   "source": [
    "export_dir = \"./saved/\"  # +str(time.time())\n",
    "tf.saved_model.save(dropout, export_dir, signatures = {'simple':cf})"
   ]
  },
  {
   "cell_type": "code",
   "execution_count": null,
   "metadata": {},
   "outputs": [],
   "source": [
    "reloaded = tf.saved_model.load(export_dir)\n",
    "cf = reloaded.signatures['simple']\n",
    "result = cf(x=tf.random.normal([2,3]), training=tf.constant(True))\n",
    "\n",
    "print({key:value.numpy() for key,value in result.items()})"
   ]
  },
  {
   "cell_type": "code",
   "execution_count": null,
   "metadata": {},
   "outputs": [],
   "source": [
    "vector = dropout.__call__.get_concrete_function(tf.TensorSpec((2,3), dtype=tf.float32), tf.constant(False))\n",
    "matrix = dropout.__call__.get_concrete_function(tf.TensorSpec((2,3), dtype=tf.float32), tf.constant(False))\n",
    "cube = dropout.__call__.get_concrete_function(tf.TensorSpec((2,3), dtype=tf.float32), tf.constant(False))\n",
    "\n",
    "export_dir = \"./saved/\" # +str(time.time())\n",
    "\n",
    "tf.saved_model.save(dropout, export_dir, \n",
    "                    signatures = {\n",
    "                        \"vector\": vector,\n",
    "                        \"matrix\": matrix,\n",
    "                        \"cube\": cube\n",
    "                    })"
   ]
  },
  {
   "cell_type": "code",
   "execution_count": null,
   "metadata": {},
   "outputs": [],
   "source": [
    "reloaded = tf.saved_model.load(export_dir)\n",
    "print('{}'.format(reloaded.signatures).replace(\"{\",\"{\\n    \").replace(\">, \", \">,\\n    \"))"
   ]
  }
 ],
 "metadata": {
  "kernelspec": {
   "display_name": "Python 3",
   "language": "python",
   "name": "python3"
  },
  "language_info": {
   "codemirror_mode": {
    "name": "ipython",
    "version": 3
   },
   "file_extension": ".py",
   "mimetype": "text/x-python",
   "name": "python",
   "nbconvert_exporter": "python",
   "pygments_lexer": "ipython3",
   "version": "3.7.4"
  }
 },
 "nbformat": 4,
 "nbformat_minor": 2
}
