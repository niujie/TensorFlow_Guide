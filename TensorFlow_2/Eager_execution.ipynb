{
 "cells": [
  {
   "source": [
    "# Eager execution\n",
    "## Setup and basic usage"
   ],
   "cell_type": "markdown",
   "metadata": {}
  },
  {
   "cell_type": "code",
   "execution_count": 1,
   "metadata": {},
   "outputs": [],
   "source": [
    "import os\n",
    "import tensorflow as tf\n",
    "import cProfile\n",
    "\n",
    "physical_devices = tf.config.list_physical_devices('GPU')\n",
    "tf.config.experimental.set_memory_growth(physical_devices[0], True)"
   ]
  },
  {
   "cell_type": "code",
   "execution_count": 2,
   "metadata": {},
   "outputs": [
    {
     "output_type": "execute_result",
     "data": {
      "text/plain": [
       "True"
      ]
     },
     "metadata": {},
     "execution_count": 2
    }
   ],
   "source": [
    "tf.executing_eagerly()"
   ]
  },
  {
   "cell_type": "code",
   "execution_count": 3,
   "metadata": {},
   "outputs": [
    {
     "output_type": "stream",
     "name": "stdout",
     "text": [
      "hello, [[4.]]\n"
     ]
    }
   ],
   "source": [
    "x = [[2.]]\n",
    "m = tf.matmul(x, x)\n",
    "print(f\"hello, {m}\")"
   ]
  },
  {
   "cell_type": "code",
   "execution_count": 4,
   "metadata": {},
   "outputs": [
    {
     "output_type": "stream",
     "name": "stdout",
     "text": [
      "tf.Tensor(\n[[1 2]\n [3 4]], shape=(2, 2), dtype=int32)\n"
     ]
    }
   ],
   "source": [
    "a = tf.constant([[1, 2],\n",
    "                 [3, 4]])\n",
    "print(a)"
   ]
  },
  {
   "cell_type": "code",
   "execution_count": 5,
   "metadata": {},
   "outputs": [
    {
     "output_type": "stream",
     "name": "stdout",
     "text": [
      "tf.Tensor(\n[[2 3]\n [4 5]], shape=(2, 2), dtype=int32)\n"
     ]
    }
   ],
   "source": [
    "# Broadcasting support\n",
    "b = tf.add(a, 1)\n",
    "print(b)"
   ]
  },
  {
   "cell_type": "code",
   "execution_count": 6,
   "metadata": {},
   "outputs": [
    {
     "output_type": "stream",
     "name": "stdout",
     "text": [
      "tf.Tensor(\n[[ 2  6]\n [12 20]], shape=(2, 2), dtype=int32)\n"
     ]
    }
   ],
   "source": [
    "# Operator overloading is supported\n",
    "print(a * b)"
   ]
  },
  {
   "cell_type": "code",
   "execution_count": 7,
   "metadata": {},
   "outputs": [
    {
     "output_type": "stream",
     "name": "stdout",
     "text": [
      "[[ 2  6]\n [12 20]]\n"
     ]
    }
   ],
   "source": [
    "# Use NumPy values\n",
    "import numpy as np\n",
    "\n",
    "c = np.multiply(a, b)\n",
    "print(c)"
   ]
  },
  {
   "cell_type": "code",
   "execution_count": 8,
   "metadata": {},
   "outputs": [
    {
     "output_type": "stream",
     "name": "stdout",
     "text": [
      "[[1 2]\n [3 4]]\n"
     ]
    }
   ],
   "source": [
    "# Obtain numpy value from a tensor\n",
    "print(a.numpy())"
   ]
  },
  {
   "source": [
    "## Dynamic control flow"
   ],
   "cell_type": "markdown",
   "metadata": {}
  },
  {
   "cell_type": "code",
   "execution_count": 9,
   "metadata": {},
   "outputs": [],
   "source": [
    "def fizzbuzz(max_num):\n",
    "    counter = tf.constant(0)\n",
    "    max_num = tf.convert_to_tensor(max_num)\n",
    "    for num in range(1, max_num.numpy()+1):\n",
    "        num = tf.constant(num)\n",
    "        if int(num % 3) == 0 and int(num % 5) == 0:\n",
    "            print('FizzBuzz')\n",
    "        elif int(num % 3) == 0:\n",
    "            print('Fizz')\n",
    "        elif int(num % 5) == 0:\n",
    "            print('Buzz')\n",
    "        else:\n",
    "            print(num.numpy())\n",
    "        counter += 1"
   ]
  },
  {
   "cell_type": "code",
   "execution_count": 10,
   "metadata": {},
   "outputs": [
    {
     "output_type": "stream",
     "name": "stdout",
     "text": [
      "1\n2\nFizz\n4\nBuzz\nFizz\n7\n8\nFizz\nBuzz\n11\nFizz\n13\n14\nFizzBuzz\n"
     ]
    }
   ],
   "source": [
    "fizzbuzz(15)"
   ]
  },
  {
   "source": [
    "## Eager training\n",
    "### Computing gradients"
   ],
   "cell_type": "markdown",
   "metadata": {}
  },
  {
   "cell_type": "code",
   "execution_count": 11,
   "metadata": {},
   "outputs": [
    {
     "output_type": "stream",
     "name": "stdout",
     "text": [
      "tf.Tensor([[2.]], shape=(1, 1), dtype=float32)\n"
     ]
    }
   ],
   "source": [
    "w = tf.Variable([[1.0]])\n",
    "with tf.GradientTape() as tape:\n",
    "    loss = w * w\n",
    "\n",
    "grad = tape.gradient(loss, w)\n",
    "print(grad)     # => tf.Tensor([[ 2.]], shape=(1, 1), dtype=float32)"
   ]
  },
  {
   "source": [
    "### Train a model"
   ],
   "cell_type": "markdown",
   "metadata": {}
  },
  {
   "cell_type": "code",
   "execution_count": 2,
   "metadata": {},
   "outputs": [],
   "source": [
    "# Fetch and format the mnist data\n",
    "(mnist_images, mnist_labels), _ = tf.keras.datasets.mnist.load_data()\n",
    "\n",
    "dataset = tf.data.Dataset.from_tensor_slices(\n",
    "    (tf.cast(mnist_images[..., tf.newaxis]/255, tf.float32),\n",
    "    tf.cast(mnist_labels, tf.int64)))\n",
    "dataset = dataset.shuffle(1000).batch(32)"
   ]
  },
  {
   "cell_type": "code",
   "execution_count": 3,
   "metadata": {},
   "outputs": [],
   "source": [
    "# Build the model\n",
    "mnist_model = tf.keras.Sequential([\n",
    "    tf.keras.layers.Conv2D(16, [3, 3], activation='relu',\n",
    "                            input_shape=(None, None, 1)),\n",
    "    tf.keras.layers.Conv2D(16, [3, 3], activation='relu'),\n",
    "    tf.keras.layers.GlobalAveragePooling2D(),\n",
    "    tf.keras.layers.Dense(10)\n",
    "])"
   ]
  },
  {
   "cell_type": "code",
   "execution_count": 4,
   "metadata": {},
   "outputs": [
    {
     "output_type": "stream",
     "name": "stdout",
     "text": [
      "Logits:  [[-0.01018761  0.01772876  0.0213014   0.00684064 -0.03205892 -0.05122165\n  -0.00835354  0.00340477 -0.02160832 -0.01486837]]\n"
     ]
    }
   ],
   "source": [
    "for images, labels in dataset.take(1):\n",
    "    print(\"Logits: \", mnist_model(images[0:1]).numpy())"
   ]
  },
  {
   "cell_type": "code",
   "execution_count": 5,
   "metadata": {},
   "outputs": [],
   "source": [
    "optimizer = tf.keras.optimizers.Adam()\n",
    "loss_object = tf.keras.losses.SparseCategoricalCrossentropy(from_logits=True)\n",
    "\n",
    "loss_history = []"
   ]
  },
  {
   "cell_type": "code",
   "execution_count": 6,
   "metadata": {},
   "outputs": [],
   "source": [
    "def train_step(images, labels):\n",
    "    with tf.GradientTape() as tape:\n",
    "        logits = mnist_model(images, training=True)\n",
    "        \n",
    "        # Add asserts to check the shape of the output.\n",
    "        tf.debugging.assert_equal(logits.shape, (32, 10))\n",
    "        \n",
    "        loss_value = loss_object(labels, logits)\n",
    "    \n",
    "    loss_history.append(loss_value.numpy().mean())\n",
    "    grads = tape.gradient(loss_value, mnist_model.trainable_variables)\n",
    "    optimizer.apply_gradients(zip(grads, mnist_model.trainable_variables))"
   ]
  },
  {
   "cell_type": "code",
   "execution_count": 7,
   "metadata": {},
   "outputs": [],
   "source": [
    "def train(epochs):\n",
    "    for epoch in range(epochs):\n",
    "        for (batch, (images, labels)) in enumerate(dataset):\n",
    "            train_step(images, labels)\n",
    "        print ('Epoch {} finished'.format(epoch))"
   ]
  },
  {
   "cell_type": "code",
   "execution_count": 8,
   "metadata": {},
   "outputs": [
    {
     "output_type": "stream",
     "name": "stdout",
     "text": [
      "Epoch 0 finished\n",
      "Epoch 1 finished\n",
      "Epoch 2 finished\n"
     ]
    }
   ],
   "source": [
    "train(epochs = 3)"
   ]
  },
  {
   "cell_type": "code",
   "execution_count": 10,
   "metadata": {},
   "outputs": [
    {
     "output_type": "execute_result",
     "data": {
      "text/plain": [
       "Text(0, 0.5, 'Loss [entropy]')"
      ]
     },
     "metadata": {},
     "execution_count": 10
    },
    {
     "output_type": "display_data",
     "data": {
      "text/plain": "<Figure size 432x288 with 1 Axes>",
      "image/svg+xml": "<?xml version=\"1.0\" encoding=\"utf-8\" standalone=\"no\"?>\r\n<!DOCTYPE svg PUBLIC \"-//W3C//DTD SVG 1.1//EN\"\r\n  \"http://www.w3.org/Graphics/SVG/1.1/DTD/svg11.dtd\">\r\n<!-- Created with matplotlib (https://matplotlib.org/) -->\r\n<svg height=\"262.19625pt\" version=\"1.1\" viewBox=\"0 0 392.14375 262.19625\" width=\"392.14375pt\" xmlns=\"http://www.w3.org/2000/svg\" xmlns:xlink=\"http://www.w3.org/1999/xlink\">\r\n <metadata>\r\n  <rdf:RDF xmlns:cc=\"http://creativecommons.org/ns#\" xmlns:dc=\"http://purl.org/dc/elements/1.1/\" xmlns:rdf=\"http://www.w3.org/1999/02/22-rdf-syntax-ns#\">\r\n   <cc:Work>\r\n    <dc:type rdf:resource=\"http://purl.org/dc/dcmitype/StillImage\"/>\r\n    <dc:date>2021-03-19T15:47:03.960561</dc:date>\r\n    <dc:format>image/svg+xml</dc:format>\r\n    <dc:creator>\r\n     <cc:Agent>\r\n      <dc:title>Matplotlib v3.3.4, https://matplotlib.org/</dc:title>\r\n     </cc:Agent>\r\n    </dc:creator>\r\n   </cc:Work>\r\n  </rdf:RDF>\r\n </metadata>\r\n <defs>\r\n  <style type=\"text/css\">*{stroke-linecap:butt;stroke-linejoin:round;}</style>\r\n </defs>\r\n <g id=\"figure_1\">\r\n  <g id=\"patch_1\">\r\n   <path d=\"M 0 262.19625 \r\nL 392.14375 262.19625 \r\nL 392.14375 0 \r\nL 0 0 \r\nz\r\n\" style=\"fill:none;\"/>\r\n  </g>\r\n  <g id=\"axes_1\">\r\n   <g id=\"patch_2\">\r\n    <path d=\"M 50.14375 224.64 \r\nL 384.94375 224.64 \r\nL 384.94375 7.2 \r\nL 50.14375 7.2 \r\nz\r\n\" style=\"fill:#ffffff;\"/>\r\n   </g>\r\n   <g id=\"matplotlib.axis_1\">\r\n    <g id=\"xtick_1\">\r\n     <g id=\"line2d_1\">\r\n      <defs>\r\n       <path d=\"M 0 0 \r\nL 0 3.5 \r\n\" id=\"m6820d6a5c4\" style=\"stroke:#000000;stroke-width:0.8;\"/>\r\n      </defs>\r\n      <g>\r\n       <use style=\"stroke:#000000;stroke-width:0.8;\" x=\"65.361932\" xlink:href=\"#m6820d6a5c4\" y=\"224.64\"/>\r\n      </g>\r\n     </g>\r\n     <g id=\"text_1\">\r\n      <!-- 0 -->\r\n      <g transform=\"translate(62.180682 239.238437)scale(0.1 -0.1)\">\r\n       <defs>\r\n        <path d=\"M 31.78125 66.40625 \r\nQ 24.171875 66.40625 20.328125 58.90625 \r\nQ 16.5 51.421875 16.5 36.375 \r\nQ 16.5 21.390625 20.328125 13.890625 \r\nQ 24.171875 6.390625 31.78125 6.390625 \r\nQ 39.453125 6.390625 43.28125 13.890625 \r\nQ 47.125 21.390625 47.125 36.375 \r\nQ 47.125 51.421875 43.28125 58.90625 \r\nQ 39.453125 66.40625 31.78125 66.40625 \r\nz\r\nM 31.78125 74.21875 \r\nQ 44.046875 74.21875 50.515625 64.515625 \r\nQ 56.984375 54.828125 56.984375 36.375 \r\nQ 56.984375 17.96875 50.515625 8.265625 \r\nQ 44.046875 -1.421875 31.78125 -1.421875 \r\nQ 19.53125 -1.421875 13.0625 8.265625 \r\nQ 6.59375 17.96875 6.59375 36.375 \r\nQ 6.59375 54.828125 13.0625 64.515625 \r\nQ 19.53125 74.21875 31.78125 74.21875 \r\nz\r\n\" id=\"DejaVuSans-48\"/>\r\n       </defs>\r\n       <use xlink:href=\"#DejaVuSans-48\"/>\r\n      </g>\r\n     </g>\r\n    </g>\r\n    <g id=\"xtick_2\">\r\n     <g id=\"line2d_2\">\r\n      <g>\r\n       <use style=\"stroke:#000000;stroke-width:0.8;\" x=\"119.480644\" xlink:href=\"#m6820d6a5c4\" y=\"224.64\"/>\r\n      </g>\r\n     </g>\r\n     <g id=\"text_2\">\r\n      <!-- 1000 -->\r\n      <g transform=\"translate(106.755644 239.238437)scale(0.1 -0.1)\">\r\n       <defs>\r\n        <path d=\"M 12.40625 8.296875 \r\nL 28.515625 8.296875 \r\nL 28.515625 63.921875 \r\nL 10.984375 60.40625 \r\nL 10.984375 69.390625 \r\nL 28.421875 72.90625 \r\nL 38.28125 72.90625 \r\nL 38.28125 8.296875 \r\nL 54.390625 8.296875 \r\nL 54.390625 0 \r\nL 12.40625 0 \r\nz\r\n\" id=\"DejaVuSans-49\"/>\r\n       </defs>\r\n       <use xlink:href=\"#DejaVuSans-49\"/>\r\n       <use x=\"63.623047\" xlink:href=\"#DejaVuSans-48\"/>\r\n       <use x=\"127.246094\" xlink:href=\"#DejaVuSans-48\"/>\r\n       <use x=\"190.869141\" xlink:href=\"#DejaVuSans-48\"/>\r\n      </g>\r\n     </g>\r\n    </g>\r\n    <g id=\"xtick_3\">\r\n     <g id=\"line2d_3\">\r\n      <g>\r\n       <use style=\"stroke:#000000;stroke-width:0.8;\" x=\"173.599356\" xlink:href=\"#m6820d6a5c4\" y=\"224.64\"/>\r\n      </g>\r\n     </g>\r\n     <g id=\"text_3\">\r\n      <!-- 2000 -->\r\n      <g transform=\"translate(160.874356 239.238437)scale(0.1 -0.1)\">\r\n       <defs>\r\n        <path d=\"M 19.1875 8.296875 \r\nL 53.609375 8.296875 \r\nL 53.609375 0 \r\nL 7.328125 0 \r\nL 7.328125 8.296875 \r\nQ 12.9375 14.109375 22.625 23.890625 \r\nQ 32.328125 33.6875 34.8125 36.53125 \r\nQ 39.546875 41.84375 41.421875 45.53125 \r\nQ 43.3125 49.21875 43.3125 52.78125 \r\nQ 43.3125 58.59375 39.234375 62.25 \r\nQ 35.15625 65.921875 28.609375 65.921875 \r\nQ 23.96875 65.921875 18.8125 64.3125 \r\nQ 13.671875 62.703125 7.8125 59.421875 \r\nL 7.8125 69.390625 \r\nQ 13.765625 71.78125 18.9375 73 \r\nQ 24.125 74.21875 28.421875 74.21875 \r\nQ 39.75 74.21875 46.484375 68.546875 \r\nQ 53.21875 62.890625 53.21875 53.421875 \r\nQ 53.21875 48.921875 51.53125 44.890625 \r\nQ 49.859375 40.875 45.40625 35.40625 \r\nQ 44.1875 33.984375 37.640625 27.21875 \r\nQ 31.109375 20.453125 19.1875 8.296875 \r\nz\r\n\" id=\"DejaVuSans-50\"/>\r\n       </defs>\r\n       <use xlink:href=\"#DejaVuSans-50\"/>\r\n       <use x=\"63.623047\" xlink:href=\"#DejaVuSans-48\"/>\r\n       <use x=\"127.246094\" xlink:href=\"#DejaVuSans-48\"/>\r\n       <use x=\"190.869141\" xlink:href=\"#DejaVuSans-48\"/>\r\n      </g>\r\n     </g>\r\n    </g>\r\n    <g id=\"xtick_4\">\r\n     <g id=\"line2d_4\">\r\n      <g>\r\n       <use style=\"stroke:#000000;stroke-width:0.8;\" x=\"227.718068\" xlink:href=\"#m6820d6a5c4\" y=\"224.64\"/>\r\n      </g>\r\n     </g>\r\n     <g id=\"text_4\">\r\n      <!-- 3000 -->\r\n      <g transform=\"translate(214.993068 239.238437)scale(0.1 -0.1)\">\r\n       <defs>\r\n        <path d=\"M 40.578125 39.3125 \r\nQ 47.65625 37.796875 51.625 33 \r\nQ 55.609375 28.21875 55.609375 21.1875 \r\nQ 55.609375 10.40625 48.1875 4.484375 \r\nQ 40.765625 -1.421875 27.09375 -1.421875 \r\nQ 22.515625 -1.421875 17.65625 -0.515625 \r\nQ 12.796875 0.390625 7.625 2.203125 \r\nL 7.625 11.71875 \r\nQ 11.71875 9.328125 16.59375 8.109375 \r\nQ 21.484375 6.890625 26.8125 6.890625 \r\nQ 36.078125 6.890625 40.9375 10.546875 \r\nQ 45.796875 14.203125 45.796875 21.1875 \r\nQ 45.796875 27.640625 41.28125 31.265625 \r\nQ 36.765625 34.90625 28.71875 34.90625 \r\nL 20.21875 34.90625 \r\nL 20.21875 43.015625 \r\nL 29.109375 43.015625 \r\nQ 36.375 43.015625 40.234375 45.921875 \r\nQ 44.09375 48.828125 44.09375 54.296875 \r\nQ 44.09375 59.90625 40.109375 62.90625 \r\nQ 36.140625 65.921875 28.71875 65.921875 \r\nQ 24.65625 65.921875 20.015625 65.03125 \r\nQ 15.375 64.15625 9.8125 62.3125 \r\nL 9.8125 71.09375 \r\nQ 15.4375 72.65625 20.34375 73.4375 \r\nQ 25.25 74.21875 29.59375 74.21875 \r\nQ 40.828125 74.21875 47.359375 69.109375 \r\nQ 53.90625 64.015625 53.90625 55.328125 \r\nQ 53.90625 49.265625 50.4375 45.09375 \r\nQ 46.96875 40.921875 40.578125 39.3125 \r\nz\r\n\" id=\"DejaVuSans-51\"/>\r\n       </defs>\r\n       <use xlink:href=\"#DejaVuSans-51\"/>\r\n       <use x=\"63.623047\" xlink:href=\"#DejaVuSans-48\"/>\r\n       <use x=\"127.246094\" xlink:href=\"#DejaVuSans-48\"/>\r\n       <use x=\"190.869141\" xlink:href=\"#DejaVuSans-48\"/>\r\n      </g>\r\n     </g>\r\n    </g>\r\n    <g id=\"xtick_5\">\r\n     <g id=\"line2d_5\">\r\n      <g>\r\n       <use style=\"stroke:#000000;stroke-width:0.8;\" x=\"281.83678\" xlink:href=\"#m6820d6a5c4\" y=\"224.64\"/>\r\n      </g>\r\n     </g>\r\n     <g id=\"text_5\">\r\n      <!-- 4000 -->\r\n      <g transform=\"translate(269.11178 239.238437)scale(0.1 -0.1)\">\r\n       <defs>\r\n        <path d=\"M 37.796875 64.3125 \r\nL 12.890625 25.390625 \r\nL 37.796875 25.390625 \r\nz\r\nM 35.203125 72.90625 \r\nL 47.609375 72.90625 \r\nL 47.609375 25.390625 \r\nL 58.015625 25.390625 \r\nL 58.015625 17.1875 \r\nL 47.609375 17.1875 \r\nL 47.609375 0 \r\nL 37.796875 0 \r\nL 37.796875 17.1875 \r\nL 4.890625 17.1875 \r\nL 4.890625 26.703125 \r\nz\r\n\" id=\"DejaVuSans-52\"/>\r\n       </defs>\r\n       <use xlink:href=\"#DejaVuSans-52\"/>\r\n       <use x=\"63.623047\" xlink:href=\"#DejaVuSans-48\"/>\r\n       <use x=\"127.246094\" xlink:href=\"#DejaVuSans-48\"/>\r\n       <use x=\"190.869141\" xlink:href=\"#DejaVuSans-48\"/>\r\n      </g>\r\n     </g>\r\n    </g>\r\n    <g id=\"xtick_6\">\r\n     <g id=\"line2d_6\">\r\n      <g>\r\n       <use style=\"stroke:#000000;stroke-width:0.8;\" x=\"335.955492\" xlink:href=\"#m6820d6a5c4\" y=\"224.64\"/>\r\n      </g>\r\n     </g>\r\n     <g id=\"text_6\">\r\n      <!-- 5000 -->\r\n      <g transform=\"translate(323.230492 239.238437)scale(0.1 -0.1)\">\r\n       <defs>\r\n        <path d=\"M 10.796875 72.90625 \r\nL 49.515625 72.90625 \r\nL 49.515625 64.59375 \r\nL 19.828125 64.59375 \r\nL 19.828125 46.734375 \r\nQ 21.96875 47.46875 24.109375 47.828125 \r\nQ 26.265625 48.1875 28.421875 48.1875 \r\nQ 40.625 48.1875 47.75 41.5 \r\nQ 54.890625 34.8125 54.890625 23.390625 \r\nQ 54.890625 11.625 47.5625 5.09375 \r\nQ 40.234375 -1.421875 26.90625 -1.421875 \r\nQ 22.3125 -1.421875 17.546875 -0.640625 \r\nQ 12.796875 0.140625 7.71875 1.703125 \r\nL 7.71875 11.625 \r\nQ 12.109375 9.234375 16.796875 8.0625 \r\nQ 21.484375 6.890625 26.703125 6.890625 \r\nQ 35.15625 6.890625 40.078125 11.328125 \r\nQ 45.015625 15.765625 45.015625 23.390625 \r\nQ 45.015625 31 40.078125 35.4375 \r\nQ 35.15625 39.890625 26.703125 39.890625 \r\nQ 22.75 39.890625 18.8125 39.015625 \r\nQ 14.890625 38.140625 10.796875 36.28125 \r\nz\r\n\" id=\"DejaVuSans-53\"/>\r\n       </defs>\r\n       <use xlink:href=\"#DejaVuSans-53\"/>\r\n       <use x=\"63.623047\" xlink:href=\"#DejaVuSans-48\"/>\r\n       <use x=\"127.246094\" xlink:href=\"#DejaVuSans-48\"/>\r\n       <use x=\"190.869141\" xlink:href=\"#DejaVuSans-48\"/>\r\n      </g>\r\n     </g>\r\n    </g>\r\n    <g id=\"text_7\">\r\n     <!-- Batch # -->\r\n     <g transform=\"translate(197.392188 252.916562)scale(0.1 -0.1)\">\r\n      <defs>\r\n       <path d=\"M 19.671875 34.8125 \r\nL 19.671875 8.109375 \r\nL 35.5 8.109375 \r\nQ 43.453125 8.109375 47.28125 11.40625 \r\nQ 51.125 14.703125 51.125 21.484375 \r\nQ 51.125 28.328125 47.28125 31.5625 \r\nQ 43.453125 34.8125 35.5 34.8125 \r\nz\r\nM 19.671875 64.796875 \r\nL 19.671875 42.828125 \r\nL 34.28125 42.828125 \r\nQ 41.5 42.828125 45.03125 45.53125 \r\nQ 48.578125 48.25 48.578125 53.8125 \r\nQ 48.578125 59.328125 45.03125 62.0625 \r\nQ 41.5 64.796875 34.28125 64.796875 \r\nz\r\nM 9.8125 72.90625 \r\nL 35.015625 72.90625 \r\nQ 46.296875 72.90625 52.390625 68.21875 \r\nQ 58.5 63.53125 58.5 54.890625 \r\nQ 58.5 48.1875 55.375 44.234375 \r\nQ 52.25 40.28125 46.1875 39.3125 \r\nQ 53.46875 37.75 57.5 32.78125 \r\nQ 61.53125 27.828125 61.53125 20.40625 \r\nQ 61.53125 10.640625 54.890625 5.3125 \r\nQ 48.25 0 35.984375 0 \r\nL 9.8125 0 \r\nz\r\n\" id=\"DejaVuSans-66\"/>\r\n       <path d=\"M 34.28125 27.484375 \r\nQ 23.390625 27.484375 19.1875 25 \r\nQ 14.984375 22.515625 14.984375 16.5 \r\nQ 14.984375 11.71875 18.140625 8.90625 \r\nQ 21.296875 6.109375 26.703125 6.109375 \r\nQ 34.1875 6.109375 38.703125 11.40625 \r\nQ 43.21875 16.703125 43.21875 25.484375 \r\nL 43.21875 27.484375 \r\nz\r\nM 52.203125 31.203125 \r\nL 52.203125 0 \r\nL 43.21875 0 \r\nL 43.21875 8.296875 \r\nQ 40.140625 3.328125 35.546875 0.953125 \r\nQ 30.953125 -1.421875 24.3125 -1.421875 \r\nQ 15.921875 -1.421875 10.953125 3.296875 \r\nQ 6 8.015625 6 15.921875 \r\nQ 6 25.140625 12.171875 29.828125 \r\nQ 18.359375 34.515625 30.609375 34.515625 \r\nL 43.21875 34.515625 \r\nL 43.21875 35.40625 \r\nQ 43.21875 41.609375 39.140625 45 \r\nQ 35.0625 48.390625 27.6875 48.390625 \r\nQ 23 48.390625 18.546875 47.265625 \r\nQ 14.109375 46.140625 10.015625 43.890625 \r\nL 10.015625 52.203125 \r\nQ 14.9375 54.109375 19.578125 55.046875 \r\nQ 24.21875 56 28.609375 56 \r\nQ 40.484375 56 46.34375 49.84375 \r\nQ 52.203125 43.703125 52.203125 31.203125 \r\nz\r\n\" id=\"DejaVuSans-97\"/>\r\n       <path d=\"M 18.3125 70.21875 \r\nL 18.3125 54.6875 \r\nL 36.8125 54.6875 \r\nL 36.8125 47.703125 \r\nL 18.3125 47.703125 \r\nL 18.3125 18.015625 \r\nQ 18.3125 11.328125 20.140625 9.421875 \r\nQ 21.96875 7.515625 27.59375 7.515625 \r\nL 36.8125 7.515625 \r\nL 36.8125 0 \r\nL 27.59375 0 \r\nQ 17.1875 0 13.234375 3.875 \r\nQ 9.28125 7.765625 9.28125 18.015625 \r\nL 9.28125 47.703125 \r\nL 2.6875 47.703125 \r\nL 2.6875 54.6875 \r\nL 9.28125 54.6875 \r\nL 9.28125 70.21875 \r\nz\r\n\" id=\"DejaVuSans-116\"/>\r\n       <path d=\"M 48.78125 52.59375 \r\nL 48.78125 44.1875 \r\nQ 44.96875 46.296875 41.140625 47.34375 \r\nQ 37.3125 48.390625 33.40625 48.390625 \r\nQ 24.65625 48.390625 19.8125 42.84375 \r\nQ 14.984375 37.3125 14.984375 27.296875 \r\nQ 14.984375 17.28125 19.8125 11.734375 \r\nQ 24.65625 6.203125 33.40625 6.203125 \r\nQ 37.3125 6.203125 41.140625 7.25 \r\nQ 44.96875 8.296875 48.78125 10.40625 \r\nL 48.78125 2.09375 \r\nQ 45.015625 0.34375 40.984375 -0.53125 \r\nQ 36.96875 -1.421875 32.421875 -1.421875 \r\nQ 20.0625 -1.421875 12.78125 6.34375 \r\nQ 5.515625 14.109375 5.515625 27.296875 \r\nQ 5.515625 40.671875 12.859375 48.328125 \r\nQ 20.21875 56 33.015625 56 \r\nQ 37.15625 56 41.109375 55.140625 \r\nQ 45.0625 54.296875 48.78125 52.59375 \r\nz\r\n\" id=\"DejaVuSans-99\"/>\r\n       <path d=\"M 54.890625 33.015625 \r\nL 54.890625 0 \r\nL 45.90625 0 \r\nL 45.90625 32.71875 \r\nQ 45.90625 40.484375 42.875 44.328125 \r\nQ 39.84375 48.1875 33.796875 48.1875 \r\nQ 26.515625 48.1875 22.3125 43.546875 \r\nQ 18.109375 38.921875 18.109375 30.90625 \r\nL 18.109375 0 \r\nL 9.078125 0 \r\nL 9.078125 75.984375 \r\nL 18.109375 75.984375 \r\nL 18.109375 46.1875 \r\nQ 21.34375 51.125 25.703125 53.5625 \r\nQ 30.078125 56 35.796875 56 \r\nQ 45.21875 56 50.046875 50.171875 \r\nQ 54.890625 44.34375 54.890625 33.015625 \r\nz\r\n\" id=\"DejaVuSans-104\"/>\r\n       <path id=\"DejaVuSans-32\"/>\r\n       <path d=\"M 51.125 44 \r\nL 36.921875 44 \r\nL 32.8125 27.6875 \r\nL 47.125 27.6875 \r\nz\r\nM 43.796875 71.78125 \r\nL 38.71875 51.515625 \r\nL 52.984375 51.515625 \r\nL 58.109375 71.78125 \r\nL 65.921875 71.78125 \r\nL 60.890625 51.515625 \r\nL 76.125 51.515625 \r\nL 76.125 44 \r\nL 58.984375 44 \r\nL 54.984375 27.6875 \r\nL 70.515625 27.6875 \r\nL 70.515625 20.21875 \r\nL 53.078125 20.21875 \r\nL 48 0 \r\nL 40.1875 0 \r\nL 45.21875 20.21875 \r\nL 30.90625 20.21875 \r\nL 25.875 0 \r\nL 18.015625 0 \r\nL 23.09375 20.21875 \r\nL 7.71875 20.21875 \r\nL 7.71875 27.6875 \r\nL 24.90625 27.6875 \r\nL 29 44 \r\nL 13.28125 44 \r\nL 13.28125 51.515625 \r\nL 30.90625 51.515625 \r\nL 35.890625 71.78125 \r\nz\r\n\" id=\"DejaVuSans-35\"/>\r\n      </defs>\r\n      <use xlink:href=\"#DejaVuSans-66\"/>\r\n      <use x=\"68.603516\" xlink:href=\"#DejaVuSans-97\"/>\r\n      <use x=\"129.882812\" xlink:href=\"#DejaVuSans-116\"/>\r\n      <use x=\"169.091797\" xlink:href=\"#DejaVuSans-99\"/>\r\n      <use x=\"224.072266\" xlink:href=\"#DejaVuSans-104\"/>\r\n      <use x=\"287.451172\" xlink:href=\"#DejaVuSans-32\"/>\r\n      <use x=\"319.238281\" xlink:href=\"#DejaVuSans-35\"/>\r\n     </g>\r\n    </g>\r\n   </g>\r\n   <g id=\"matplotlib.axis_2\">\r\n    <g id=\"ytick_1\">\r\n     <g id=\"line2d_7\">\r\n      <defs>\r\n       <path d=\"M 0 0 \r\nL -3.5 0 \r\n\" id=\"m0bf6850b7e\" style=\"stroke:#000000;stroke-width:0.8;\"/>\r\n      </defs>\r\n      <g>\r\n       <use style=\"stroke:#000000;stroke-width:0.8;\" x=\"50.14375\" xlink:href=\"#m0bf6850b7e\" y=\"210.008294\"/>\r\n      </g>\r\n     </g>\r\n     <g id=\"text_8\">\r\n      <!-- 0.75 -->\r\n      <g transform=\"translate(20.878125 213.807513)scale(0.1 -0.1)\">\r\n       <defs>\r\n        <path d=\"M 10.6875 12.40625 \r\nL 21 12.40625 \r\nL 21 0 \r\nL 10.6875 0 \r\nz\r\n\" id=\"DejaVuSans-46\"/>\r\n        <path d=\"M 8.203125 72.90625 \r\nL 55.078125 72.90625 \r\nL 55.078125 68.703125 \r\nL 28.609375 0 \r\nL 18.3125 0 \r\nL 43.21875 64.59375 \r\nL 8.203125 64.59375 \r\nz\r\n\" id=\"DejaVuSans-55\"/>\r\n       </defs>\r\n       <use xlink:href=\"#DejaVuSans-48\"/>\r\n       <use x=\"63.623047\" xlink:href=\"#DejaVuSans-46\"/>\r\n       <use x=\"95.410156\" xlink:href=\"#DejaVuSans-55\"/>\r\n       <use x=\"159.033203\" xlink:href=\"#DejaVuSans-53\"/>\r\n      </g>\r\n     </g>\r\n    </g>\r\n    <g id=\"ytick_2\">\r\n     <g id=\"line2d_8\">\r\n      <g>\r\n       <use style=\"stroke:#000000;stroke-width:0.8;\" x=\"50.14375\" xlink:href=\"#m0bf6850b7e\" y=\"179.823216\"/>\r\n      </g>\r\n     </g>\r\n     <g id=\"text_9\">\r\n      <!-- 1.00 -->\r\n      <g transform=\"translate(20.878125 183.622435)scale(0.1 -0.1)\">\r\n       <use xlink:href=\"#DejaVuSans-49\"/>\r\n       <use x=\"63.623047\" xlink:href=\"#DejaVuSans-46\"/>\r\n       <use x=\"95.410156\" xlink:href=\"#DejaVuSans-48\"/>\r\n       <use x=\"159.033203\" xlink:href=\"#DejaVuSans-48\"/>\r\n      </g>\r\n     </g>\r\n    </g>\r\n    <g id=\"ytick_3\">\r\n     <g id=\"line2d_9\">\r\n      <g>\r\n       <use style=\"stroke:#000000;stroke-width:0.8;\" x=\"50.14375\" xlink:href=\"#m0bf6850b7e\" y=\"149.638138\"/>\r\n      </g>\r\n     </g>\r\n     <g id=\"text_10\">\r\n      <!-- 1.25 -->\r\n      <g transform=\"translate(20.878125 153.437357)scale(0.1 -0.1)\">\r\n       <use xlink:href=\"#DejaVuSans-49\"/>\r\n       <use x=\"63.623047\" xlink:href=\"#DejaVuSans-46\"/>\r\n       <use x=\"95.410156\" xlink:href=\"#DejaVuSans-50\"/>\r\n       <use x=\"159.033203\" xlink:href=\"#DejaVuSans-53\"/>\r\n      </g>\r\n     </g>\r\n    </g>\r\n    <g id=\"ytick_4\">\r\n     <g id=\"line2d_10\">\r\n      <g>\r\n       <use style=\"stroke:#000000;stroke-width:0.8;\" x=\"50.14375\" xlink:href=\"#m0bf6850b7e\" y=\"119.453061\"/>\r\n      </g>\r\n     </g>\r\n     <g id=\"text_11\">\r\n      <!-- 1.50 -->\r\n      <g transform=\"translate(20.878125 123.252279)scale(0.1 -0.1)\">\r\n       <use xlink:href=\"#DejaVuSans-49\"/>\r\n       <use x=\"63.623047\" xlink:href=\"#DejaVuSans-46\"/>\r\n       <use x=\"95.410156\" xlink:href=\"#DejaVuSans-53\"/>\r\n       <use x=\"159.033203\" xlink:href=\"#DejaVuSans-48\"/>\r\n      </g>\r\n     </g>\r\n    </g>\r\n    <g id=\"ytick_5\">\r\n     <g id=\"line2d_11\">\r\n      <g>\r\n       <use style=\"stroke:#000000;stroke-width:0.8;\" x=\"50.14375\" xlink:href=\"#m0bf6850b7e\" y=\"89.267983\"/>\r\n      </g>\r\n     </g>\r\n     <g id=\"text_12\">\r\n      <!-- 1.75 -->\r\n      <g transform=\"translate(20.878125 93.067201)scale(0.1 -0.1)\">\r\n       <use xlink:href=\"#DejaVuSans-49\"/>\r\n       <use x=\"63.623047\" xlink:href=\"#DejaVuSans-46\"/>\r\n       <use x=\"95.410156\" xlink:href=\"#DejaVuSans-55\"/>\r\n       <use x=\"159.033203\" xlink:href=\"#DejaVuSans-53\"/>\r\n      </g>\r\n     </g>\r\n    </g>\r\n    <g id=\"ytick_6\">\r\n     <g id=\"line2d_12\">\r\n      <g>\r\n       <use style=\"stroke:#000000;stroke-width:0.8;\" x=\"50.14375\" xlink:href=\"#m0bf6850b7e\" y=\"59.082905\"/>\r\n      </g>\r\n     </g>\r\n     <g id=\"text_13\">\r\n      <!-- 2.00 -->\r\n      <g transform=\"translate(20.878125 62.882124)scale(0.1 -0.1)\">\r\n       <use xlink:href=\"#DejaVuSans-50\"/>\r\n       <use x=\"63.623047\" xlink:href=\"#DejaVuSans-46\"/>\r\n       <use x=\"95.410156\" xlink:href=\"#DejaVuSans-48\"/>\r\n       <use x=\"159.033203\" xlink:href=\"#DejaVuSans-48\"/>\r\n      </g>\r\n     </g>\r\n    </g>\r\n    <g id=\"ytick_7\">\r\n     <g id=\"line2d_13\">\r\n      <g>\r\n       <use style=\"stroke:#000000;stroke-width:0.8;\" x=\"50.14375\" xlink:href=\"#m0bf6850b7e\" y=\"28.897827\"/>\r\n      </g>\r\n     </g>\r\n     <g id=\"text_14\">\r\n      <!-- 2.25 -->\r\n      <g transform=\"translate(20.878125 32.697046)scale(0.1 -0.1)\">\r\n       <use xlink:href=\"#DejaVuSans-50\"/>\r\n       <use x=\"63.623047\" xlink:href=\"#DejaVuSans-46\"/>\r\n       <use x=\"95.410156\" xlink:href=\"#DejaVuSans-50\"/>\r\n       <use x=\"159.033203\" xlink:href=\"#DejaVuSans-53\"/>\r\n      </g>\r\n     </g>\r\n    </g>\r\n    <g id=\"text_15\">\r\n     <!-- Loss [entropy] -->\r\n     <g transform=\"translate(14.798438 151.719219)rotate(-90)scale(0.1 -0.1)\">\r\n      <defs>\r\n       <path d=\"M 9.8125 72.90625 \r\nL 19.671875 72.90625 \r\nL 19.671875 8.296875 \r\nL 55.171875 8.296875 \r\nL 55.171875 0 \r\nL 9.8125 0 \r\nz\r\n\" id=\"DejaVuSans-76\"/>\r\n       <path d=\"M 30.609375 48.390625 \r\nQ 23.390625 48.390625 19.1875 42.75 \r\nQ 14.984375 37.109375 14.984375 27.296875 \r\nQ 14.984375 17.484375 19.15625 11.84375 \r\nQ 23.34375 6.203125 30.609375 6.203125 \r\nQ 37.796875 6.203125 41.984375 11.859375 \r\nQ 46.1875 17.53125 46.1875 27.296875 \r\nQ 46.1875 37.015625 41.984375 42.703125 \r\nQ 37.796875 48.390625 30.609375 48.390625 \r\nz\r\nM 30.609375 56 \r\nQ 42.328125 56 49.015625 48.375 \r\nQ 55.71875 40.765625 55.71875 27.296875 \r\nQ 55.71875 13.875 49.015625 6.21875 \r\nQ 42.328125 -1.421875 30.609375 -1.421875 \r\nQ 18.84375 -1.421875 12.171875 6.21875 \r\nQ 5.515625 13.875 5.515625 27.296875 \r\nQ 5.515625 40.765625 12.171875 48.375 \r\nQ 18.84375 56 30.609375 56 \r\nz\r\n\" id=\"DejaVuSans-111\"/>\r\n       <path d=\"M 44.28125 53.078125 \r\nL 44.28125 44.578125 \r\nQ 40.484375 46.53125 36.375 47.5 \r\nQ 32.28125 48.484375 27.875 48.484375 \r\nQ 21.1875 48.484375 17.84375 46.4375 \r\nQ 14.5 44.390625 14.5 40.28125 \r\nQ 14.5 37.15625 16.890625 35.375 \r\nQ 19.28125 33.59375 26.515625 31.984375 \r\nL 29.59375 31.296875 \r\nQ 39.15625 29.25 43.1875 25.515625 \r\nQ 47.21875 21.78125 47.21875 15.09375 \r\nQ 47.21875 7.46875 41.1875 3.015625 \r\nQ 35.15625 -1.421875 24.609375 -1.421875 \r\nQ 20.21875 -1.421875 15.453125 -0.5625 \r\nQ 10.6875 0.296875 5.421875 2 \r\nL 5.421875 11.28125 \r\nQ 10.40625 8.6875 15.234375 7.390625 \r\nQ 20.0625 6.109375 24.8125 6.109375 \r\nQ 31.15625 6.109375 34.5625 8.28125 \r\nQ 37.984375 10.453125 37.984375 14.40625 \r\nQ 37.984375 18.0625 35.515625 20.015625 \r\nQ 33.0625 21.96875 24.703125 23.78125 \r\nL 21.578125 24.515625 \r\nQ 13.234375 26.265625 9.515625 29.90625 \r\nQ 5.8125 33.546875 5.8125 39.890625 \r\nQ 5.8125 47.609375 11.28125 51.796875 \r\nQ 16.75 56 26.8125 56 \r\nQ 31.78125 56 36.171875 55.265625 \r\nQ 40.578125 54.546875 44.28125 53.078125 \r\nz\r\n\" id=\"DejaVuSans-115\"/>\r\n       <path d=\"M 8.59375 75.984375 \r\nL 29.296875 75.984375 \r\nL 29.296875 69 \r\nL 17.578125 69 \r\nL 17.578125 -6.203125 \r\nL 29.296875 -6.203125 \r\nL 29.296875 -13.1875 \r\nL 8.59375 -13.1875 \r\nz\r\n\" id=\"DejaVuSans-91\"/>\r\n       <path d=\"M 56.203125 29.59375 \r\nL 56.203125 25.203125 \r\nL 14.890625 25.203125 \r\nQ 15.484375 15.921875 20.484375 11.0625 \r\nQ 25.484375 6.203125 34.421875 6.203125 \r\nQ 39.59375 6.203125 44.453125 7.46875 \r\nQ 49.3125 8.734375 54.109375 11.28125 \r\nL 54.109375 2.78125 \r\nQ 49.265625 0.734375 44.1875 -0.34375 \r\nQ 39.109375 -1.421875 33.890625 -1.421875 \r\nQ 20.796875 -1.421875 13.15625 6.1875 \r\nQ 5.515625 13.8125 5.515625 26.8125 \r\nQ 5.515625 40.234375 12.765625 48.109375 \r\nQ 20.015625 56 32.328125 56 \r\nQ 43.359375 56 49.78125 48.890625 \r\nQ 56.203125 41.796875 56.203125 29.59375 \r\nz\r\nM 47.21875 32.234375 \r\nQ 47.125 39.59375 43.09375 43.984375 \r\nQ 39.0625 48.390625 32.421875 48.390625 \r\nQ 24.90625 48.390625 20.390625 44.140625 \r\nQ 15.875 39.890625 15.1875 32.171875 \r\nz\r\n\" id=\"DejaVuSans-101\"/>\r\n       <path d=\"M 54.890625 33.015625 \r\nL 54.890625 0 \r\nL 45.90625 0 \r\nL 45.90625 32.71875 \r\nQ 45.90625 40.484375 42.875 44.328125 \r\nQ 39.84375 48.1875 33.796875 48.1875 \r\nQ 26.515625 48.1875 22.3125 43.546875 \r\nQ 18.109375 38.921875 18.109375 30.90625 \r\nL 18.109375 0 \r\nL 9.078125 0 \r\nL 9.078125 54.6875 \r\nL 18.109375 54.6875 \r\nL 18.109375 46.1875 \r\nQ 21.34375 51.125 25.703125 53.5625 \r\nQ 30.078125 56 35.796875 56 \r\nQ 45.21875 56 50.046875 50.171875 \r\nQ 54.890625 44.34375 54.890625 33.015625 \r\nz\r\n\" id=\"DejaVuSans-110\"/>\r\n       <path d=\"M 41.109375 46.296875 \r\nQ 39.59375 47.171875 37.8125 47.578125 \r\nQ 36.03125 48 33.890625 48 \r\nQ 26.265625 48 22.1875 43.046875 \r\nQ 18.109375 38.09375 18.109375 28.8125 \r\nL 18.109375 0 \r\nL 9.078125 0 \r\nL 9.078125 54.6875 \r\nL 18.109375 54.6875 \r\nL 18.109375 46.1875 \r\nQ 20.953125 51.171875 25.484375 53.578125 \r\nQ 30.03125 56 36.53125 56 \r\nQ 37.453125 56 38.578125 55.875 \r\nQ 39.703125 55.765625 41.0625 55.515625 \r\nz\r\n\" id=\"DejaVuSans-114\"/>\r\n       <path d=\"M 18.109375 8.203125 \r\nL 18.109375 -20.796875 \r\nL 9.078125 -20.796875 \r\nL 9.078125 54.6875 \r\nL 18.109375 54.6875 \r\nL 18.109375 46.390625 \r\nQ 20.953125 51.265625 25.265625 53.625 \r\nQ 29.59375 56 35.59375 56 \r\nQ 45.5625 56 51.78125 48.09375 \r\nQ 58.015625 40.1875 58.015625 27.296875 \r\nQ 58.015625 14.40625 51.78125 6.484375 \r\nQ 45.5625 -1.421875 35.59375 -1.421875 \r\nQ 29.59375 -1.421875 25.265625 0.953125 \r\nQ 20.953125 3.328125 18.109375 8.203125 \r\nz\r\nM 48.6875 27.296875 \r\nQ 48.6875 37.203125 44.609375 42.84375 \r\nQ 40.53125 48.484375 33.40625 48.484375 \r\nQ 26.265625 48.484375 22.1875 42.84375 \r\nQ 18.109375 37.203125 18.109375 27.296875 \r\nQ 18.109375 17.390625 22.1875 11.75 \r\nQ 26.265625 6.109375 33.40625 6.109375 \r\nQ 40.53125 6.109375 44.609375 11.75 \r\nQ 48.6875 17.390625 48.6875 27.296875 \r\nz\r\n\" id=\"DejaVuSans-112\"/>\r\n       <path d=\"M 32.171875 -5.078125 \r\nQ 28.375 -14.84375 24.75 -17.8125 \r\nQ 21.140625 -20.796875 15.09375 -20.796875 \r\nL 7.90625 -20.796875 \r\nL 7.90625 -13.28125 \r\nL 13.1875 -13.28125 \r\nQ 16.890625 -13.28125 18.9375 -11.515625 \r\nQ 21 -9.765625 23.484375 -3.21875 \r\nL 25.09375 0.875 \r\nL 2.984375 54.6875 \r\nL 12.5 54.6875 \r\nL 29.59375 11.921875 \r\nL 46.6875 54.6875 \r\nL 56.203125 54.6875 \r\nz\r\n\" id=\"DejaVuSans-121\"/>\r\n       <path d=\"M 30.421875 75.984375 \r\nL 30.421875 -13.1875 \r\nL 9.71875 -13.1875 \r\nL 9.71875 -6.203125 \r\nL 21.390625 -6.203125 \r\nL 21.390625 69 \r\nL 9.71875 69 \r\nL 9.71875 75.984375 \r\nz\r\n\" id=\"DejaVuSans-93\"/>\r\n      </defs>\r\n      <use xlink:href=\"#DejaVuSans-76\"/>\r\n      <use x=\"53.962891\" xlink:href=\"#DejaVuSans-111\"/>\r\n      <use x=\"115.144531\" xlink:href=\"#DejaVuSans-115\"/>\r\n      <use x=\"167.244141\" xlink:href=\"#DejaVuSans-115\"/>\r\n      <use x=\"219.34375\" xlink:href=\"#DejaVuSans-32\"/>\r\n      <use x=\"251.130859\" xlink:href=\"#DejaVuSans-91\"/>\r\n      <use x=\"290.144531\" xlink:href=\"#DejaVuSans-101\"/>\r\n      <use x=\"351.667969\" xlink:href=\"#DejaVuSans-110\"/>\r\n      <use x=\"415.046875\" xlink:href=\"#DejaVuSans-116\"/>\r\n      <use x=\"454.255859\" xlink:href=\"#DejaVuSans-114\"/>\r\n      <use x=\"493.119141\" xlink:href=\"#DejaVuSans-111\"/>\r\n      <use x=\"554.300781\" xlink:href=\"#DejaVuSans-112\"/>\r\n      <use x=\"617.777344\" xlink:href=\"#DejaVuSans-121\"/>\r\n      <use x=\"676.957031\" xlink:href=\"#DejaVuSans-93\"/>\r\n     </g>\r\n    </g>\r\n   </g>\r\n   <g id=\"line2d_14\">\r\n    <path clip-path=\"url(#p5e8db4e310)\" d=\"M 65.361932 21.04731 \r\nL 65.416051 23.678677 \r\nL 65.470169 21.045324 \r\nL 65.632525 23.102798 \r\nL 65.686644 23.548331 \r\nL 65.794882 22.45288 \r\nL 65.849 23.320397 \r\nL 65.903119 22.817176 \r\nL 65.957238 21.720891 \r\nL 66.011356 22.786749 \r\nL 66.065475 22.739625 \r\nL 66.173712 24.210771 \r\nL 66.444306 20.954473 \r\nL 66.498425 23.012955 \r\nL 66.552543 21.406684 \r\nL 66.660781 24.954217 \r\nL 66.7149 23.291409 \r\nL 66.823137 22.221521 \r\nL 66.877256 23.154298 \r\nL 66.985493 20.008541 \r\nL 67.093731 25.372776 \r\nL 67.147849 23.278541 \r\nL 67.201968 25.102123 \r\nL 67.256087 21.971365 \r\nL 67.310205 23.999822 \r\nL 67.364324 24.678152 \r\nL 67.52668 23.092752 \r\nL 67.580799 24.030163 \r\nL 67.634918 20.304239 \r\nL 67.689036 23.903329 \r\nL 67.743155 21.390304 \r\nL 67.797274 22.942831 \r\nL 67.851393 26.867729 \r\nL 67.905511 21.220837 \r\nL 67.95963 24.178703 \r\nL 68.013749 21.987744 \r\nL 68.067867 24.359023 \r\nL 68.121986 21.772304 \r\nL 68.176105 22.557866 \r\nL 68.338461 25.176192 \r\nL 68.500817 22.342713 \r\nL 68.554936 24.230979 \r\nL 68.609055 23.807152 \r\nL 68.663173 23.087196 \r\nL 68.717292 26.328266 \r\nL 68.771411 22.101625 \r\nL 68.825529 22.703958 \r\nL 68.879648 23.47884 \r\nL 68.933767 22.192821 \r\nL 68.987886 23.427714 \r\nL 69.042004 22.498997 \r\nL 69.096123 25.907749 \r\nL 69.150242 22.819134 \r\nL 69.312598 24.427017 \r\nL 69.366717 23.306637 \r\nL 69.420835 27.175085 \r\nL 69.474954 23.13455 \r\nL 69.529073 23.277419 \r\nL 69.745547 26.554011 \r\nL 69.799666 24.630712 \r\nL 69.853785 24.75818 \r\nL 69.907904 26.399657 \r\nL 70.016141 23.13052 \r\nL 70.178497 24.374884 \r\nL 70.232616 23.833377 \r\nL 70.286735 24.19396 \r\nL 70.340853 25.891254 \r\nL 70.449091 23.549943 \r\nL 70.503209 29.939158 \r\nL 70.557328 23.408283 \r\nL 70.611447 28.546686 \r\nL 70.665566 21.890157 \r\nL 70.719684 25.347127 \r\nL 70.773803 23.499796 \r\nL 70.936159 26.439382 \r\nL 71.098515 24.875457 \r\nL 71.152634 24.918349 \r\nL 71.260871 28.246613 \r\nL 71.31499 26.427206 \r\nL 71.369109 23.804216 \r\nL 71.423228 25.574744 \r\nL 71.477346 24.648819 \r\nL 71.531465 26.104103 \r\nL 71.585584 24.520372 \r\nL 71.639702 19.226751 \r\nL 71.802059 31.398329 \r\nL 71.964415 18.469631 \r\nL 72.018533 26.768587 \r\nL 72.072652 24.325169 \r\nL 72.126771 23.545682 \r\nL 72.18089 29.248593 \r\nL 72.235008 24.593116 \r\nL 72.343246 28.708065 \r\nL 72.397364 26.935119 \r\nL 72.451483 29.592854 \r\nL 72.505602 25.15394 \r\nL 72.559721 26.167981 \r\nL 72.667958 31.009593 \r\nL 72.830314 24.221537 \r\nL 72.884433 29.085315 \r\nL 72.99267 22.868618 \r\nL 73.155026 27.768811 \r\nL 73.209145 25.017836 \r\nL 73.263264 27.169011 \r\nL 73.317382 31.113196 \r\nL 73.479739 19.406726 \r\nL 73.587976 31.119299 \r\nL 73.750332 19.419104 \r\nL 73.804451 20.782616 \r\nL 73.85857 28.374887 \r\nL 73.912688 28.099571 \r\nL 74.020926 23.080374 \r\nL 74.183282 27.111524 \r\nL 74.237401 22.39997 \r\nL 74.291519 32.171857 \r\nL 74.399757 31.929934 \r\nL 74.453875 21.764762 \r\nL 74.507994 27.243626 \r\nL 74.67035 33.925257 \r\nL 74.832706 21.790152 \r\nL 74.886825 22.135075 \r\nL 74.940944 32.348694 \r\nL 74.995063 27.841584 \r\nL 75.049181 25.404154 \r\nL 75.1033 26.65891 \r\nL 75.211537 32.07594 \r\nL 75.319775 22.655395 \r\nL 75.373894 27.073813 \r\nL 75.428012 27.358312 \r\nL 75.482131 30.057529 \r\nL 75.53625 29.590205 \r\nL 75.590368 27.77549 \r\nL 75.644487 21.94537 \r\nL 75.698606 23.463726 \r\nL 75.860962 34.309215 \r\nL 76.023318 20.899433 \r\nL 76.131556 34.386507 \r\nL 76.185674 32.709392 \r\nL 76.239793 24.210195 \r\nL 76.293912 30.530841 \r\nL 76.34803 25.375856 \r\nL 76.402149 29.60529 \r\nL 76.510386 21.290328 \r\nL 76.564505 33.273929 \r\nL 76.618624 30.099788 \r\nL 76.78098 22.422251 \r\nL 76.835099 37.684603 \r\nL 76.889217 23.66889 \r\nL 77.051574 34.552117 \r\nL 77.21393 21.336185 \r\nL 77.268048 38.212034 \r\nL 77.322167 25.036346 \r\nL 77.376286 32.2826 \r\nL 77.430405 30.317301 \r\nL 77.484523 26.087234 \r\nL 77.538642 29.133533 \r\nL 77.592761 32.236253 \r\nL 77.755117 23.657951 \r\nL 77.917473 35.595348 \r\nL 78.02571 28.749633 \r\nL 78.079829 29.237165 \r\nL 78.133948 39.631594 \r\nL 78.188067 33.11042 \r\nL 78.242185 32.459264 \r\nL 78.350423 36.282315 \r\nL 78.404541 31.356444 \r\nL 78.45866 35.8333 \r\nL 78.566898 30.983656 \r\nL 78.675135 36.57545 \r\nL 78.783372 30.177455 \r\nL 78.837491 42.834291 \r\nL 78.89161 41.586789 \r\nL 78.999847 42.49075 \r\nL 79.053966 22.111182 \r\nL 79.162203 22.982787 \r\nL 79.216322 38.950874 \r\nL 79.270441 36.538085 \r\nL 79.32456 26.605021 \r\nL 79.432797 48.675954 \r\nL 79.595153 28.625332 \r\nL 79.649272 38.536431 \r\nL 79.703391 32.834643 \r\nL 79.757509 37.720385 \r\nL 79.811628 17.369258 \r\nL 79.865747 21.618007 \r\nL 79.973984 37.955141 \r\nL 80.13634 29.454102 \r\nL 80.190459 40.08533 \r\nL 80.244578 31.121775 \r\nL 80.352815 35.114178 \r\nL 80.406934 30.682547 \r\nL 80.461052 36.745724 \r\nL 80.515171 27.870889 \r\nL 80.56929 41.670501 \r\nL 80.623409 37.449847 \r\nL 80.677527 24.997685 \r\nL 80.731646 30.873057 \r\nL 80.839883 46.36887 \r\nL 81.056358 17.083636 \r\nL 81.110477 42.507216 \r\nL 81.164596 37.174329 \r\nL 81.218714 28.921662 \r\nL 81.435189 51.97949 \r\nL 81.543427 37.285648 \r\nL 81.597545 44.295736 \r\nL 81.651664 42.572965 \r\nL 81.705783 36.908599 \r\nL 81.759902 39.250457 \r\nL 81.81402 37.435137 \r\nL 81.868139 45.374777 \r\nL 81.922258 39.460773 \r\nL 81.976376 39.751232 \r\nL 82.030495 39.220289 \r\nL 82.084614 41.43989 \r\nL 82.138733 39.154483 \r\nL 82.192851 59.792584 \r\nL 82.24697 37.232565 \r\nL 82.301089 39.780911 \r\nL 82.355207 38.886449 \r\nL 82.463445 45.409235 \r\nL 82.517564 35.345422 \r\nL 82.571682 36.780412 \r\nL 82.625801 36.721313 \r\nL 82.67992 34.527303 \r\nL 82.734038 58.05945 \r\nL 82.788157 43.675612 \r\nL 82.842276 33.020548 \r\nL 82.896395 46.941755 \r\nL 82.950513 38.7863 \r\nL 83.058751 46.468558 \r\nL 83.221107 33.750925 \r\nL 83.383463 54.385342 \r\nL 83.4917 34.024773 \r\nL 83.545819 49.798205 \r\nL 83.599938 47.860166 \r\nL 83.654056 46.963229 \r\nL 83.708175 48.795016 \r\nL 83.762294 42.78305 \r\nL 83.816413 55.008632 \r\nL 83.870531 38.266959 \r\nL 83.92465 46.458656 \r\nL 83.978769 55.643926 \r\nL 84.087006 32.889165 \r\nL 84.141125 37.743702 \r\nL 84.249362 45.759599 \r\nL 84.303481 45.757814 \r\nL 84.411718 36.669353 \r\nL 84.465837 49.994185 \r\nL 84.519956 33.053249 \r\nL 84.574075 43.512506 \r\nL 84.628193 50.954251 \r\nL 84.682312 47.102212 \r\nL 84.736431 44.243862 \r\nL 84.952906 58.427431 \r\nL 85.007024 38.557302 \r\nL 85.061143 51.604514 \r\nL 85.115262 62.026089 \r\nL 85.277618 33.270733 \r\nL 85.331737 63.613922 \r\nL 85.385855 34.250835 \r\nL 85.548211 70.009788 \r\nL 85.656449 40.068087 \r\nL 85.710568 61.62201 \r\nL 85.764686 56.055318 \r\nL 85.818805 48.215913 \r\nL 85.872924 51.383173 \r\nL 85.927042 50.22753 \r\nL 85.981161 40.718523 \r\nL 86.03528 47.934436 \r\nL 86.143517 52.124489 \r\nL 86.197636 59.545205 \r\nL 86.359992 25.659032 \r\nL 86.46823 51.844481 \r\nL 86.522348 45.552823 \r\nL 86.576467 58.458348 \r\nL 86.630586 37.091049 \r\nL 86.684704 43.733559 \r\nL 86.738823 41.549136 \r\nL 86.792942 51.136672 \r\nL 86.84706 33.721303 \r\nL 86.901179 37.755821 \r\nL 87.171773 55.389164 \r\nL 87.225891 79.422618 \r\nL 87.334129 44.296081 \r\nL 87.388248 59.378847 \r\nL 87.442366 49.275639 \r\nL 87.496485 43.605084 \r\nL 87.550604 53.453141 \r\nL 87.604722 26.76283 \r\nL 87.767079 60.723 \r\nL 87.821197 44.377835 \r\nL 87.875316 51.323067 \r\nL 87.929435 50.153174 \r\nL 88.037672 34.018094 \r\nL 88.091791 49.638035 \r\nL 88.14591 30.852043 \r\nL 88.200028 71.547057 \r\nL 88.254147 49.971673 \r\nL 88.308266 55.494408 \r\nL 88.362384 38.165428 \r\nL 88.416503 49.67327 \r\nL 88.470622 55.131062 \r\nL 88.524741 45.605215 \r\nL 88.687097 70.342116 \r\nL 88.741215 41.307932 \r\nL 88.795334 49.986873 \r\nL 88.849453 48.412987 \r\nL 89.065928 69.718437 \r\nL 89.174165 39.854921 \r\nL 89.228284 76.43336 \r\nL 89.282403 72.77674 \r\nL 89.39064 45.102656 \r\nL 89.444759 51.114795 \r\nL 89.498877 60.856484 \r\nL 89.552996 40.425417 \r\nL 89.607115 51.560989 \r\nL 89.661234 53.625689 \r\nL 89.769471 74.234025 \r\nL 89.82359 64.057727 \r\nL 89.877708 78.695508 \r\nL 89.985946 43.945171 \r\nL 90.040064 75.439959 \r\nL 90.094183 53.815192 \r\nL 90.148302 60.030521 \r\nL 90.202421 53.005133 \r\nL 90.310658 74.339154 \r\nL 90.364777 68.952955 \r\nL 90.418895 65.856394 \r\nL 90.473014 53.519206 \r\nL 90.527133 65.784255 \r\nL 90.63537 42.010011 \r\nL 90.743608 63.702499 \r\nL 90.851845 46.128904 \r\nL 90.960083 84.238422 \r\nL 91.014201 75.150566 \r\nL 91.122439 41.637799 \r\nL 91.176557 82.056244 \r\nL 91.230676 62.57203 \r\nL 91.284795 55.955572 \r\nL 91.338914 64.168398 \r\nL 91.50127 32.805108 \r\nL 91.663626 79.398206 \r\nL 91.771863 47.126882 \r\nL 91.825982 54.587137 \r\nL 91.880101 79.146754 \r\nL 91.934219 64.979882 \r\nL 92.042457 47.693894 \r\nL 92.096576 78.31702 \r\nL 92.150694 57.17754 \r\nL 92.204813 51.958073 \r\nL 92.367169 63.229231 \r\nL 92.421288 56.293701 \r\nL 92.583644 81.329494 \r\nL 92.691881 57.095238 \r\nL 92.746 76.902469 \r\nL 92.800119 61.659634 \r\nL 92.854238 71.926883 \r\nL 92.908356 61.15709 \r\nL 93.070712 68.21102 \r\nL 93.17895 82.091133 \r\nL 93.233069 53.6712 \r\nL 93.287187 61.526956 \r\nL 93.341306 66.334844 \r\nL 93.395425 48.951702 \r\nL 93.449543 56.392324 \r\nL 93.503662 91.014042 \r\nL 93.557781 65.675311 \r\nL 93.611899 65.942179 \r\nL 93.720137 52.190756 \r\nL 93.828374 65.021867 \r\nL 93.936612 51.71733 \r\nL 93.99073 54.674447 \r\nL 94.153087 78.410476 \r\nL 94.207205 57.975709 \r\nL 94.261324 73.0981 \r\nL 94.315443 66.926023 \r\nL 94.369561 89.345074 \r\nL 94.42368 49.29697 \r\nL 94.477799 60.999957 \r\nL 94.586036 81.944681 \r\nL 94.640155 49.978179 \r\nL 94.694274 71.108678 \r\nL 94.748392 79.614179 \r\nL 94.85663 57.693024 \r\nL 94.964867 80.115327 \r\nL 95.127223 58.317091 \r\nL 95.181342 58.92999 \r\nL 95.343698 82.285127 \r\nL 95.506054 57.04181 \r\nL 95.560173 88.874353 \r\nL 95.614292 84.666423 \r\nL 95.668411 82.60643 \r\nL 95.722529 73.955053 \r\nL 95.776648 80.05653 \r\nL 95.830767 82.440878 \r\nL 95.884885 37.553422 \r\nL 95.939004 57.330714 \r\nL 95.993123 54.672058 \r\nL 96.047242 78.355738 \r\nL 96.10136 74.542388 \r\nL 96.155479 72.352207 \r\nL 96.209598 73.132846 \r\nL 96.371954 58.668952 \r\nL 96.53431 84.24536 \r\nL 96.696666 50.594791 \r\nL 96.750785 78.435765 \r\nL 96.804903 54.923135 \r\nL 96.859022 57.812978 \r\nL 96.913141 52.610237 \r\nL 97.021378 84.680428 \r\nL 97.183734 61.378143 \r\nL 97.237853 68.330355 \r\nL 97.291972 34.583437 \r\nL 97.346091 75.564346 \r\nL 97.400209 62.335072 \r\nL 97.562565 84.074482 \r\nL 97.616684 71.210957 \r\nL 97.724922 91.864618 \r\nL 97.833159 46.861152 \r\nL 97.941396 84.535962 \r\nL 97.995515 81.513153 \r\nL 98.103753 90.28057 \r\nL 98.21199 51.202306 \r\nL 98.266109 73.237457 \r\nL 98.320227 96.089978 \r\nL 98.374346 57.981265 \r\nL 98.428465 71.213519 \r\nL 98.482584 93.18246 \r\nL 98.536702 92.743923 \r\nL 98.590821 66.637782 \r\nL 98.64494 95.168543 \r\nL 98.699058 56.06168 \r\nL 98.753177 79.355904 \r\nL 98.807296 75.158986 \r\nL 98.861415 55.903353 \r\nL 98.915533 67.74964 \r\nL 98.969652 77.301841 \r\nL 99.023771 41.823416 \r\nL 99.077889 66.003955 \r\nL 99.132008 57.306101 \r\nL 99.186127 64.497056 \r\nL 99.348483 87.444286 \r\nL 99.402602 89.153498 \r\nL 99.45672 58.928608 \r\nL 99.510839 60.840047 \r\nL 99.673195 80.990645 \r\nL 99.727314 67.791467 \r\nL 99.781433 75.967173 \r\nL 99.943789 68.037594 \r\nL 100.052026 76.712894 \r\nL 100.160264 57.139858 \r\nL 100.268501 79.718444 \r\nL 100.32262 33.36737 \r\nL 100.376738 78.952142 \r\nL 100.430857 78.193208 \r\nL 100.484976 89.345002 \r\nL 100.539095 73.799028 \r\nL 100.593213 74.471357 \r\nL 100.647332 99.78369 \r\nL 100.755569 41.141746 \r\nL 100.809688 89.297403 \r\nL 100.863807 33.615685 \r\nL 100.917926 86.195805 \r\nL 100.972044 55.057713 \r\nL 101.026163 59.076888 \r\nL 101.188519 79.235605 \r\nL 101.296757 52.82346 \r\nL 101.350875 99.632056 \r\nL 101.404994 96.294997 \r\nL 101.56735 54.079627 \r\nL 101.621469 90.342519 \r\nL 101.675588 76.692988 \r\nL 101.729706 51.223954 \r\nL 101.892062 90.47406 \r\nL 101.946181 87.569637 \r\nL 102.0003 91.05987 \r\nL 102.108537 61.885984 \r\nL 102.162656 65.700658 \r\nL 102.270893 87.126394 \r\nL 102.325012 68.832655 \r\nL 102.379131 100.148159 \r\nL 102.43325 62.777668 \r\nL 102.487368 71.181623 \r\nL 102.649724 92.584502 \r\nL 102.703843 49.966319 \r\nL 102.757962 66.81269 \r\nL 102.812081 67.911782 \r\nL 102.866199 86.95291 \r\nL 102.920318 76.734613 \r\nL 102.974437 67.904974 \r\nL 103.028555 101.17573 \r\nL 103.082674 77.876842 \r\nL 103.136793 93.104563 \r\nL 103.24503 53.46526 \r\nL 103.299149 88.569487 \r\nL 103.353268 87.523938 \r\nL 103.461505 75.814532 \r\nL 103.515624 108.411895 \r\nL 103.569742 93.597119 \r\nL 103.623861 103.973858 \r\nL 103.732099 69.076018 \r\nL 103.786217 73.388731 \r\nL 103.840336 63.521416 \r\nL 103.948573 86.450021 \r\nL 104.002692 57.289347 \r\nL 104.056811 87.182614 \r\nL 104.165048 52.616023 \r\nL 104.219167 88.526177 \r\nL 104.273286 84.136445 \r\nL 104.435642 74.912312 \r\nL 104.489761 78.740703 \r\nL 104.543879 60.074162 \r\nL 104.597998 76.810178 \r\nL 104.652117 123.428638 \r\nL 104.706235 104.045566 \r\nL 104.760354 80.439538 \r\nL 104.814473 81.974245 \r\nL 104.92271 94.47248 \r\nL 104.976829 66.852559 \r\nL 105.030948 72.590144 \r\nL 105.085066 78.922448 \r\nL 105.139185 67.878116 \r\nL 105.301541 98.129878 \r\nL 105.409779 58.044452 \r\nL 105.518016 101.367191 \r\nL 105.680372 68.222434 \r\nL 105.896847 101.03718 \r\nL 106.005085 51.077746 \r\nL 106.059203 72.660801 \r\nL 106.113322 92.991029 \r\nL 106.167441 86.486493 \r\nL 106.221559 84.782736 \r\nL 106.275678 90.483042 \r\nL 106.438034 66.032713 \r\nL 106.492153 82.922638 \r\nL 106.546272 73.406608 \r\nL 106.60039 63.188051 \r\nL 106.654509 72.583653 \r\nL 106.708628 79.069332 \r\nL 106.762747 58.449942 \r\nL 106.925103 92.704716 \r\nL 107.03334 72.837292 \r\nL 107.087459 73.893391 \r\nL 107.141577 94.20485 \r\nL 107.195696 86.826465 \r\nL 107.249815 86.084976 \r\nL 107.303934 91.84061 \r\nL 107.358052 66.371922 \r\nL 107.412171 98.719531 \r\nL 107.46629 88.921333 \r\nL 107.574527 49.458463 \r\nL 107.682765 107.305779 \r\nL 107.736883 98.814182 \r\nL 107.791002 78.941606 \r\nL 107.845121 102.834307 \r\nL 107.899239 67.384481 \r\nL 107.953358 117.555166 \r\nL 108.007477 56.782212 \r\nL 108.061596 84.457921 \r\nL 108.115714 80.823783 \r\nL 108.169833 91.735265 \r\nL 108.223952 68.766704 \r\nL 108.27807 80.594051 \r\nL 108.332189 70.315316 \r\nL 108.386308 98.645664 \r\nL 108.494545 98.310356 \r\nL 108.602783 88.736652 \r\nL 108.656901 91.894585 \r\nL 108.71102 69.748505 \r\nL 108.765139 120.668177 \r\nL 108.819258 84.158928 \r\nL 108.873376 87.665396 \r\nL 108.927495 82.640183 \r\nL 109.035732 97.034528 \r\nL 109.089851 91.426729 \r\nL 109.14397 91.499919 \r\nL 109.252207 75.636284 \r\nL 109.360445 85.143247 \r\nL 109.414563 70.047469 \r\nL 109.468682 104.600315 \r\nL 109.522801 86.182218 \r\nL 109.57692 86.346935 \r\nL 109.631038 109.350947 \r\nL 109.685157 78.274416 \r\nL 109.739276 92.826138 \r\nL 109.793394 107.555129 \r\nL 110.009869 68.239936 \r\nL 110.063988 103.825204 \r\nL 110.118107 97.925708 \r\nL 110.172225 98.835613 \r\nL 110.226344 104.043738 \r\nL 110.280463 91.939967 \r\nL 110.334582 110.316007 \r\nL 110.3887 104.080369 \r\nL 110.442819 74.997535 \r\nL 110.496938 85.329958 \r\nL 110.551056 86.004747 \r\nL 110.605175 99.636129 \r\nL 110.767531 70.019129 \r\nL 110.82165 103.569937 \r\nL 110.875769 81.383613 \r\nL 110.929887 99.303772 \r\nL 110.984006 93.97827 \r\nL 111.038125 85.750388 \r\nL 111.146362 85.387963 \r\nL 111.200481 102.200538 \r\nL 111.2546 58.295703 \r\nL 111.308718 102.518545 \r\nL 111.416956 70.483372 \r\nL 111.471074 104.950621 \r\nL 111.525193 98.720481 \r\nL 111.579312 83.184151 \r\nL 111.633431 94.319795 \r\nL 111.687549 112.313332 \r\nL 111.741668 93.428011 \r\nL 111.795787 92.779777 \r\nL 111.904024 84.465247 \r\nL 112.012262 111.468067 \r\nL 112.120499 88.171669 \r\nL 112.174618 104.649397 \r\nL 112.228736 73.548123 \r\nL 112.282855 94.038664 \r\nL 112.391093 52.170922 \r\nL 112.553449 101.270626 \r\nL 112.769924 69.405194 \r\nL 112.878161 127.401509 \r\nL 112.986398 68.966614 \r\nL 113.040517 85.443492 \r\nL 113.202873 101.084577 \r\nL 113.311111 99.038229 \r\nL 113.365229 87.943059 \r\nL 113.419348 100.922767 \r\nL 113.581704 78.332565 \r\nL 113.635823 73.368624 \r\nL 113.74406 91.524258 \r\nL 113.798179 62.362433 \r\nL 113.852298 101.077308 \r\nL 113.906416 75.76165 \r\nL 113.960535 78.203946 \r\nL 114.068773 78.119687 \r\nL 114.122891 105.413987 \r\nL 114.231129 61.156787 \r\nL 114.285247 119.547755 \r\nL 114.339366 62.100762 \r\nL 114.60996 96.636724 \r\nL 114.772316 75.889391 \r\nL 114.826435 98.589559 \r\nL 114.880553 95.588945 \r\nL 115.042909 80.117976 \r\nL 115.097028 77.330542 \r\nL 115.205266 88.993228 \r\nL 115.259384 77.630831 \r\nL 115.42174 103.920488 \r\nL 115.475859 86.079823 \r\nL 115.529978 102.973721 \r\nL 115.638215 84.131998 \r\nL 115.692334 97.745705 \r\nL 115.746453 95.314564 \r\nL 115.85469 83.194946 \r\nL 115.962928 86.408697 \r\nL 116.017046 64.668193 \r\nL 116.071165 119.205236 \r\nL 116.125284 80.737423 \r\nL 116.179402 80.891259 \r\nL 116.233521 108.116111 \r\nL 116.28764 98.772211 \r\nL 116.341759 98.812282 \r\nL 116.395877 70.854678 \r\nL 116.449996 95.643985 \r\nL 116.504115 94.618213 \r\nL 116.558233 86.472417 \r\nL 116.612352 99.313675 \r\nL 116.666471 78.94968 \r\nL 116.72059 95.258617 \r\nL 116.828827 68.592142 \r\nL 116.882946 84.006646 \r\nL 116.937064 112.801828 \r\nL 116.991183 78.301734 \r\nL 117.045302 88.116384 \r\nL 117.153539 97.375392 \r\nL 117.207658 87.785322 \r\nL 117.261777 95.485471 \r\nL 117.370014 109.21408 \r\nL 117.424133 107.992011 \r\nL 117.53237 74.890607 \r\nL 117.586489 106.83703 \r\nL 117.640608 93.965316 \r\nL 117.694726 82.450349 \r\nL 117.748845 41.165149 \r\nL 117.802964 79.448079 \r\nL 117.857082 130.511355 \r\nL 117.911201 95.512746 \r\nL 117.96532 90.127986 \r\nL 118.073557 128.08436 \r\nL 118.235913 74.45528 \r\nL 118.290032 68.543578 \r\nL 118.39827 88.936259 \r\nL 118.452388 60.51942 \r\nL 118.506507 107.159225 \r\nL 118.560626 88.518117 \r\nL 118.614744 71.106101 \r\nL 118.722982 110.738496 \r\nL 118.777101 98.5149 \r\nL 118.939457 75.400924 \r\nL 118.993575 112.495509 \r\nL 119.047694 77.227615 \r\nL 119.155932 97.736032 \r\nL 119.318288 78.425028 \r\nL 119.372406 84.816776 \r\nL 119.426525 107.547573 \r\nL 119.480644 98.155887 \r\nL 119.588881 79.643829 \r\nL 119.643 85.786285 \r\nL 119.697119 95.155057 \r\nL 119.751237 87.86699 \r\nL 119.805356 78.371513 \r\nL 119.913594 95.85325 \r\nL 120.021831 81.539162 \r\nL 120.130068 95.28703 \r\nL 120.184187 88.217814 \r\nL 120.238306 87.62675 \r\nL 120.292425 114.885815 \r\nL 120.400662 75.27812 \r\nL 120.563018 97.020552 \r\nL 120.617137 87.381933 \r\nL 120.671255 102.441137 \r\nL 120.725374 91.207403 \r\nL 120.833612 86.041191 \r\nL 120.88773 118.48551 \r\nL 120.941849 101.341225 \r\nL 121.050086 115.564261 \r\nL 121.104205 100.187841 \r\nL 121.158324 119.896966 \r\nL 121.212443 105.767804 \r\nL 121.266561 96.66649 \r\nL 121.32068 118.733133 \r\nL 121.374799 114.732727 \r\nL 121.483036 84.584208 \r\nL 121.537155 118.294294 \r\nL 121.591274 93.443009 \r\nL 121.645392 75.284683 \r\nL 121.699511 96.033484 \r\nL 121.75363 71.218413 \r\nL 121.861867 125.050008 \r\nL 121.915986 76.454403 \r\nL 121.970105 109.740791 \r\nL 122.024223 103.406126 \r\nL 122.078342 77.302345 \r\nL 122.132461 100.541746 \r\nL 122.240698 116.178742 \r\nL 122.294817 86.587592 \r\nL 122.348936 102.472544 \r\nL 122.511292 118.399121 \r\nL 122.56541 86.656997 \r\nL 122.619529 102.065514 \r\nL 122.836004 72.969021 \r\nL 122.890123 106.473036 \r\nL 122.944241 97.393585 \r\nL 122.99836 84.695052 \r\nL 123.052479 85.744558 \r\nL 123.106598 127.831123 \r\nL 123.160716 94.214666 \r\nL 123.214835 80.183379 \r\nL 123.268954 88.558591 \r\nL 123.323072 86.232206 \r\nL 123.377191 70.443647 \r\nL 123.43131 112.130723 \r\nL 123.485429 93.794869 \r\nL 123.539547 109.034393 \r\nL 123.593666 98.752377 \r\nL 123.647785 106.84581 \r\nL 123.756022 85.561288 \r\nL 123.86426 108.021201 \r\nL 123.918378 82.817279 \r\nL 123.972497 98.90273 \r\nL 124.026616 100.340771 \r\nL 124.080734 86.094994 \r\nL 124.134853 98.126783 \r\nL 124.188972 123.438929 \r\nL 124.297209 83.566713 \r\nL 124.459565 109.376221 \r\nL 124.513684 99.015761 \r\nL 124.567803 109.036264 \r\nL 124.621921 99.81763 \r\nL 124.67604 114.052842 \r\nL 124.730159 76.865089 \r\nL 124.784278 79.855297 \r\nL 124.892515 94.007143 \r\nL 124.946634 85.711238 \r\nL 125.054871 125.404487 \r\nL 125.163109 68.108467 \r\nL 125.325465 123.904368 \r\nL 125.379583 84.453402 \r\nL 125.433702 105.666792 \r\nL 125.487821 90.608063 \r\nL 125.54194 104.054576 \r\nL 125.596058 110.214995 \r\nL 125.650177 87.490546 \r\nL 125.704296 89.309205 \r\nL 125.758414 103.802476 \r\nL 125.812533 91.530649 \r\nL 125.866652 74.279594 \r\nL 125.920771 103.938767 \r\nL 126.029008 103.013677 \r\nL 126.083127 88.466977 \r\nL 126.137245 97.848847 \r\nL 126.191364 89.899031 \r\nL 126.245483 97.092764 \r\nL 126.35372 107.361999 \r\nL 126.461958 96.568874 \r\nL 126.516076 97.704655 \r\nL 126.570195 125.037241 \r\nL 126.624314 82.787412 \r\nL 126.678433 97.753506 \r\nL 126.732551 85.344164 \r\nL 126.78667 129.41163 \r\nL 126.840789 79.707865 \r\nL 126.894907 99.848475 \r\nL 126.949026 112.912686 \r\nL 127.003145 70.810131 \r\nL 127.057264 120.218485 \r\nL 127.111382 107.583657 \r\nL 127.21962 64.776417 \r\nL 127.273738 74.446701 \r\nL 127.327857 100.15786 \r\nL 127.381976 53.202092 \r\nL 127.436094 66.092791 \r\nL 127.598451 81.29174 \r\nL 127.652569 79.975236 \r\nL 127.760807 127.883227 \r\nL 127.814925 86.285389 \r\nL 127.869044 93.731596 \r\nL 127.923163 98.652199 \r\nL 127.977282 113.7454 \r\nL 128.0314 79.044964 \r\nL 128.085519 117.693975 \r\nL 128.139638 103.757555 \r\nL 128.193756 79.38282 \r\nL 128.247875 90.793017 \r\nL 128.301994 105.834949 \r\nL 128.356113 78.13621 \r\nL 128.410231 96.858008 \r\nL 128.46435 91.235988 \r\nL 128.518469 121.304048 \r\nL 128.572587 89.760092 \r\nL 128.626706 91.827123 \r\nL 128.680825 115.283936 \r\nL 128.734944 106.556993 \r\nL 128.789062 101.51442 \r\nL 128.843181 112.842274 \r\nL 128.8973 103.253888 \r\nL 128.951418 74.967885 \r\nL 129.005537 93.882813 \r\nL 129.059656 102.577385 \r\nL 129.113775 91.362649 \r\nL 129.167893 97.521024 \r\nL 129.222012 114.298652 \r\nL 129.276131 107.541067 \r\nL 129.492606 117.277849 \r\nL 129.546724 116.452792 \r\nL 129.600843 98.182975 \r\nL 129.654962 123.149594 \r\nL 129.70908 96.914257 \r\nL 129.763199 96.887227 \r\nL 129.817318 126.97869 \r\nL 129.871437 89.229452 \r\nL 129.925555 132.101116 \r\nL 129.979674 118.465805 \r\nL 130.087911 94.757742 \r\nL 130.196149 120.224934 \r\nL 130.250268 101.710444 \r\nL 130.304386 107.536936 \r\nL 130.358505 117.994638 \r\nL 130.466742 78.112116 \r\nL 130.520861 110.77042 \r\nL 130.57498 97.212085 \r\nL 130.629099 98.855563 \r\nL 130.683217 85.065897 \r\nL 130.845573 121.123655 \r\nL 130.899692 76.577783 \r\nL 130.953811 127.756248 \r\nL 131.007929 122.965186 \r\nL 131.170286 69.483998 \r\nL 131.224404 124.296832 \r\nL 131.278523 76.762335 \r\nL 131.440879 132.455294 \r\nL 131.494998 88.6266 \r\nL 131.549117 98.8625 \r\nL 131.657354 128.690925 \r\nL 131.765591 84.062694 \r\nL 131.81971 97.890041 \r\nL 131.873829 87.436067 \r\nL 132.090304 110.757653 \r\nL 132.306779 76.653737 \r\nL 132.469135 128.026455 \r\nL 132.577372 110.345053 \r\nL 132.739728 85.944612 \r\nL 132.793847 108.138622 \r\nL 132.847966 96.497368 \r\nL 132.902084 106.831805 \r\nL 132.956203 84.237731 \r\nL 133.118559 135.123191 \r\nL 133.280915 110.784943 \r\nL 133.335034 134.949852 \r\nL 133.389153 121.646754 \r\nL 133.443272 120.527943 \r\nL 133.551509 79.150597 \r\nL 133.659746 118.931646 \r\nL 133.767984 88.429396 \r\nL 133.822103 100.609164 \r\nL 133.876221 118.493656 \r\nL 133.93034 83.994771 \r\nL 133.984459 104.182346 \r\nL 134.092696 84.270721 \r\nL 134.146815 95.919589 \r\nL 134.36329 123.905188 \r\nL 134.525646 88.552949 \r\nL 134.579764 100.088916 \r\nL 134.633883 135.513438 \r\nL 134.688002 86.195877 \r\nL 134.742121 121.36247 \r\nL 134.904477 95.562864 \r\nL 134.958595 101.667609 \r\nL 135.012714 107.468021 \r\nL 135.066833 83.037123 \r\nL 135.120952 109.094385 \r\nL 135.17507 77.199073 \r\nL 135.229189 86.792496 \r\nL 135.391545 110.398395 \r\nL 135.445664 87.492 \r\nL 135.499783 104.866549 \r\nL 135.553901 116.625829 \r\nL 135.60802 105.507097 \r\nL 135.662139 68.286499 \r\nL 135.716257 134.383026 \r\nL 135.770376 96.357464 \r\nL 135.878614 124.095799 \r\nL 135.986851 94.271894 \r\nL 136.04097 98.581153 \r\nL 136.095088 120.038899 \r\nL 136.149207 70.347614 \r\nL 136.203326 121.047874 \r\nL 136.257445 78.177491 \r\nL 136.311563 110.844561 \r\nL 136.365682 125.55022 \r\nL 136.419801 123.741104 \r\nL 136.473919 69.973948 \r\nL 136.528038 125.814008 \r\nL 136.582157 93.94944 \r\nL 136.636276 111.904603 \r\nL 136.798632 89.467014 \r\nL 136.85275 109.234519 \r\nL 136.906869 102.28625 \r\nL 136.960988 85.414116 \r\nL 137.123344 139.370371 \r\nL 137.231581 85.646439 \r\nL 137.339819 132.58269 \r\nL 137.393938 116.005806 \r\nL 137.502175 67.66459 \r\nL 137.610412 120.641953 \r\nL 137.71865 98.117917 \r\nL 137.772768 101.036633 \r\nL 137.881006 120.776775 \r\nL 137.935125 72.85016 \r\nL 137.989243 126.180002 \r\nL 138.043362 99.598088 \r\nL 138.097481 84.731136 \r\nL 138.151599 122.551031 \r\nL 138.205718 110.75846 \r\nL 138.313956 77.906838 \r\nL 138.476312 111.319412 \r\nL 138.53043 115.314536 \r\nL 138.692787 65.91132 \r\nL 138.746905 94.555674 \r\nL 138.801024 122.26017 \r\nL 138.855143 106.915287 \r\nL 138.909261 70.970646 \r\nL 139.017499 115.347151 \r\nL 139.071618 93.808226 \r\nL 139.125736 110.83663 \r\nL 139.233974 116.150963 \r\nL 139.288092 94.370777 \r\nL 139.342211 106.038615 \r\nL 139.39633 115.910997 \r\nL 139.450449 110.00193 \r\nL 139.504567 110.415379 \r\nL 139.558686 113.997197 \r\nL 139.666923 86.306001 \r\nL 139.721042 94.812797 \r\nL 139.82928 129.395739 \r\nL 139.937517 91.777783 \r\nL 140.045754 113.360751 \r\nL 140.099873 86.186996 \r\nL 140.153992 103.035224 \r\nL 140.208111 108.480508 \r\nL 140.262229 101.842805 \r\nL 140.316348 102.198552 \r\nL 140.370467 104.256976 \r\nL 140.424585 75.929822 \r\nL 140.532823 113.635362 \r\nL 140.586942 102.778921 \r\nL 140.64106 116.102832 \r\nL 140.695179 110.396366 \r\nL 140.803416 82.320981 \r\nL 140.965773 115.19995 \r\nL 141.128129 87.3507 \r\nL 141.182247 109.40151 \r\nL 141.236366 106.640676 \r\nL 141.290485 75.390417 \r\nL 141.344603 91.119171 \r\nL 141.50696 124.367431 \r\nL 141.561078 88.702827 \r\nL 141.615197 95.623043 \r\nL 141.777553 142.443499 \r\nL 141.885791 97.311802 \r\nL 141.939909 101.048349 \r\nL 141.994028 99.121135 \r\nL 142.048147 111.25149 \r\nL 142.102265 103.917436 \r\nL 142.156384 89.449051 \r\nL 142.210503 116.293889 \r\nL 142.264622 106.577028 \r\nL 142.31874 101.782468 \r\nL 142.372859 128.433543 \r\nL 142.426978 98.745036 \r\nL 142.481096 102.098705 \r\nL 142.535215 124.433007 \r\nL 142.589334 114.882274 \r\nL 142.643453 105.428941 \r\nL 142.805809 123.448602 \r\nL 142.859927 120.094789 \r\nL 142.968165 86.680847 \r\nL 143.022284 136.59985 \r\nL 143.076402 103.788385 \r\nL 143.130521 105.37452 \r\nL 143.18464 82.035373 \r\nL 143.238758 94.761182 \r\nL 143.401115 121.340017 \r\nL 143.455233 114.586462 \r\nL 143.563471 116.991694 \r\nL 143.617589 78.522903 \r\nL 143.671708 109.553044 \r\nL 143.834064 124.512387 \r\nL 143.942302 89.183263 \r\nL 144.050539 120.115933 \r\nL 144.104658 90.167928 \r\nL 144.158777 94.132091 \r\nL 144.212895 98.52866 \r\nL 144.267014 127.662979 \r\nL 144.321133 100.361641 \r\nL 144.375251 95.941251 \r\nL 144.483489 126.717565 \r\nL 144.537607 124.945382 \r\nL 144.591726 88.630932 \r\nL 144.645845 109.145524 \r\nL 144.699964 106.064063 \r\nL 144.754082 135.740738 \r\nL 144.808201 114.737923 \r\nL 144.916438 104.402737 \r\nL 144.970557 128.500069 \r\nL 145.024676 117.380574 \r\nL 145.187032 90.840818 \r\nL 145.295269 119.014452 \r\nL 145.349388 97.818765 \r\nL 145.403507 131.12267 \r\nL 145.457626 96.772252 \r\nL 145.511744 94.382838 \r\nL 145.565863 85.343602 \r\nL 145.619982 130.709407 \r\nL 145.6741 96.224901 \r\nL 145.890575 141.277607 \r\nL 146.052931 123.50629 \r\nL 146.10705 116.591645 \r\nL 146.161169 89.358056 \r\nL 146.323525 133.497244 \r\nL 146.485881 98.288622 \r\nL 146.54 102.549433 \r\nL 146.594119 136.104487 \r\nL 146.648237 106.765884 \r\nL 146.702356 132.768508 \r\nL 146.756475 121.027004 \r\nL 146.810593 110.087095 \r\nL 146.864712 111.657066 \r\nL 146.918831 130.241306 \r\nL 147.027068 131.508426 \r\nL 147.135306 75.035778 \r\nL 147.297662 131.116034 \r\nL 147.460018 103.185562 \r\nL 147.514137 100.450909 \r\nL 147.568255 121.905518 \r\nL 147.622374 74.660817 \r\nL 147.676493 91.18066 \r\nL 147.730612 89.455183 \r\nL 147.78473 133.068135 \r\nL 147.838849 121.97118 \r\nL 147.892968 104.829774 \r\nL 147.947086 123.17412 \r\nL 148.001205 108.31271 \r\nL 148.109442 94.802707 \r\nL 148.163561 129.347334 \r\nL 148.21768 100.722742 \r\nL 148.271799 109.863336 \r\nL 148.325917 91.933893 \r\nL 148.380036 100.02665 \r\nL 148.596511 130.555989 \r\nL 148.704748 131.212585 \r\nL 148.758867 94.303919 \r\nL 148.867104 94.287928 \r\nL 148.921223 132.184224 \r\nL 149.029461 99.768304 \r\nL 149.083579 102.483425 \r\nL 149.191817 145.667426 \r\nL 149.300054 94.658644 \r\nL 149.354173 114.736844 \r\nL 149.408292 112.727472 \r\nL 149.46241 95.644906 \r\nL 149.516529 114.670174 \r\nL 149.570648 111.527929 \r\nL 149.624766 85.042234 \r\nL 149.678885 121.877263 \r\nL 149.733004 99.004692 \r\nL 149.787123 68.556029 \r\nL 149.841241 127.531856 \r\nL 149.89536 97.936575 \r\nL 150.111835 133.559121 \r\nL 150.32831 108.082546 \r\nL 150.382428 115.906276 \r\nL 150.436547 86.317889 \r\nL 150.490666 103.124534 \r\nL 150.598903 130.962932 \r\nL 150.653022 75.039665 \r\nL 150.707141 129.878205 \r\nL 150.815378 80.461603 \r\nL 150.869497 122.003479 \r\nL 150.923616 110.345168 \r\nL 150.977734 111.729666 \r\nL 151.031853 134.641603 \r\nL 151.194209 94.239092 \r\nL 151.248328 112.903733 \r\nL 151.302446 93.005537 \r\nL 151.356565 117.164155 \r\nL 151.410684 103.111739 \r\nL 151.57304 81.303341 \r\nL 151.627159 146.524162 \r\nL 151.681277 116.798233 \r\nL 151.735396 113.522504 \r\nL 151.789515 90.728564 \r\nL 151.843634 111.019123 \r\nL 151.897752 102.743081 \r\nL 151.951871 123.799023 \r\nL 152.114227 75.28215 \r\nL 152.222465 139.23244 \r\nL 152.276583 129.402965 \r\nL 152.330702 128.993992 \r\nL 152.438939 84.388948 \r\nL 152.547177 148.89547 \r\nL 152.601296 110.534326 \r\nL 152.655414 122.897436 \r\nL 152.709533 122.313829 \r\nL 152.81777 84.004069 \r\nL 152.926008 128.589581 \r\nL 153.088364 85.093446 \r\nL 153.142483 125.012067 \r\nL 153.196601 112.668661 \r\nL 153.25072 113.056332 \r\nL 153.304839 132.02083 \r\nL 153.413076 76.853459 \r\nL 153.467195 101.024283 \r\nL 153.521314 130.631726 \r\nL 153.575432 108.541348 \r\nL 153.629551 99.752557 \r\nL 153.68367 101.77317 \r\nL 153.737789 121.778755 \r\nL 153.791907 100.165978 \r\nL 153.846026 101.097142 \r\nL 153.954263 144.496209 \r\nL 154.008382 141.636722 \r\nL 154.062501 140.445412 \r\nL 154.11662 101.555139 \r\nL 154.170738 133.389294 \r\nL 154.333094 77.828595 \r\nL 154.441332 118.839961 \r\nL 154.495451 88.226709 \r\nL 154.549569 118.266471 \r\nL 154.603688 90.643629 \r\nL 154.657807 91.013207 \r\nL 154.766044 131.779914 \r\nL 154.820163 131.31213 \r\nL 154.874281 108.243363 \r\nL 154.9284 129.07422 \r\nL 154.982519 127.287471 \r\nL 155.036638 130.536198 \r\nL 155.090756 122.522547 \r\nL 155.144875 148.253252 \r\nL 155.307231 81.818552 \r\nL 155.36135 136.637791 \r\nL 155.415469 123.581236 \r\nL 155.523706 106.672543 \r\nL 155.577825 123.165887 \r\nL 155.631943 106.116368 \r\nL 155.686062 107.604643 \r\nL 155.7943 136.210394 \r\nL 155.848418 97.45896 \r\nL 155.902537 123.037268 \r\nL 156.064893 142.858604 \r\nL 156.119012 125.063149 \r\nL 156.173131 126.515828 \r\nL 156.227249 138.966767 \r\nL 156.281368 109.991567 \r\nL 156.443724 142.770775 \r\nL 156.660199 97.196468 \r\nL 156.822555 149.983464 \r\nL 156.930793 83.465945 \r\nL 157.03903 127.475722 \r\nL 157.093149 122.872133 \r\nL 157.147267 121.678505 \r\nL 157.201386 68.885565 \r\nL 157.363742 145.049519 \r\nL 157.47198 97.181398 \r\nL 157.526098 113.523886 \r\nL 157.580217 119.41024 \r\nL 157.634336 113.747731 \r\nL 157.688455 109.926494 \r\nL 157.742573 97.887897 \r\nL 157.796692 109.577973 \r\nL 157.850811 109.375027 \r\nL 157.904929 125.194229 \r\nL 158.013167 124.471222 \r\nL 158.067285 91.795444 \r\nL 158.121404 123.000723 \r\nL 158.28376 107.303792 \r\nL 158.337879 108.770217 \r\nL 158.391998 118.728642 \r\nL 158.446116 97.80597 \r\nL 158.500235 135.34387 \r\nL 158.554354 126.82137 \r\nL 158.608473 127.260051 \r\nL 158.662591 122.08342 \r\nL 158.71671 95.32664 \r\nL 158.770829 116.865781 \r\nL 158.824947 109.443798 \r\nL 158.879066 126.931912 \r\nL 158.933185 123.141289 \r\nL 158.987304 109.651063 \r\nL 159.041422 111.894326 \r\nL 159.203778 137.198642 \r\nL 159.257897 135.76715 \r\nL 159.366135 96.287628 \r\nL 159.420253 100.010141 \r\nL 159.474372 90.521472 \r\nL 159.690847 118.003519 \r\nL 159.853203 142.796885 \r\nL 159.907322 84.773999 \r\nL 159.96144 114.926491 \r\nL 160.015559 114.33737 \r\nL 160.069678 111.778172 \r\nL 160.232034 133.984028 \r\nL 160.286153 98.106733 \r\nL 160.340271 128.362411 \r\nL 160.39439 106.693067 \r\nL 160.502628 107.474152 \r\nL 160.556746 130.701621 \r\nL 160.610865 101.348969 \r\nL 160.664984 107.993263 \r\nL 160.719102 146.04898 \r\nL 160.773221 134.765919 \r\nL 160.82734 86.654493 \r\nL 160.881459 121.655879 \r\nL 160.935577 97.174417 \r\nL 160.989696 132.871306 \r\nL 161.043815 118.795687 \r\nL 161.152052 128.692508 \r\nL 161.206171 112.339139 \r\nL 161.26029 150.421987 \r\nL 161.314408 91.894326 \r\nL 161.368527 121.03659 \r\nL 161.422646 139.392436 \r\nL 161.476764 136.440659 \r\nL 161.585002 94.568973 \r\nL 161.63912 143.24639 \r\nL 161.693239 120.045103 \r\nL 161.801477 155.302821 \r\nL 161.855595 114.159396 \r\nL 161.909714 122.822821 \r\nL 161.963833 121.599126 \r\nL 162.017951 112.371409 \r\nL 162.07207 133.43351 \r\nL 162.126189 133.094028 \r\nL 162.234426 117.004663 \r\nL 162.288545 74.838719 \r\nL 162.342664 126.189588 \r\nL 162.396782 115.562505 \r\nL 162.450901 98.442545 \r\nL 162.613257 136.121587 \r\nL 162.721495 121.026025 \r\nL 162.775613 139.621204 \r\nL 162.93797 104.694577 \r\nL 162.992088 122.530449 \r\nL 163.046207 102.101296 \r\nL 163.100326 102.773797 \r\nL 163.154444 148.69759 \r\nL 163.208563 127.285168 \r\nL 163.262682 128.996611 \r\nL 163.316801 113.947137 \r\nL 163.370919 142.524706 \r\nL 163.425038 141.149679 \r\nL 163.533275 114.639084 \r\nL 163.587394 133.408178 \r\nL 163.641513 128.049902 \r\nL 163.695632 111.443569 \r\nL 163.74975 123.962733 \r\nL 163.857988 109.119026 \r\nL 163.912106 142.654822 \r\nL 163.966225 119.52972 \r\nL 164.020344 79.829158 \r\nL 164.128581 142.603798 \r\nL 164.1827 120.219651 \r\nL 164.236819 144.411993 \r\nL 164.290937 100.280017 \r\nL 164.345056 133.990419 \r\nL 164.399175 108.852346 \r\nL 164.453294 133.473538 \r\nL 164.507412 117.974963 \r\nL 164.561531 136.883672 \r\nL 164.61565 134.022516 \r\nL 164.669768 125.688756 \r\nL 164.723887 137.999461 \r\nL 164.778006 100.340857 \r\nL 164.832124 102.237845 \r\nL 164.940362 131.189599 \r\nL 164.994481 116.823853 \r\nL 165.048599 132.222769 \r\nL 165.102718 104.857597 \r\nL 165.156837 116.371254 \r\nL 165.210955 131.312302 \r\nL 165.265074 125.914099 \r\nL 165.319193 116.567363 \r\nL 165.373312 148.880875 \r\nL 165.481549 70.132808 \r\nL 165.535668 98.504782 \r\nL 165.589786 132.078404 \r\nL 165.698024 130.517601 \r\nL 165.86038 112.998658 \r\nL 165.968617 156.178902 \r\nL 166.185092 97.004403 \r\nL 166.29333 133.261323 \r\nL 166.401567 101.030818 \r\nL 166.455686 124.445486 \r\nL 166.509805 116.584837 \r\nL 166.563923 112.590634 \r\nL 166.618042 114.778354 \r\nL 166.672161 119.736365 \r\nL 166.780398 98.231596 \r\nL 166.834517 144.442507 \r\nL 166.888636 93.693713 \r\nL 166.942754 126.665058 \r\nL 166.996873 126.305728 \r\nL 167.050992 124.405199 \r\nL 167.10511 110.398942 \r\nL 167.159229 117.685469 \r\nL 167.213348 133.706006 \r\nL 167.321585 90.322441 \r\nL 167.483941 143.124392 \r\nL 167.646298 103.095258 \r\nL 167.754535 114.479821 \r\nL 167.916891 111.789456 \r\nL 167.97101 138.499328 \r\nL 168.025129 134.487681 \r\nL 168.079247 131.20179 \r\nL 168.187485 95.708928 \r\nL 168.349841 135.924801 \r\nL 168.403959 134.437851 \r\nL 168.458078 116.860729 \r\nL 168.512197 129.958635 \r\nL 168.566316 129.289286 \r\nL 168.674553 101.581047 \r\nL 168.728672 150.028487 \r\nL 168.78279 142.822246 \r\nL 168.836909 89.005174 \r\nL 168.891028 145.626103 \r\nL 169.053384 99.471009 \r\nL 169.107503 110.058366 \r\nL 169.269859 146.062999 \r\nL 169.323978 96.162175 \r\nL 169.378096 120.842668 \r\nL 169.432215 146.697041 \r\nL 169.486334 136.825941 \r\nL 169.594571 86.462773 \r\nL 169.756927 136.367354 \r\nL 169.811046 141.652238 \r\nL 169.865165 180.647445 \r\nL 169.919283 97.006605 \r\nL 169.973402 103.835466 \r\nL 170.027521 150.276283 \r\nL 170.08164 113.506758 \r\nL 170.135758 117.682273 \r\nL 170.189877 95.781384 \r\nL 170.352233 134.279567 \r\nL 170.460471 82.881934 \r\nL 170.514589 119.069736 \r\nL 170.568708 115.915013 \r\nL 170.622827 135.368727 \r\nL 170.676945 117.376803 \r\nL 170.731064 83.302047 \r\nL 170.89342 136.144688 \r\nL 170.947539 116.71039 \r\nL 171.001658 158.659627 \r\nL 171.055776 128.997748 \r\nL 171.109895 149.676885 \r\nL 171.164014 109.565912 \r\nL 171.218133 123.170608 \r\nL 171.272251 117.353529 \r\nL 171.32637 129.716395 \r\nL 171.380489 97.654033 \r\nL 171.434607 117.538455 \r\nL 171.488726 105.220353 \r\nL 171.596964 136.74243 \r\nL 171.651082 128.963837 \r\nL 171.705201 96.950759 \r\nL 171.813438 147.553087 \r\nL 171.867557 120.294612 \r\nL 171.921676 135.592904 \r\nL 171.975794 155.678905 \r\nL 172.138151 110.504503 \r\nL 172.192269 104.946173 \r\nL 172.246388 105.786732 \r\nL 172.300507 144.496482 \r\nL 172.354625 129.221234 \r\nL 172.462863 114.181001 \r\nL 172.516982 148.576455 \r\nL 172.5711 120.570677 \r\nL 172.625219 71.741842 \r\nL 172.679338 108.669953 \r\nL 172.733456 107.315883 \r\nL 172.787575 153.068035 \r\nL 172.841694 111.981723 \r\nL 172.895813 109.029471 \r\nL 173.058169 154.979445 \r\nL 173.328762 49.821119 \r\nL 173.437 124.38892 \r\nL 173.491118 117.196728 \r\nL 173.545237 140.269957 \r\nL 173.599356 135.730864 \r\nL 173.653475 104.845017 \r\nL 173.707593 130.791018 \r\nL 173.761712 134.48889 \r\nL 173.815831 113.093783 \r\nL 173.869949 138.960477 \r\nL 174.032306 86.830034 \r\nL 174.140543 147.711673 \r\nL 174.194662 141.842792 \r\nL 174.24878 108.427569 \r\nL 174.302899 140.889217 \r\nL 174.357018 124.036974 \r\nL 174.411137 129.998965 \r\nL 174.465255 137.190035 \r\nL 174.573493 91.171966 \r\nL 174.627611 98.747166 \r\nL 174.68173 142.565051 \r\nL 174.735849 103.326905 \r\nL 174.789968 108.700395 \r\nL 174.898205 93.390272 \r\nL 174.952324 98.22627 \r\nL 175.006442 144.859569 \r\nL 175.060561 96.615825 \r\nL 175.11468 130.290834 \r\nL 175.168798 43.504331 \r\nL 175.222917 108.475959 \r\nL 175.277036 98.164278 \r\nL 175.439392 145.333514 \r\nL 175.547629 61.299915 \r\nL 175.709986 123.240416 \r\nL 175.764104 153.980041 \r\nL 175.872342 112.215414 \r\nL 175.980579 143.05847 \r\nL 176.142935 91.688976 \r\nL 176.251173 135.981698 \r\nL 176.305291 126.914582 \r\nL 176.413529 111.565611 \r\nL 176.467648 115.00944 \r\nL 176.630004 92.414747 \r\nL 176.900597 140.415315 \r\nL 176.954716 90.001872 \r\nL 177.008835 125.027065 \r\nL 177.171191 94.155366 \r\nL 177.333547 137.288716 \r\nL 177.387666 109.709586 \r\nL 177.441784 118.247256 \r\nL 177.495903 113.82334 \r\nL 177.550022 89.551115 \r\nL 177.604141 142.396375 \r\nL 177.658259 142.192047 \r\nL 177.712378 98.523752 \r\nL 177.766497 148.707751 \r\nL 177.820615 110.01225 \r\nL 177.874734 143.383112 \r\nL 177.928853 121.574024 \r\nL 178.145328 84.48298 \r\nL 178.307684 148.308278 \r\nL 178.47004 107.246133 \r\nL 178.524159 133.296889 \r\nL 178.578277 131.159416 \r\nL 178.686515 105.876028 \r\nL 178.740633 139.088434 \r\nL 178.794752 93.143094 \r\nL 178.848871 129.653884 \r\nL 178.90299 133.785846 \r\nL 179.011227 91.826922 \r\nL 179.119464 149.177896 \r\nL 179.173583 128.061402 \r\nL 179.227702 98.712694 \r\nL 179.281821 116.51192 \r\nL 179.335939 115.689728 \r\nL 179.444177 124.660437 \r\nL 179.498295 96.158001 \r\nL 179.552414 124.754281 \r\nL 179.660652 129.875384 \r\nL 179.71477 104.057325 \r\nL 179.768889 138.054098 \r\nL 179.823008 119.312927 \r\nL 179.877126 102.501187 \r\nL 179.931245 107.742488 \r\nL 179.985364 116.418118 \r\nL 180.039483 86.097916 \r\nL 180.201839 131.97077 \r\nL 180.364195 105.043372 \r\nL 180.418314 110.630646 \r\nL 180.472432 112.051934 \r\nL 180.526551 145.823148 \r\nL 180.58067 100.583342 \r\nL 180.634788 106.462889 \r\nL 180.797145 155.104048 \r\nL 180.851263 87.330722 \r\nL 180.905382 148.543321 \r\nL 181.067738 110.724405 \r\nL 181.175976 120.50582 \r\nL 181.230094 118.85991 \r\nL 181.284213 105.681588 \r\nL 181.338332 121.904078 \r\nL 181.39245 89.8834 \r\nL 181.446569 90.358539 \r\nL 181.500688 163.694585 \r\nL 181.554807 115.520246 \r\nL 181.717163 159.111838 \r\nL 181.771281 104.440232 \r\nL 181.879519 105.439851 \r\nL 181.987756 149.067686 \r\nL 182.095994 140.24153 \r\nL 182.150112 130.065031 \r\nL 182.204231 150.966992 \r\nL 182.25835 145.983216 \r\nL 182.312468 107.061336 \r\nL 182.366587 140.318649 \r\nL 182.420706 118.827179 \r\nL 182.474825 152.68497 \r\nL 182.637181 95.135554 \r\nL 182.691299 143.946829 \r\nL 182.745418 74.289885 \r\nL 182.799537 107.638093 \r\nL 182.853656 112.537825 \r\nL 183.016012 151.764874 \r\nL 183.07013 114.404299 \r\nL 183.124249 133.542871 \r\nL 183.178368 142.393583 \r\nL 183.232487 101.719612 \r\nL 183.286605 145.849891 \r\nL 183.340724 131.664105 \r\nL 183.394843 127.69001 \r\nL 183.448961 128.649285 \r\nL 183.50308 110.471744 \r\nL 183.665436 145.335846 \r\nL 183.773674 104.207938 \r\nL 183.881911 116.41724 \r\nL 183.990149 131.546482 \r\nL 184.044267 122.022838 \r\nL 184.098386 154.115483 \r\nL 184.152505 84.372223 \r\nL 184.206623 117.620771 \r\nL 184.260742 153.802974 \r\nL 184.314861 131.455718 \r\nL 184.36898 117.813455 \r\nL 184.477217 143.873566 \r\nL 184.531336 114.89874 \r\nL 184.585454 151.020621 \r\nL 184.639573 109.559175 \r\nL 184.693692 130.260953 \r\nL 184.747811 123.26097 \r\nL 184.801929 99.194224 \r\nL 184.910167 154.858497 \r\nL 185.072523 101.41905 \r\nL 185.126642 116.033787 \r\nL 185.18076 104.486651 \r\nL 185.234879 112.401837 \r\nL 185.288998 100.500854 \r\nL 185.343116 110.812651 \r\nL 185.397235 113.659155 \r\nL 185.451354 149.720253 \r\nL 185.505472 137.341842 \r\nL 185.559591 100.27341 \r\nL 185.61371 112.486815 \r\nL 185.667829 150.461928 \r\nL 185.721947 136.13444 \r\nL 185.776066 97.538699 \r\nL 185.884303 154.040897 \r\nL 185.938422 90.641585 \r\nL 185.992541 128.455968 \r\nL 186.154897 134.967325 \r\nL 186.209016 119.709493 \r\nL 186.263134 131.829427 \r\nL 186.371372 113.607626 \r\nL 186.425491 133.377621 \r\nL 186.479609 72.654094 \r\nL 186.533728 113.887779 \r\nL 186.587847 137.524609 \r\nL 186.750203 105.301819 \r\nL 186.804322 112.492817 \r\nL 186.85844 166.787331 \r\nL 186.912559 136.426208 \r\nL 186.966678 114.677773 \r\nL 187.020796 140.2891 \r\nL 187.074915 65.142296 \r\nL 187.129034 137.384475 \r\nL 187.183153 140.730832 \r\nL 187.345509 95.475899 \r\nL 187.399627 106.156238 \r\nL 187.453746 107.266557 \r\nL 187.561984 117.402582 \r\nL 187.616102 160.221408 \r\nL 187.670221 116.107697 \r\nL 187.778458 134.346295 \r\nL 187.832577 96.72723 \r\nL 187.940815 149.586178 \r\nL 188.049052 121.7026 \r\nL 188.157289 122.911643 \r\nL 188.265527 153.582353 \r\nL 188.373764 116.585269 \r\nL 188.427883 119.12115 \r\nL 188.482002 110.957635 \r\nL 188.53612 133.720284 \r\nL 188.698476 71.582997 \r\nL 188.860833 141.681125 \r\nL 189.077307 89.645391 \r\nL 189.293782 121.394553 \r\nL 189.347901 110.915434 \r\nL 189.40202 146.260418 \r\nL 189.456138 128.46954 \r\nL 189.510257 123.046854 \r\nL 189.564376 136.702949 \r\nL 189.618495 90.65677 \r\nL 189.672613 97.273372 \r\nL 189.726732 146.602433 \r\nL 189.780851 120.778575 \r\nL 189.834969 123.525491 \r\nL 189.943207 71.918607 \r\nL 190.051444 147.293934 \r\nL 190.105563 139.451118 \r\nL 190.159682 147.028779 \r\nL 190.2138 105.312211 \r\nL 190.267919 141.046277 \r\nL 190.322038 138.152879 \r\nL 190.376157 107.995336 \r\nL 190.430275 131.705126 \r\nL 190.538513 98.884637 \r\nL 190.592631 119.132607 \r\nL 190.64675 101.9625 \r\nL 190.700869 80.683462 \r\nL 190.863225 116.680841 \r\nL 190.917344 116.215273 \r\nL 191.025581 147.527884 \r\nL 191.187937 118.121904 \r\nL 191.242056 100.427549 \r\nL 191.350293 131.809651 \r\nL 191.404412 112.719153 \r\nL 191.566768 141.020585 \r\nL 191.729124 97.635797 \r\nL 191.837362 124.785774 \r\nL 191.891481 101.461669 \r\nL 191.945599 122.126283 \r\nL 192.053837 133.56901 \r\nL 192.107955 106.254084 \r\nL 192.162074 113.622567 \r\nL 192.216193 131.142878 \r\nL 192.270311 124.260848 \r\nL 192.432668 102.426197 \r\nL 192.486786 125.338292 \r\nL 192.540905 80.465575 \r\nL 192.595024 156.498967 \r\nL 192.649142 102.182949 \r\nL 192.703261 100.801531 \r\nL 192.865617 157.234684 \r\nL 192.973855 136.787107 \r\nL 193.027973 138.588077 \r\nL 193.244448 155.965635 \r\nL 193.406804 115.419147 \r\nL 193.515042 138.303765 \r\nL 193.569161 137.77704 \r\nL 193.623279 130.10729 \r\nL 193.677398 146.220923 \r\nL 193.785635 119.439819 \r\nL 193.839754 140.411918 \r\nL 193.893873 121.856753 \r\nL 193.947992 134.479275 \r\nL 194.056229 112.689704 \r\nL 194.164466 138.256958 \r\nL 194.218585 122.258846 \r\nL 194.272704 125.50242 \r\nL 194.380941 114.423212 \r\nL 194.489179 156.60234 \r\nL 194.543297 134.3394 \r\nL 194.597416 117.804934 \r\nL 194.705654 168.907215 \r\nL 194.759772 107.586636 \r\nL 194.813891 124.533127 \r\nL 194.922128 124.435324 \r\nL 194.976247 130.187619 \r\nL 195.084485 114.128925 \r\nL 195.138603 93.913816 \r\nL 195.192722 131.948604 \r\nL 195.246841 128.445273 \r\nL 195.300959 128.135427 \r\nL 195.355078 121.962458 \r\nL 195.409197 69.664922 \r\nL 195.463315 116.706087 \r\nL 195.571553 137.307571 \r\nL 195.733909 100.567265 \r\nL 195.950384 121.217543 \r\nL 196.11274 124.453662 \r\nL 196.166859 137.636848 \r\nL 196.220977 95.1971 \r\nL 196.275096 101.216406 \r\nL 196.599808 143.885599 \r\nL 196.708046 102.546094 \r\nL 196.762165 120.428139 \r\nL 196.870402 96.517 \r\nL 196.978639 149.556528 \r\nL 197.032758 87.097794 \r\nL 197.086877 146.508963 \r\nL 197.195114 107.64408 \r\nL 197.249233 151.01056 \r\nL 197.303352 115.953716 \r\nL 197.35747 113.899769 \r\nL 197.411589 135.993774 \r\nL 197.465708 106.615199 \r\nL 197.519827 112.12308 \r\nL 197.573945 142.900085 \r\nL 197.682183 81.116213 \r\nL 197.79042 134.235264 \r\nL 197.844539 124.319112 \r\nL 197.898658 128.635151 \r\nL 197.952776 122.032122 \r\nL 198.006895 123.632376 \r\nL 198.061014 144.953918 \r\nL 198.115132 93.128658 \r\nL 198.169251 127.573381 \r\nL 198.277489 141.632749 \r\nL 198.385726 130.244775 \r\nL 198.548082 150.941832 \r\nL 198.602201 131.458107 \r\nL 198.65632 134.315665 \r\nL 198.710438 146.751117 \r\nL 198.764557 129.035819 \r\nL 198.818676 150.241537 \r\nL 198.872794 129.396948 \r\nL 198.926913 130.672172 \r\nL 199.03515 151.625157 \r\nL 199.089269 87.267477 \r\nL 199.143388 146.044691 \r\nL 199.197507 118.705282 \r\nL 199.251625 152.505916 \r\nL 199.305744 147.440574 \r\nL 199.4681 93.309899 \r\nL 199.576338 147.354458 \r\nL 199.630456 105.671282 \r\nL 199.684575 161.351 \r\nL 199.738694 152.839799 \r\nL 199.792812 93.946359 \r\nL 199.846931 112.414935 \r\nL 199.90105 128.293452 \r\nL 200.009287 104.853725 \r\nL 200.117525 150.905647 \r\nL 200.171643 137.966874 \r\nL 200.225762 127.56912 \r\nL 200.279881 154.890393 \r\nL 200.334 139.443518 \r\nL 200.388118 135.40615 \r\nL 200.550474 78.115196 \r\nL 200.604593 130.214276 \r\nL 200.658712 37.744249 \r\nL 200.766949 154.777434 \r\nL 200.821068 96.519447 \r\nL 200.875187 120.81142 \r\nL 200.929305 117.472433 \r\nL 200.983424 123.763816 \r\nL 201.037543 148.072572 \r\nL 201.091662 146.362035 \r\nL 201.254018 116.771001 \r\nL 201.308136 135.504572 \r\nL 201.362255 112.40768 \r\nL 201.416374 152.020557 \r\nL 201.470493 119.894879 \r\nL 201.632849 158.582882 \r\nL 201.795205 105.566858 \r\nL 201.903442 156.935201 \r\nL 201.957561 143.31139 \r\nL 202.065798 120.424037 \r\nL 202.119917 137.672069 \r\nL 202.174036 123.862756 \r\nL 202.228155 111.782807 \r\nL 202.444629 162.143714 \r\nL 202.552867 127.204248 \r\nL 202.606985 138.362922 \r\nL 202.661104 130.999362 \r\nL 202.715223 105.094439 \r\nL 202.82346 142.984474 \r\nL 202.985816 111.024708 \r\nL 203.094054 130.276988 \r\nL 203.148173 87.390857 \r\nL 203.25641 162.106306 \r\nL 203.418766 122.585475 \r\nL 203.472885 118.268443 \r\nL 203.527004 142.326639 \r\nL 203.581122 76.455123 \r\nL 203.635241 109.687795 \r\nL 203.68936 157.309745 \r\nL 203.743478 82.968092 \r\nL 203.797597 143.248376 \r\nL 203.851716 136.625096 \r\nL 204.014072 89.094284 \r\nL 204.122309 141.562164 \r\nL 204.176428 115.697673 \r\nL 204.230547 128.614582 \r\nL 204.338784 112.840489 \r\nL 204.392903 116.270644 \r\nL 204.555259 147.677949 \r\nL 204.663497 115.838426 \r\nL 204.717615 124.110466 \r\nL 204.771734 112.190211 \r\nL 204.93409 147.740028 \r\nL 204.988209 113.932283 \r\nL 205.042328 116.08995 \r\nL 205.096446 131.377576 \r\nL 205.150565 90.791665 \r\nL 205.204684 118.666146 \r\nL 205.258802 110.451032 \r\nL 205.312921 138.719805 \r\nL 205.36704 127.98647 \r\nL 205.421159 120.096588 \r\nL 205.475277 158.907222 \r\nL 205.529396 93.876278 \r\nL 205.583515 126.76243 \r\nL 205.637633 156.201226 \r\nL 205.691752 129.264644 \r\nL 205.745871 138.886279 \r\nL 205.799989 129.802755 \r\nL 205.854108 122.88834 \r\nL 205.908227 140.979492 \r\nL 205.962346 136.687217 \r\nL 206.232939 113.022824 \r\nL 206.395295 160.581185 \r\nL 206.449414 79.729657 \r\nL 206.503533 113.239833 \r\nL 206.61177 145.877109 \r\nL 206.665889 133.161821 \r\nL 206.774126 113.571614 \r\nL 207.04472 146.912682 \r\nL 207.261195 108.003569 \r\nL 207.315313 134.752 \r\nL 207.369432 119.485446 \r\nL 207.423551 82.434257 \r\nL 207.47767 133.194091 \r\nL 207.531788 125.838908 \r\nL 207.585907 121.843741 \r\nL 207.640026 137.965622 \r\nL 207.694144 101.754962 \r\nL 207.748263 107.438629 \r\nL 207.802382 161.323523 \r\nL 207.856501 146.821587 \r\nL 207.964738 102.330625 \r\nL 208.018857 111.782461 \r\nL 208.127094 130.754415 \r\nL 208.181213 127.284146 \r\nL 208.235332 135.411562 \r\nL 208.28945 107.127143 \r\nL 208.343569 126.52206 \r\nL 208.397688 140.829686 \r\nL 208.451806 135.398939 \r\nL 208.505925 135.376126 \r\nL 208.614163 98.456852 \r\nL 208.668281 152.052942 \r\nL 208.7224 79.007038 \r\nL 208.776519 148.653949 \r\nL 208.830637 167.779869 \r\nL 208.884756 123.401708 \r\nL 208.938875 148.256893 \r\nL 208.992994 155.531949 \r\nL 209.047112 105.100369 \r\nL 209.101231 143.207873 \r\nL 209.15535 120.352027 \r\nL 209.209468 136.058184 \r\nL 209.263587 144.229946 \r\nL 209.317706 102.504166 \r\nL 209.371824 128.168964 \r\nL 209.480062 174.240605 \r\nL 209.534181 46.826895 \r\nL 209.588299 143.527305 \r\nL 209.696537 116.935301 \r\nL 209.750655 135.434793 \r\nL 209.804774 128.296374 \r\nL 209.913012 132.531593 \r\nL 209.96713 113.503188 \r\nL 210.021249 137.856002 \r\nL 210.075368 108.87811 \r\nL 210.129486 138.164121 \r\nL 210.183605 139.232828 \r\nL 210.237724 134.082421 \r\nL 210.345961 148.269041 \r\nL 210.40008 68.426963 \r\nL 210.508317 162.782794 \r\nL 210.562436 95.152164 \r\nL 210.616555 179.618514 \r\nL 210.670674 157.288947 \r\nL 210.724792 109.950459 \r\nL 210.778911 151.788939 \r\nL 210.83303 170.096265 \r\nL 210.887148 151.779022 \r\nL 210.995386 121.743247 \r\nL 211.049505 147.283153 \r\nL 211.211861 75.37077 \r\nL 211.265979 127.804711 \r\nL 211.374217 126.687771 \r\nL 211.482454 157.466691 \r\nL 211.536573 144.942231 \r\nL 211.590692 163.424508 \r\nL 211.698929 88.245118 \r\nL 211.753048 142.271959 \r\nL 211.807167 116.846681 \r\nL 211.915404 138.418365 \r\nL 212.023641 108.490799 \r\nL 212.07776 110.532541 \r\nL 212.185998 137.101833 \r\nL 212.240116 116.046582 \r\nL 212.294235 125.687734 \r\nL 212.402472 141.610123 \r\nL 212.456591 107.413499 \r\nL 212.51071 147.014947 \r\nL 212.618947 145.464134 \r\nL 212.673066 135.59977 \r\nL 212.727185 169.809406 \r\nL 212.781303 154.849775 \r\nL 212.889541 116.919742 \r\nL 212.997778 123.66253 \r\nL 213.051897 118.887775 \r\nL 213.106016 175.933438 \r\nL 213.160134 141.716346 \r\nL 213.268372 139.757754 \r\nL 213.32249 103.630519 \r\nL 213.376609 137.919563 \r\nL 213.430728 144.146896 \r\nL 213.484847 87.384179 \r\nL 213.538965 135.539519 \r\nL 213.593084 162.516344 \r\nL 213.647203 105.067437 \r\nL 213.701321 143.468422 \r\nL 213.809559 103.247224 \r\nL 213.863678 142.878222 \r\nL 213.917796 121.140884 \r\nL 213.971915 135.328714 \r\nL 214.026034 129.078394 \r\nL 214.080152 109.382079 \r\nL 214.134271 124.394246 \r\nL 214.18839 121.225992 \r\nL 214.296627 162.556718 \r\nL 214.350746 117.419479 \r\nL 214.404865 146.761437 \r\nL 214.458983 121.225532 \r\nL 214.513102 157.551122 \r\nL 214.567221 141.423427 \r\nL 214.62134 152.56503 \r\nL 214.675458 121.73343 \r\nL 214.729577 130.306264 \r\nL 214.837814 143.097793 \r\nL 214.891933 103.485909 \r\nL 215.054289 166.359085 \r\nL 215.216645 80.597419 \r\nL 215.270764 113.598069 \r\nL 215.487239 155.268852 \r\nL 215.541358 154.76615 \r\nL 215.703714 110.961061 \r\nL 215.757833 130.898104 \r\nL 215.86607 61.037495 \r\nL 215.974307 134.644885 \r\nL 216.028426 133.155575 \r\nL 216.136663 104.44668 \r\nL 216.353138 165.01817 \r\nL 216.569613 106.4931 \r\nL 216.623732 164.502557 \r\nL 216.677851 118.39866 \r\nL 216.731969 118.331731 \r\nL 216.786088 132.103794 \r\nL 216.840207 115.477498 \r\nL 216.894325 141.421915 \r\nL 216.948444 118.403942 \r\nL 217.002563 131.705083 \r\nL 217.056682 126.398349 \r\nL 217.1108 124.874955 \r\nL 217.273156 155.042243 \r\nL 217.327275 113.101325 \r\nL 217.381394 171.704638 \r\nL 217.435513 106.170603 \r\nL 217.489631 146.979338 \r\nL 217.54375 112.918242 \r\nL 217.597869 149.711142 \r\nL 217.651987 116.469057 \r\nL 217.814344 150.99005 \r\nL 217.9767 114.662761 \r\nL 218.030818 124.515093 \r\nL 218.084937 124.200972 \r\nL 218.139056 126.30367 \r\nL 218.193175 152.469112 \r\nL 218.247293 138.120969 \r\nL 218.355531 102.180128 \r\nL 218.463768 132.441347 \r\nL 218.572006 118.689564 \r\nL 218.626124 128.534325 \r\nL 218.680243 99.522379 \r\nL 218.734362 130.134695 \r\nL 218.78848 61.169799 \r\nL 218.896718 135.727352 \r\nL 219.059074 90.566466 \r\nL 219.22143 143.783723 \r\nL 219.275549 159.219846 \r\nL 219.329667 115.150192 \r\nL 219.383786 116.18021 \r\nL 219.492024 134.032548 \r\nL 219.546142 112.659766 \r\nL 219.600261 131.608057 \r\nL 219.65438 123.037066 \r\nL 219.870855 157.608897 \r\nL 220.033211 71.442345 \r\nL 220.087329 72.922228 \r\nL 220.141448 157.545408 \r\nL 220.195567 153.854344 \r\nL 220.249686 138.972553 \r\nL 220.303804 81.201235 \r\nL 220.357923 159.180048 \r\nL 220.412042 146.341079 \r\nL 220.46616 139.596146 \r\nL 220.520279 105.82237 \r\nL 220.574398 107.256812 \r\nL 220.628517 142.571917 \r\nL 220.682635 136.024979 \r\nL 220.790873 133.249995 \r\nL 220.844991 110.528597 \r\nL 220.89911 136.652788 \r\nL 220.953229 109.198161 \r\nL 221.007348 120.5375 \r\nL 221.061466 117.668629 \r\nL 221.115585 106.352218 \r\nL 221.223822 140.460266 \r\nL 221.277941 99.980951 \r\nL 221.33206 141.390164 \r\nL 221.386179 138.301088 \r\nL 221.440297 110.834874 \r\nL 221.494416 141.820986 \r\nL 221.548535 121.585956 \r\nL 221.602653 112.060512 \r\nL 221.656772 156.584636 \r\nL 221.710891 116.441594 \r\nL 221.76501 110.795623 \r\nL 221.873247 136.790447 \r\nL 221.927366 96.242375 \r\nL 221.981484 119.895887 \r\nL 222.035603 157.080819 \r\nL 222.089722 141.517545 \r\nL 222.252078 160.431364 \r\nL 222.414434 89.88399 \r\nL 222.522672 156.453441 \r\nL 222.57679 128.784496 \r\nL 222.630909 112.006883 \r\nL 222.685028 127.264355 \r\nL 222.793265 147.155383 \r\nL 222.847384 142.295737 \r\nL 222.901502 143.567045 \r\nL 222.955621 110.190195 \r\nL 223.00974 129.30686 \r\nL 223.063859 117.401833 \r\nL 223.117977 169.818459 \r\nL 223.172096 133.118109 \r\nL 223.280333 109.21955 \r\nL 223.334452 126.283677 \r\nL 223.388571 94.723644 \r\nL 223.496808 154.133561 \r\nL 223.550927 143.088926 \r\nL 223.713283 154.103666 \r\nL 223.875639 123.258408 \r\nL 223.929758 150.795768 \r\nL 223.983877 93.347279 \r\nL 224.037995 144.117678 \r\nL 224.200352 110.847756 \r\nL 224.25447 143.304798 \r\nL 224.308589 136.881931 \r\nL 224.362708 137.190812 \r\nL 224.416826 106.392879 \r\nL 224.470945 140.099741 \r\nL 224.525064 101.852031 \r\nL 224.579183 159.350566 \r\nL 224.633301 152.685387 \r\nL 224.795657 118.871986 \r\nL 224.849776 122.130774 \r\nL 224.903895 91.765491 \r\nL 224.958014 116.140485 \r\nL 225.012132 143.521879 \r\nL 225.066251 131.693295 \r\nL 225.12037 125.274112 \r\nL 225.174488 149.795372 \r\nL 225.282726 118.12153 \r\nL 225.336845 157.135485 \r\nL 225.390963 142.286554 \r\nL 225.445082 144.216819 \r\nL 225.499201 139.744081 \r\nL 225.553319 147.249257 \r\nL 225.607438 126.602994 \r\nL 225.661557 163.047373 \r\nL 225.715676 146.789893 \r\nL 225.769794 139.666097 \r\nL 225.823913 159.333942 \r\nL 225.93215 116.80399 \r\nL 226.040388 164.924038 \r\nL 226.256863 101.380706 \r\nL 226.310981 134.476166 \r\nL 226.3651 85.77762 \r\nL 226.419219 119.777775 \r\nL 226.473337 150.228166 \r\nL 226.527456 130.272137 \r\nL 226.581575 116.97435 \r\nL 226.743931 160.967157 \r\nL 226.906287 119.689385 \r\nL 227.014525 162.743544 \r\nL 227.068643 142.285201 \r\nL 227.122762 142.282264 \r\nL 227.176881 128.93115 \r\nL 227.230999 146.90907 \r\nL 227.285118 79.724317 \r\nL 227.339237 118.385418 \r\nL 227.555712 180.08876 \r\nL 227.718068 114.392727 \r\nL 227.772187 135.128588 \r\nL 227.826305 116.544938 \r\nL 227.988661 153.323963 \r\nL 228.04278 112.220826 \r\nL 228.096899 139.499883 \r\nL 228.259255 123.30402 \r\nL 228.367492 130.316843 \r\nL 228.421611 105.136842 \r\nL 228.47573 139.301225 \r\nL 228.529849 116.224672 \r\nL 228.692205 156.699769 \r\nL 228.746323 117.204702 \r\nL 228.800442 150.991676 \r\nL 228.854561 150.987963 \r\nL 229.016917 109.927646 \r\nL 229.071036 110.714646 \r\nL 229.125154 151.383449 \r\nL 229.179273 107.051146 \r\nL 229.233392 125.383646 \r\nL 229.341629 144.480477 \r\nL 229.503985 107.853849 \r\nL 229.558104 94.180021 \r\nL 229.72046 155.803724 \r\nL 229.774579 141.237076 \r\nL 229.936935 116.971817 \r\nL 229.991054 83.653274 \r\nL 230.045172 140.911872 \r\nL 230.099291 75.013267 \r\nL 230.15341 140.318534 \r\nL 230.207529 162.93581 \r\nL 230.369885 110.581335 \r\nL 230.478122 154.624519 \r\nL 230.640478 50.048534 \r\nL 230.802834 161.268281 \r\nL 230.856953 121.453767 \r\nL 230.965191 122.590613 \r\nL 231.073428 155.8884 \r\nL 231.127547 102.202769 \r\nL 231.181665 130.413293 \r\nL 231.235784 124.50401 \r\nL 231.289903 154.539828 \r\nL 231.344022 115.789028 \r\nL 231.39814 150.555744 \r\nL 231.452259 158.752292 \r\nL 231.506378 157.130203 \r\nL 231.560496 133.378038 \r\nL 231.614615 173.082716 \r\nL 231.668734 136.769231 \r\nL 231.722853 122.068278 \r\nL 231.885209 154.108027 \r\nL 231.939327 129.164395 \r\nL 231.993446 138.072464 \r\nL 232.047565 166.974229 \r\nL 232.101684 123.545728 \r\nL 232.155802 149.10947 \r\nL 232.26404 121.244186 \r\nL 232.318158 171.02884 \r\nL 232.372277 148.436494 \r\nL 232.426396 116.97933 \r\nL 232.480515 131.295275 \r\nL 232.534633 156.470008 \r\nL 232.588752 135.701588 \r\nL 232.642871 133.391136 \r\nL 232.751108 111.72093 \r\nL 232.805227 168.328846 \r\nL 232.859345 137.539535 \r\nL 232.913464 152.437029 \r\nL 232.967583 130.093846 \r\nL 233.021702 163.241626 \r\nL 233.07582 134.517417 \r\nL 233.129939 159.439877 \r\nL 233.238176 127.276892 \r\nL 233.292295 141.93537 \r\nL 233.346414 116.913049 \r\nL 233.400533 126.056104 \r\nL 233.454651 125.948096 \r\nL 233.50877 144.770043 \r\nL 233.562889 117.334544 \r\nL 233.617007 122.213277 \r\nL 233.671126 133.837935 \r\nL 233.725245 102.793976 \r\nL 233.779364 141.523144 \r\nL 233.833482 138.632179 \r\nL 233.887601 107.633804 \r\nL 233.94172 150.814451 \r\nL 233.995838 112.799669 \r\nL 234.104076 134.928578 \r\nL 234.158195 105.273032 \r\nL 234.320551 162.06255 \r\nL 234.374669 160.242854 \r\nL 234.591144 136.500967 \r\nL 234.645263 135.143155 \r\nL 234.699382 152.607807 \r\nL 234.7535 131.471709 \r\nL 234.807619 152.117223 \r\nL 234.861738 152.429372 \r\nL 235.024094 111.543013 \r\nL 234.969975 152.553932 \r\nL 235.132331 123.737318 \r\nL 235.18645 156.705886 \r\nL 235.240569 81.233821 \r\nL 235.294688 152.692843 \r\nL 235.348806 149.748593 \r\nL 235.402925 95.001465 \r\nL 235.457044 142.959242 \r\nL 235.511162 123.830861 \r\nL 235.565281 170.082563 \r\nL 235.6194 134.637616 \r\nL 235.673519 107.928767 \r\nL 235.781756 166.931553 \r\nL 235.835875 166.210704 \r\nL 235.889993 169.209505 \r\nL 235.944112 137.800947 \r\nL 235.998231 150.110716 \r\nL 236.05235 154.940424 \r\nL 236.106468 55.257033 \r\nL 236.160587 118.827266 \r\nL 236.214706 151.512932 \r\nL 236.268824 144.441284 \r\nL 236.377062 114.469458 \r\nL 236.43118 136.572027 \r\nL 236.485299 117.011197 \r\nL 236.539418 128.96342 \r\nL 236.593537 95.113388 \r\nL 236.647655 112.985056 \r\nL 236.701774 178.968783 \r\nL 236.755893 118.967054 \r\nL 236.918249 153.863455 \r\nL 237.080605 100.193282 \r\nL 237.134724 143.787854 \r\nL 237.188842 122.066162 \r\nL 237.351199 153.967634 \r\nL 237.513555 123.166967 \r\nL 237.621792 151.708797 \r\nL 237.675911 141.033194 \r\nL 237.73003 120.359425 \r\nL 237.784148 135.315702 \r\nL 237.838267 128.196815 \r\nL 237.892386 100.18112 \r\nL 237.946504 149.47558 \r\nL 238.000623 113.232622 \r\nL 238.108861 145.052786 \r\nL 238.217098 81.856953 \r\nL 238.271217 124.30803 \r\nL 238.325335 129.601449 \r\nL 238.379454 123.514019 \r\nL 238.433573 151.382068 \r\nL 238.487692 148.072543 \r\nL 238.54181 120.579543 \r\nL 238.650048 158.822114 \r\nL 238.866523 119.234656 \r\nL 238.920641 146.159377 \r\nL 238.97476 132.214608 \r\nL 239.028879 112.738728 \r\nL 239.137116 154.764163 \r\nL 239.191235 152.571319 \r\nL 239.245354 123.663811 \r\nL 239.299472 124.12781 \r\nL 239.353591 146.005339 \r\nL 239.40771 130.449147 \r\nL 239.461828 139.183704 \r\nL 239.624185 111.356374 \r\nL 239.678303 151.536724 \r\nL 239.732422 150.771343 \r\nL 239.840659 120.728399 \r\nL 239.894778 188.031192 \r\nL 239.948897 130.140682 \r\nL 240.003015 130.100035 \r\nL 240.057134 121.458863 \r\nL 240.111253 147.855549 \r\nL 240.165372 137.693285 \r\nL 240.21949 99.486798 \r\nL 240.381846 156.088324 \r\nL 240.435965 138.835629 \r\nL 240.490084 150.289755 \r\nL 240.706559 118.200982 \r\nL 240.760677 124.563483 \r\nL 240.868915 144.358277 \r\nL 241.031271 110.435098 \r\nL 241.08539 112.030459 \r\nL 241.193627 132.303789 \r\nL 241.247746 130.053315 \r\nL 241.301865 119.866064 \r\nL 241.355983 145.41724 \r\nL 241.410102 103.850824 \r\nL 241.464221 138.403252 \r\nL 241.518339 112.469169 \r\nL 241.572458 131.329661 \r\nL 241.626577 127.553503 \r\nL 241.734814 161.269792 \r\nL 241.843052 122.362248 \r\nL 241.89717 133.717837 \r\nL 241.951289 106.071893 \r\nL 242.005408 123.65185 \r\nL 242.113645 135.832367 \r\nL 242.167764 121.236039 \r\nL 242.221883 172.691361 \r\nL 242.384239 112.98969 \r\nL 242.438358 114.652988 \r\nL 242.492476 178.285314 \r\nL 242.546595 126.528408 \r\nL 242.600714 142.273801 \r\nL 242.654832 135.205737 \r\nL 242.708951 137.289853 \r\nL 242.817189 129.649955 \r\nL 242.871307 144.315299 \r\nL 242.979545 113.848816 \r\nL 243.087782 160.363428 \r\nL 243.141901 97.265427 \r\nL 243.196019 102.483483 \r\nL 243.250138 108.90314 \r\nL 243.304257 142.052489 \r\nL 243.358376 135.69029 \r\nL 243.412494 129.158321 \r\nL 243.466613 98.269422 \r\nL 243.520732 125.065221 \r\nL 243.683088 155.565039 \r\nL 243.737207 113.687538 \r\nL 243.791325 118.317251 \r\nL 243.845444 145.440284 \r\nL 243.899563 115.565182 \r\nL 243.953681 146.244298 \r\nL 244.0078 145.221822 \r\nL 244.061919 122.949641 \r\nL 244.116038 151.019067 \r\nL 244.170156 147.33923 \r\nL 244.224275 138.461257 \r\nL 244.278394 97.735629 \r\nL 244.386631 154.234775 \r\nL 244.44075 146.955906 \r\nL 244.494869 134.694312 \r\nL 244.548987 168.473471 \r\nL 244.603106 142.390819 \r\nL 244.657225 98.994358 \r\nL 244.711343 118.142674 \r\nL 244.765462 146.817326 \r\nL 244.819581 117.587795 \r\nL 244.981937 146.345037 \r\nL 245.144293 124.014722 \r\nL 245.198412 122.515739 \r\nL 245.306649 122.341478 \r\nL 245.360768 145.714132 \r\nL 245.414887 102.409141 \r\nL 245.469005 138.978469 \r\nL 245.523124 122.434503 \r\nL 245.577243 141.557271 \r\nL 245.68548 103.059908 \r\nL 245.793718 150.661622 \r\nL 245.847836 118.938699 \r\nL 245.901955 126.235906 \r\nL 245.956074 123.527866 \r\nL 246.11843 142.507895 \r\nL 246.172549 117.210056 \r\nL 246.280786 154.989938 \r\nL 246.334905 102.397813 \r\nL 246.389024 135.318149 \r\nL 246.443142 118.398487 \r\nL 246.497261 133.723911 \r\nL 246.605498 145.140931 \r\nL 246.659617 136.395176 \r\nL 246.713736 103.3339 \r\nL 246.767854 171.476244 \r\nL 246.821973 150.510693 \r\nL 246.876092 144.86442 \r\nL 246.930211 154.034592 \r\nL 246.984329 116.960705 \r\nL 247.038448 152.094726 \r\nL 247.146685 129.951064 \r\nL 247.309042 184.204528 \r\nL 247.36316 118.422121 \r\nL 247.417279 129.449355 \r\nL 247.471398 152.068372 \r\nL 247.525516 141.36712 \r\nL 247.579635 115.783285 \r\nL 247.633754 144.968527 \r\nL 247.687873 122.325574 \r\nL 247.741991 116.883183 \r\nL 247.850229 175.704439 \r\nL 247.904347 147.036638 \r\nL 247.958466 125.110229 \r\nL 248.120822 165.756982 \r\nL 248.174941 144.03149 \r\nL 248.22906 148.309803 \r\nL 248.283178 149.187511 \r\nL 248.337297 158.340296 \r\nL 248.391416 150.338088 \r\nL 248.445535 111.908202 \r\nL 248.499653 168.154197 \r\nL 248.553772 129.667673 \r\nL 248.607891 117.855857 \r\nL 248.662009 155.743992 \r\nL 248.716128 131.745888 \r\nL 248.770247 132.376476 \r\nL 248.932603 155.866263 \r\nL 248.986722 143.138598 \r\nL 249.04084 154.307174 \r\nL 249.094959 148.372443 \r\nL 249.149078 155.551423 \r\nL 249.365553 107.508668 \r\nL 249.527909 146.545954 \r\nL 249.582028 123.835064 \r\nL 249.690265 160.724672 \r\nL 249.798502 123.488788 \r\nL 249.852621 131.119575 \r\nL 250.014977 151.195314 \r\nL 250.177333 112.295167 \r\nL 250.231452 177.489649 \r\nL 250.285571 126.168012 \r\nL 250.447927 142.598343 \r\nL 250.502046 134.93602 \r\nL 250.556164 142.114553 \r\nL 250.610283 154.296436 \r\nL 250.664402 138.498954 \r\nL 250.71852 164.145932 \r\nL 250.772639 115.316292 \r\nL 250.826758 118.144329 \r\nL 250.989114 148.936462 \r\nL 251.043233 117.542456 \r\nL 251.097351 153.751878 \r\nL 251.15147 145.412563 \r\nL 251.259708 131.347912 \r\nL 251.313826 154.102759 \r\nL 251.367945 151.317082 \r\nL 251.422064 91.855162 \r\nL 251.476182 123.953809 \r\nL 251.530301 108.639756 \r\nL 251.58442 109.378769 \r\nL 251.692657 145.711196 \r\nL 251.746776 138.177305 \r\nL 251.800895 156.035932 \r\nL 251.855013 140.114595 \r\nL 251.909132 118.054083 \r\nL 251.963251 157.51416 \r\nL 252.01737 143.60572 \r\nL 252.071488 115.457433 \r\nL 252.233844 151.24202 \r\nL 252.396201 107.035011 \r\nL 252.450319 146.160687 \r\nL 252.558557 98.63035 \r\nL 252.612675 150.579753 \r\nL 252.666794 113.826953 \r\nL 252.883269 160.943178 \r\nL 252.991506 148.172937 \r\nL 253.045625 73.813307 \r\nL 253.099744 127.98991 \r\nL 253.153863 171.020996 \r\nL 253.207981 138.972423 \r\nL 253.424456 114.07639 \r\nL 253.478575 146.159449 \r\nL 253.532693 132.840619 \r\nL 253.586812 134.692297 \r\nL 253.640931 117.834973 \r\nL 253.69505 132.96659 \r\nL 253.749168 132.685804 \r\nL 253.857406 157.437961 \r\nL 253.911524 147.933402 \r\nL 253.965643 151.921056 \r\nL 254.019762 149.003391 \r\nL 254.182118 80.440502 \r\nL 254.344474 168.835867 \r\nL 254.615068 129.071975 \r\nL 254.669186 138.514283 \r\nL 254.723305 106.372858 \r\nL 254.777424 109.546883 \r\nL 254.831543 112.648481 \r\nL 254.93978 137.297784 \r\nL 254.993899 62.831844 \r\nL 255.048017 159.694496 \r\nL 255.156255 154.584333 \r\nL 255.210374 128.626831 \r\nL 255.264492 149.442374 \r\nL 255.318611 163.495439 \r\nL 255.37273 77.051325 \r\nL 255.426848 162.401759 \r\nL 255.480967 118.942024 \r\nL 255.535086 162.109732 \r\nL 255.589205 137.437745 \r\nL 255.643323 164.616437 \r\nL 255.697442 141.49843 \r\nL 255.751561 128.741129 \r\nL 255.805679 165.820745 \r\nL 255.859798 140.453343 \r\nL 255.913917 142.885462 \r\nL 255.968036 140.911843 \r\nL 256.022154 141.9929 \r\nL 256.076273 138.886279 \r\nL 256.18451 103.086968 \r\nL 256.292748 162.523958 \r\nL 256.346867 138.63854 \r\nL 256.61746 163.542073 \r\nL 256.779816 101.36152 \r\nL 256.833935 171.317773 \r\nL 256.888054 143.418376 \r\nL 256.942172 124.841966 \r\nL 256.996291 143.13274 \r\nL 257.05041 155.546155 \r\nL 257.104528 115.170775 \r\nL 257.158647 159.144194 \r\nL 257.212766 129.042857 \r\nL 257.266885 156.790663 \r\nL 257.321003 156.505588 \r\nL 257.375122 152.448515 \r\nL 257.537478 119.696855 \r\nL 257.645716 152.296421 \r\nL 257.808072 124.104536 \r\nL 257.970428 172.956472 \r\nL 258.024547 136.791051 \r\nL 258.078665 150.390019 \r\nL 258.132784 143.406041 \r\nL 258.241021 162.169694 \r\nL 258.29514 161.737749 \r\nL 258.349259 169.76185 \r\nL 258.457496 109.733306 \r\nL 258.619852 165.148229 \r\nL 258.673971 171.247289 \r\nL 258.72809 141.328215 \r\nL 258.782209 154.313982 \r\nL 258.836327 165.72179 \r\nL 258.890446 84.775856 \r\nL 258.944565 136.816225 \r\nL 258.998683 159.148498 \r\nL 259.106921 131.378512 \r\nL 259.16104 135.134029 \r\nL 259.323396 156.974812 \r\nL 259.485752 119.465842 \r\nL 259.593989 154.801874 \r\nL 259.702227 106.109445 \r\nL 259.810464 160.39302 \r\nL 259.864583 153.245145 \r\nL 259.97282 124.81862 \r\nL 260.026939 134.790128 \r\nL 260.081058 175.416025 \r\nL 260.243414 115.479887 \r\nL 260.40577 141.702658 \r\nL 260.459889 126.146091 \r\nL 260.568126 164.318192 \r\nL 260.622245 126.392016 \r\nL 260.676363 162.536409 \r\nL 260.730482 134.289009 \r\nL 260.784601 141.490802 \r\nL 260.83872 167.765029 \r\nL 260.892838 140.560933 \r\nL 260.946957 129.541515 \r\nL 261.001076 93.044068 \r\nL 261.055194 163.439981 \r\nL 261.109313 123.214897 \r\nL 261.163432 125.545053 \r\nL 261.325788 173.030094 \r\nL 261.488144 118.741668 \r\nL 261.596382 168.856306 \r\nL 261.6505 111.168555 \r\nL 261.704619 147.525782 \r\nL 261.758738 129.681217 \r\nL 261.812856 182.62834 \r\nL 261.866975 113.584856 \r\nL 261.921094 113.667388 \r\nL 261.975213 153.820361 \r\nL 262.029331 150.340218 \r\nL 262.08345 150.075639 \r\nL 262.245806 174.22732 \r\nL 262.299925 144.85695 \r\nL 262.354044 169.773595 \r\nL 262.408162 166.593265 \r\nL 262.462281 131.020376 \r\nL 262.5164 151.644113 \r\nL 262.570518 157.598894 \r\nL 262.678756 123.847154 \r\nL 262.732875 162.342041 \r\nL 262.786993 126.577691 \r\nL 262.895231 171.93663 \r\nL 262.949349 121.91198 \r\nL 263.003468 162.777296 \r\nL 263.274062 83.738929 \r\nL 263.436418 158.125648 \r\nL 263.490536 133.147557 \r\nL 263.544655 174.361509 \r\nL 263.598774 157.888416 \r\nL 263.652893 150.603847 \r\nL 263.707011 174.068288 \r\nL 263.76113 158.477235 \r\nL 263.815249 141.329251 \r\nL 263.869367 158.502207 \r\nL 263.923486 150.700642 \r\nL 263.977605 114.240618 \r\nL 264.031724 179.717986 \r\nL 264.085842 137.810375 \r\nL 264.139961 145.379832 \r\nL 264.19408 168.758085 \r\nL 264.248198 159.505756 \r\nL 264.302317 162.579934 \r\nL 264.410555 142.070351 \r\nL 264.464673 159.075639 \r\nL 264.518792 130.718288 \r\nL 264.572911 143.987734 \r\nL 264.681148 164.301525 \r\nL 264.735267 110.845971 \r\nL 264.789386 165.963527 \r\nL 264.897623 132.7426 \r\nL 264.951742 139.525201 \r\nL 265.114098 171.049437 \r\nL 265.222335 158.120639 \r\nL 265.384691 146.948882 \r\nL 265.492929 149.046485 \r\nL 265.547048 170.087471 \r\nL 265.655285 125.876 \r\nL 265.709404 166.30108 \r\nL 265.763522 119.696035 \r\nL 265.87176 172.85012 \r\nL 265.925879 169.220775 \r\nL 265.979997 78.575179 \r\nL 266.034116 165.012485 \r\nL 266.088235 127.431764 \r\nL 266.142353 158.951985 \r\nL 266.196472 183.984619 \r\nL 266.250591 168.464892 \r\nL 266.412947 128.86556 \r\nL 266.467066 163.529508 \r\nL 266.521184 150.810046 \r\nL 266.575303 123.206764 \r\nL 266.629422 167.308011 \r\nL 266.683541 147.310055 \r\nL 266.737659 153.998998 \r\nL 266.791778 121.005385 \r\nL 266.845897 166.641498 \r\nL 266.954134 166.441761 \r\nL 267.062371 148.037423 \r\nL 267.11649 149.292597 \r\nL 267.170609 145.400371 \r\nL 267.224728 88.161507 \r\nL 267.278846 144.075678 \r\nL 267.332965 142.219581 \r\nL 267.495321 130.405909 \r\nL 267.54944 148.007341 \r\nL 267.603559 110.327148 \r\nL 267.711796 189.956622 \r\nL 267.874152 114.925771 \r\nL 267.928271 126.914755 \r\nL 267.98239 115.216387 \r\nL 268.252983 161.857214 \r\nL 268.307102 108.092621 \r\nL 268.361221 150.917838 \r\nL 268.415339 182.286065 \r\nL 268.469458 126.991558 \r\nL 268.523577 164.819628 \r\nL 268.631814 114.881814 \r\nL 268.685933 115.236812 \r\nL 268.79417 176.12107 \r\nL 268.848289 122.160683 \r\nL 268.902408 159.596765 \r\nL 268.956526 149.337778 \r\nL 269.010645 99.421898 \r\nL 269.118883 172.309706 \r\nL 269.281239 112.619695 \r\nL 269.551832 171.144031 \r\nL 269.66007 75.86629 \r\nL 269.768307 164.258661 \r\nL 269.822426 157.106655 \r\nL 270.038901 138.814571 \r\nL 270.093019 151.240883 \r\nL 270.147138 144.394952 \r\nL 270.201257 140.296728 \r\nL 270.255376 114.18244 \r\nL 270.309494 119.652783 \r\nL 270.417732 180.775258 \r\nL 270.47185 160.109111 \r\nL 270.525969 174.439291 \r\nL 270.580088 128.008377 \r\nL 270.634206 149.464166 \r\nL 270.688325 153.566491 \r\nL 270.796563 128.055746 \r\nL 270.850681 131.504008 \r\nL 270.9048 168.701505 \r\nL 270.958919 146.324685 \r\nL 271.013037 159.190469 \r\nL 271.067156 154.495252 \r\nL 271.121275 146.781156 \r\nL 271.175394 179.049199 \r\nL 271.229512 156.914763 \r\nL 271.33775 129.665744 \r\nL 271.391868 152.001587 \r\nL 271.445987 135.305713 \r\nL 271.500106 128.800674 \r\nL 271.554225 163.611723 \r\nL 271.608343 153.869213 \r\nL 271.662462 150.481619 \r\nL 271.716581 125.514741 \r\nL 271.770699 160.311122 \r\nL 271.824818 149.873758 \r\nL 271.933056 82.148131 \r\nL 272.041293 160.613829 \r\nL 272.14953 119.976749 \r\nL 272.203649 170.650813 \r\nL 272.257768 145.548652 \r\nL 272.311887 152.005646 \r\nL 272.366005 142.257695 \r\nL 272.474243 179.750458 \r\nL 272.58248 103.884447 \r\nL 272.636599 168.388032 \r\nL 272.690718 142.628108 \r\nL 272.744836 146.505307 \r\nL 272.798955 163.092554 \r\nL 272.853074 145.90709 \r\nL 273.01543 161.140482 \r\nL 273.069549 120.580551 \r\nL 273.123667 140.452465 \r\nL 273.177786 176.154016 \r\nL 273.231905 153.024495 \r\nL 273.286023 173.939122 \r\nL 273.340142 159.663982 \r\nL 273.394261 127.033097 \r\nL 273.44838 154.628779 \r\nL 273.502498 161.948756 \r\nL 273.556617 123.855732 \r\nL 273.664854 124.387294 \r\nL 273.881329 154.925974 \r\nL 273.935448 101.579522 \r\nL 273.989567 155.518721 \r\nL 274.043685 148.584976 \r\nL 274.097804 150.60199 \r\nL 274.151923 173.271039 \r\nL 274.206041 171.409142 \r\nL 274.314279 124.562591 \r\nL 274.368398 164.50545 \r\nL 274.422516 138.097278 \r\nL 274.476635 142.390646 \r\nL 274.530754 124.477871 \r\nL 274.584872 152.856582 \r\nL 274.638991 106.645368 \r\nL 274.69311 172.550953 \r\nL 274.801347 171.020521 \r\nL 275.017822 111.128455 \r\nL 275.12606 152.314844 \r\nL 275.180178 89.56725 \r\nL 275.234297 119.284428 \r\nL 275.396653 159.876342 \r\nL 275.450772 123.373065 \r\nL 275.504891 169.141237 \r\nL 275.667247 105.957768 \r\nL 275.829603 167.03186 \r\nL 275.991959 144.404048 \r\nL 276.046078 162.840022 \r\nL 276.100196 158.888539 \r\nL 276.154315 120.060029 \r\nL 276.208434 190.865721 \r\nL 276.262553 174.155497 \r\nL 276.316671 116.075599 \r\nL 276.37079 169.782173 \r\nL 276.479027 146.996034 \r\nL 276.533146 81.589697 \r\nL 276.587265 107.216511 \r\nL 276.857858 166.246486 \r\nL 276.966096 75.746422 \r\nL 277.020215 153.509666 \r\nL 277.074333 150.393416 \r\nL 277.128452 144.83821 \r\nL 277.182571 153.959617 \r\nL 277.236689 139.808275 \r\nL 277.290808 144.778333 \r\nL 277.344927 142.043709 \r\nL 277.399045 170.961062 \r\nL 277.453164 133.992232 \r\nL 277.507283 140.91632 \r\nL 277.561402 153.338011 \r\nL 277.669639 99.781963 \r\nL 277.723758 108.447806 \r\nL 277.831995 166.150842 \r\nL 277.940233 105.728438 \r\nL 277.994351 145.834691 \r\nL 278.04847 100.106505 \r\nL 278.102589 140.094185 \r\nL 278.156707 193.700235 \r\nL 278.210826 156.679791 \r\nL 278.264945 150.335252 \r\nL 278.319064 94.581467 \r\nL 278.373182 130.589842 \r\nL 278.427301 134.584692 \r\nL 278.48142 112.830529 \r\nL 278.535538 125.777362 \r\nL 278.589657 162.535991 \r\nL 278.643776 135.775311 \r\nL 278.697895 142.100635 \r\nL 278.752013 137.562737 \r\nL 278.806132 179.392797 \r\nL 278.860251 142.419793 \r\nL 278.914369 155.024683 \r\nL 278.968488 128.804359 \r\nL 279.022607 169.933448 \r\nL 279.076726 139.87221 \r\nL 279.130844 165.924233 \r\nL 279.184963 164.544427 \r\nL 279.239082 109.197729 \r\nL 279.2932 171.456712 \r\nL 279.347319 133.731525 \r\nL 279.401438 125.916143 \r\nL 279.455557 167.568862 \r\nL 279.509675 102.713777 \r\nL 279.563794 147.102891 \r\nL 279.672031 130.89252 \r\nL 279.72615 147.326823 \r\nL 279.780269 139.19578 \r\nL 279.888506 129.430226 \r\nL 279.996744 175.954193 \r\nL 280.050862 167.295834 \r\nL 280.1591 90.318439 \r\nL 280.267337 173.384013 \r\nL 280.321456 141.426636 \r\nL 280.375575 124.277285 \r\nL 280.483812 147.921226 \r\nL 280.537931 144.502931 \r\nL 280.592049 151.912406 \r\nL 280.646168 112.67105 \r\nL 280.700287 131.512485 \r\nL 280.754406 125.236027 \r\nL 280.862643 144.267383 \r\nL 280.916762 143.803643 \r\nL 280.97088 139.921795 \r\nL 281.024999 145.492244 \r\nL 281.187355 114.54498 \r\nL 281.295593 143.063709 \r\nL 281.349711 122.965244 \r\nL 281.40383 138.482948 \r\nL 281.457949 131.211865 \r\nL 281.512068 162.359975 \r\nL 281.566186 146.180924 \r\nL 281.620305 156.021424 \r\nL 281.674424 154.950471 \r\nL 281.728542 113.716555 \r\nL 281.782661 132.293959 \r\nL 281.83678 155.084704 \r\nL 281.890899 140.581285 \r\nL 281.945017 144.512718 \r\nL 281.999136 108.458659 \r\nL 282.053255 158.122366 \r\nL 282.107373 152.872141 \r\nL 282.161492 151.559538 \r\nL 282.215611 139.25616 \r\nL 282.26973 141.926432 \r\nL 282.323848 143.909895 \r\nL 282.432086 118.113153 \r\nL 282.486204 154.093548 \r\nL 282.540323 75.504815 \r\nL 282.648561 180.440505 \r\nL 282.702679 134.925469 \r\nL 282.756798 161.016383 \r\nL 282.865035 173.461924 \r\nL 283.08151 124.772172 \r\nL 283.189748 157.814089 \r\nL 283.352104 129.157184 \r\nL 283.406223 135.45585 \r\nL 283.460341 117.08895 \r\nL 283.622697 137.769095 \r\nL 283.676816 88.583074 \r\nL 283.839172 150.884331 \r\nL 283.94741 119.566855 \r\nL 284.055647 173.185773 \r\nL 284.218003 123.691259 \r\nL 284.380359 190.641336 \r\nL 284.434478 129.973921 \r\nL 284.488597 149.916477 \r\nL 284.542715 157.009197 \r\nL 284.596834 154.588622 \r\nL 284.650953 154.572026 \r\nL 284.705072 129.515377 \r\nL 284.75919 154.505183 \r\nL 284.813309 160.378426 \r\nL 284.921546 208.408486 \r\nL 285.083903 141.279838 \r\nL 285.138021 129.096372 \r\nL 285.300377 181.372547 \r\nL 285.462734 119.523818 \r\nL 285.570971 151.997298 \r\nL 285.62509 147.14633 \r\nL 285.679208 143.640106 \r\nL 285.787446 185.319352 \r\nL 285.949802 100.433234 \r\nL 286.003921 135.497721 \r\nL 286.058039 118.981563 \r\nL 286.166277 173.442594 \r\nL 286.220396 143.003458 \r\nL 286.274514 122.844138 \r\nL 286.328633 124.341019 \r\nL 286.43687 178.226589 \r\nL 286.490989 130.729716 \r\nL 286.545108 161.955723 \r\nL 286.599227 161.604093 \r\nL 286.653345 78.704288 \r\nL 286.707464 125.442932 \r\nL 286.815701 158.344398 \r\nL 286.923939 115.396981 \r\nL 287.086295 181.448659 \r\nL 287.248651 153.111143 \r\nL 287.30277 153.252889 \r\nL 287.356888 155.622713 \r\nL 287.411007 164.802529 \r\nL 287.465126 164.135598 \r\nL 287.519245 120.864503 \r\nL 287.573363 138.415472 \r\nL 287.627482 136.063769 \r\nL 287.681601 104.383724 \r\nL 287.789838 165.014932 \r\nL 287.843957 109.102258 \r\nL 287.898076 158.675172 \r\nL 287.952194 172.280085 \r\nL 288.11455 128.996741 \r\nL 288.168669 154.926549 \r\nL 288.222788 113.736936 \r\nL 288.276907 132.420275 \r\nL 288.331025 129.967876 \r\nL 288.439263 127.881298 \r\nL 288.493381 182.075152 \r\nL 288.5475 102.04437 \r\nL 288.601619 127.402172 \r\nL 288.709856 106.731599 \r\nL 288.872212 159.90936 \r\nL 288.98045 103.226152 \r\nL 289.088687 126.354119 \r\nL 289.142806 160.450911 \r\nL 289.196925 137.943744 \r\nL 289.251043 132.806579 \r\nL 289.305162 140.774588 \r\nL 289.359281 127.796463 \r\nL 289.4134 153.89158 \r\nL 289.467518 108.822019 \r\nL 289.521637 145.955596 \r\nL 289.575756 186.301412 \r\nL 289.629874 143.886808 \r\nL 289.738112 176.312674 \r\nL 289.900468 110.349832 \r\nL 289.954587 122.113876 \r\nL 290.008705 101.48608 \r\nL 290.062824 118.529323 \r\nL 290.171062 158.68126 \r\nL 290.279299 159.633957 \r\nL 290.333418 120.431032 \r\nL 290.387536 160.476372 \r\nL 290.441655 125.409194 \r\nL 290.495774 156.748174 \r\nL 290.549893 112.123901 \r\nL 290.604011 180.554198 \r\nL 290.65813 141.947086 \r\nL 290.712249 112.244791 \r\nL 290.820486 162.120469 \r\nL 290.982842 108.57205 \r\nL 291.09108 144.244886 \r\nL 291.199317 132.383946 \r\nL 291.361673 111.351236 \r\nL 291.415792 176.037603 \r\nL 291.469911 161.907361 \r\nL 291.578148 108.615287 \r\nL 291.740504 152.428696 \r\nL 291.848742 128.514059 \r\nL 291.90286 133.72974 \r\nL 291.956979 141.46996 \r\nL 292.011098 132.092668 \r\nL 292.065216 168.816997 \r\nL 292.119335 166.771743 \r\nL 292.33581 130.922386 \r\nL 292.389929 155.356263 \r\nL 292.444047 134.957509 \r\nL 292.498166 138.671444 \r\nL 292.552285 165.313522 \r\nL 292.606404 150.414833 \r\nL 292.714641 105.127832 \r\nL 292.76876 158.795285 \r\nL 292.822878 144.178015 \r\nL 292.985235 87.419673 \r\nL 293.201709 159.570339 \r\nL 293.255828 164.761422 \r\nL 293.364066 132.317564 \r\nL 293.526422 178.277657 \r\nL 293.58054 124.84637 \r\nL 293.634659 158.523164 \r\nL 293.688778 147.562284 \r\nL 293.742897 105.578402 \r\nL 293.797015 138.620376 \r\nL 293.851134 142.771265 \r\nL 293.905253 126.533532 \r\nL 293.959371 164.757679 \r\nL 294.01349 152.186513 \r\nL 294.121727 128.489418 \r\nL 294.229965 172.91607 \r\nL 294.338202 59.373608 \r\nL 294.500558 171.798223 \r\nL 294.554677 151.186534 \r\nL 294.608796 171.812127 \r\nL 294.717033 146.952437 \r\nL 294.771152 154.833885 \r\nL 294.933508 172.540605 \r\nL 295.041746 126.254416 \r\nL 295.095864 136.744618 \r\nL 295.149983 117.789216 \r\nL 295.312339 164.832266 \r\nL 295.366458 150.461425 \r\nL 295.420577 183.897791 \r\nL 295.582933 131.972584 \r\nL 295.637051 160.006314 \r\nL 295.69117 140.294425 \r\nL 295.745289 102.492637 \r\nL 295.799408 168.896204 \r\nL 295.853526 154.239468 \r\nL 295.907645 159.14821 \r\nL 295.961764 137.58876 \r\nL 296.015882 139.068629 \r\nL 296.070001 141.384003 \r\nL 296.12412 148.958815 \r\nL 296.286476 94.207081 \r\nL 296.448832 156.674221 \r\nL 296.55707 119.527345 \r\nL 296.611188 141.771573 \r\nL 296.665307 88.484235 \r\nL 296.719426 139.932922 \r\nL 296.827663 125.817721 \r\nL 297.044138 161.91712 \r\nL 297.152375 138.534088 \r\nL 297.206494 151.733208 \r\nL 297.260613 114.454244 \r\nL 297.314732 131.881071 \r\nL 297.36885 149.558629 \r\nL 297.422969 145.061854 \r\nL 297.477088 147.183119 \r\nL 297.531206 165.051174 \r\nL 297.639444 164.280367 \r\nL 297.693562 159.987516 \r\nL 297.747681 172.518712 \r\nL 297.8018 120.824201 \r\nL 297.855919 139.375985 \r\nL 298.018275 192.645029 \r\nL 298.072393 101.373567 \r\nL 298.126512 138.792881 \r\nL 298.23475 145.572833 \r\nL 298.288868 140.691927 \r\nL 298.342987 185.034968 \r\nL 298.397106 123.075799 \r\nL 298.505343 123.099303 \r\nL 298.613581 170.55219 \r\nL 298.667699 167.078034 \r\nL 298.830055 153.06232 \r\nL 298.884174 155.382272 \r\nL 298.938293 98.014429 \r\nL 298.992412 142.630397 \r\nL 299.100649 175.483328 \r\nL 299.208886 114.002062 \r\nL 299.317124 127.696386 \r\nL 299.371243 158.952475 \r\nL 299.425361 113.206383 \r\nL 299.47948 160.744434 \r\nL 299.533599 123.840792 \r\nL 299.587717 126.734276 \r\nL 299.695955 164.592904 \r\nL 299.750074 127.875857 \r\nL 299.804192 149.533758 \r\nL 299.858311 147.171231 \r\nL 299.91243 181.370107 \r\nL 299.966548 143.840605 \r\nL 300.020667 149.296094 \r\nL 300.074786 150.293368 \r\nL 300.128905 132.576846 \r\nL 300.183023 162.793301 \r\nL 300.237142 143.006769 \r\nL 300.291261 139.760777 \r\nL 300.345379 175.178635 \r\nL 300.399498 134.417916 \r\nL 300.453617 155.631795 \r\nL 300.615973 169.240292 \r\nL 300.670092 158.238967 \r\nL 300.72421 174.068489 \r\nL 300.832448 96.405509 \r\nL 300.886567 162.598041 \r\nL 300.940685 122.873184 \r\nL 300.994804 111.830924 \r\nL 301.048923 159.539681 \r\nL 301.103041 147.586206 \r\nL 301.15716 132.73146 \r\nL 301.211279 178.876262 \r\nL 301.265397 109.363642 \r\nL 301.319516 149.881674 \r\nL 301.373635 153.134071 \r\nL 301.427754 133.675679 \r\nL 301.59011 180.59912 \r\nL 301.644228 113.311584 \r\nL 301.698347 127.637302 \r\nL 301.806585 161.079123 \r\nL 301.860703 135.543722 \r\nL 301.968941 135.61684 \r\nL 302.023059 149.667127 \r\nL 302.077178 134.426825 \r\nL 302.185416 165.377789 \r\nL 302.239534 126.80571 \r\nL 302.293653 159.540314 \r\nL 302.347772 143.300307 \r\nL 302.40189 152.159669 \r\nL 302.510128 160.522647 \r\nL 302.564247 190.717872 \r\nL 302.618365 147.732169 \r\nL 302.672484 172.037009 \r\nL 302.726603 167.931302 \r\nL 302.780721 105.544059 \r\nL 302.83484 155.526767 \r\nL 302.888959 139.184639 \r\nL 302.943078 144.842441 \r\nL 302.997196 151.291217 \r\nL 303.159552 96.511387 \r\nL 303.213671 185.461076 \r\nL 303.26779 129.579917 \r\nL 303.376027 164.962152 \r\nL 303.484265 157.466791 \r\nL 303.538383 153.101845 \r\nL 303.592502 175.704727 \r\nL 303.70074 142.850515 \r\nL 303.754858 151.683062 \r\nL 303.863096 127.554943 \r\nL 303.971333 155.909242 \r\nL 304.025452 155.117808 \r\nL 304.079571 155.599007 \r\nL 304.133689 147.164667 \r\nL 304.187808 151.906173 \r\nL 304.241927 153.217956 \r\nL 304.296045 149.065369 \r\nL 304.350164 171.944906 \r\nL 304.404283 156.774658 \r\nL 304.458401 155.905557 \r\nL 304.51252 148.399589 \r\nL 304.566639 149.499314 \r\nL 304.620758 162.174631 \r\nL 304.674876 161.284819 \r\nL 304.837232 115.212444 \r\nL 304.999589 172.272226 \r\nL 305.053707 152.172321 \r\nL 305.107826 173.360739 \r\nL 305.161945 159.652554 \r\nL 305.216063 120.659311 \r\nL 305.270182 147.165214 \r\nL 305.324301 134.769935 \r\nL 305.37842 165.222686 \r\nL 305.432538 149.59729 \r\nL 305.486657 152.506621 \r\nL 305.540776 140.557709 \r\nL 305.594894 161.971239 \r\nL 305.649013 100.341563 \r\nL 305.757251 101.293425 \r\nL 305.919607 158.756221 \r\nL 306.027844 141.390336 \r\nL 306.081963 167.147943 \r\nL 306.136082 134.194963 \r\nL 306.1902 134.413224 \r\nL 306.244319 157.258591 \r\nL 306.298438 151.137898 \r\nL 306.352556 139.205985 \r\nL 306.406675 165.080782 \r\nL 306.460794 163.921137 \r\nL 306.569031 111.25742 \r\nL 306.62315 141.705206 \r\nL 306.677269 109.546077 \r\nL 306.785506 181.78419 \r\nL 306.839625 129.535412 \r\nL 306.893744 145.94149 \r\nL 307.110218 123.760204 \r\nL 307.272575 168.092306 \r\nL 307.326693 102.847462 \r\nL 307.380812 137.019531 \r\nL 307.434931 147.345131 \r\nL 307.543168 117.5388 \r\nL 307.597287 163.152258 \r\nL 307.651406 140.872535 \r\nL 307.705524 139.460258 \r\nL 307.813762 188.600694 \r\nL 307.86788 121.598809 \r\nL 307.976118 123.035973 \r\nL 308.030236 168.09114 \r\nL 308.084355 162.904073 \r\nL 308.138474 116.970147 \r\nL 308.192593 157.006477 \r\nL 308.246711 151.727911 \r\nL 308.30083 126.05609 \r\nL 308.463186 169.917543 \r\nL 308.517305 177.403475 \r\nL 308.571424 106.992536 \r\nL 308.625542 138.508568 \r\nL 308.679661 132.592938 \r\nL 308.842017 149.857695 \r\nL 308.950255 89.167776 \r\nL 309.166729 179.450284 \r\nL 309.274967 98.261505 \r\nL 309.329086 129.859954 \r\nL 309.383204 148.576858 \r\nL 309.437323 121.128261 \r\nL 309.491442 135.868407 \r\nL 309.54556 195.92391 \r\nL 309.599679 165.781566 \r\nL 309.653798 104.47859 \r\nL 309.707917 155.589134 \r\nL 309.762035 132.306222 \r\nL 309.816154 147.434845 \r\nL 309.870273 149.906935 \r\nL 309.924391 106.936704 \r\nL 309.97851 182.077693 \r\nL 310.032629 152.017304 \r\nL 310.086748 140.218025 \r\nL 310.140866 150.48562 \r\nL 310.194985 154.13844 \r\nL 310.249104 152.273535 \r\nL 310.303222 135.26416 \r\nL 310.357341 158.813334 \r\nL 310.41146 110.85193 \r\nL 310.465579 139.064023 \r\nL 310.573816 162.893969 \r\nL 310.627935 144.034167 \r\nL 310.736172 144.31468 \r\nL 310.790291 190.580574 \r\nL 310.84441 100.178371 \r\nL 310.898528 181.00281 \r\nL 310.952647 106.745963 \r\nL 311.006766 164.714384 \r\nL 311.060884 159.565647 \r\nL 311.115003 163.343733 \r\nL 311.22324 171.974859 \r\nL 311.277359 120.602486 \r\nL 311.331478 131.701672 \r\nL 311.385597 156.432239 \r\nL 311.439715 120.043318 \r\nL 311.602071 175.671579 \r\nL 311.65619 170.360168 \r\nL 311.710309 140.150578 \r\nL 311.764428 173.186492 \r\nL 311.818546 118.823106 \r\nL 311.872665 149.482604 \r\nL 311.926784 137.914712 \r\nL 312.035021 154.915725 \r\nL 312.08914 153.476561 \r\nL 312.143259 157.560377 \r\nL 312.197377 154.146659 \r\nL 312.305615 142.087004 \r\nL 312.359733 176.387246 \r\nL 312.413852 145.565535 \r\nL 312.467971 167.525394 \r\nL 312.52209 162.610952 \r\nL 312.684446 110.092795 \r\nL 312.846802 171.289389 \r\nL 313.063277 98.623988 \r\nL 313.225633 171.420801 \r\nL 313.33387 103.755108 \r\nL 313.496226 181.272096 \r\nL 313.604464 145.659495 \r\nL 313.658583 159.433904 \r\nL 313.712701 142.183771 \r\nL 313.76682 165.845588 \r\nL 313.820939 130.772681 \r\nL 313.875057 143.370273 \r\nL 313.929176 183.231717 \r\nL 313.983295 154.418348 \r\nL 314.037414 153.931234 \r\nL 314.091532 148.938937 \r\nL 314.253888 173.944476 \r\nL 314.308007 151.269454 \r\nL 314.362126 192.369633 \r\nL 314.416245 157.043583 \r\nL 314.470363 158.504165 \r\nL 314.578601 151.585417 \r\nL 314.686838 171.886239 \r\nL 314.740957 155.689585 \r\nL 314.795075 169.610288 \r\nL 314.849194 158.841516 \r\nL 314.903313 196.285788 \r\nL 314.957432 168.329091 \r\nL 315.01155 146.530035 \r\nL 315.065669 152.842044 \r\nL 315.119788 154.23656 \r\nL 315.282144 112.363694 \r\nL 315.336263 166.382028 \r\nL 315.390381 149.024808 \r\nL 315.4445 150.286531 \r\nL 315.498619 140.522589 \r\nL 315.552737 166.571042 \r\nL 315.606856 146.588357 \r\nL 315.660975 161.56785 \r\nL 315.715094 144.081579 \r\nL 315.769212 158.414465 \r\nL 315.823331 155.262361 \r\nL 315.87745 103.904799 \r\nL 315.931568 160.495717 \r\nL 315.985687 131.074409 \r\nL 316.039806 127.507056 \r\nL 316.148043 155.97787 \r\nL 316.202162 154.874906 \r\nL 316.256281 150.310122 \r\nL 316.310399 134.084436 \r\nL 316.364518 139.459984 \r\nL 316.418637 169.206856 \r\nL 316.472756 134.466062 \r\nL 316.526874 164.899857 \r\nL 316.580993 177.651214 \r\nL 316.797468 86.486767 \r\nL 316.851587 114.443766 \r\nL 317.013943 156.870618 \r\nL 317.068061 125.011174 \r\nL 317.12218 150.293209 \r\nL 317.176299 143.241582 \r\nL 317.230418 165.437823 \r\nL 317.284536 159.265372 \r\nL 317.338655 128.80102 \r\nL 317.392774 136.02282 \r\nL 317.446892 160.386802 \r\nL 317.501011 158.639937 \r\nL 317.609249 124.985871 \r\nL 317.717486 167.72824 \r\nL 317.771605 153.992031 \r\nL 317.825723 118.951552 \r\nL 317.879842 133.814877 \r\nL 317.933961 145.130654 \r\nL 317.988079 133.193429 \r\nL 318.042198 159.485821 \r\nL 318.096317 134.137893 \r\nL 318.150436 154.378421 \r\nL 318.204554 146.37391 \r\nL 318.258673 107.454232 \r\nL 318.312792 129.195599 \r\nL 318.36691 130.146325 \r\nL 318.421029 137.396335 \r\nL 318.475148 100.336626 \r\nL 318.529267 101.813961 \r\nL 318.583385 171.904691 \r\nL 318.691623 171.124168 \r\nL 318.79986 127.89739 \r\nL 318.853979 141.375511 \r\nL 318.908098 147.02521 \r\nL 318.962216 175.164314 \r\nL 319.016335 163.400961 \r\nL 319.070454 130.776149 \r\nL 319.124572 156.84743 \r\nL 319.178691 168.766592 \r\nL 319.23281 164.985325 \r\nL 319.341047 153.823039 \r\nL 319.395166 170.497552 \r\nL 319.503403 140.077057 \r\nL 319.557522 163.446962 \r\nL 319.611641 142.366926 \r\nL 319.66576 157.275403 \r\nL 319.719878 119.275288 \r\nL 319.773997 161.207613 \r\nL 319.828116 156.800393 \r\nL 319.882234 116.387619 \r\nL 319.936353 150.978478 \r\nL 320.044591 158.987551 \r\nL 320.206947 111.404894 \r\nL 320.261065 167.975374 \r\nL 320.315184 155.332327 \r\nL 320.369303 116.969658 \r\nL 320.423422 121.660427 \r\nL 320.47754 152.288303 \r\nL 320.531659 100.817335 \r\nL 320.585778 143.393303 \r\nL 320.639896 104.325906 \r\nL 320.694015 174.580778 \r\nL 320.748134 136.968809 \r\nL 320.802253 156.315955 \r\nL 320.856371 57.09092 \r\nL 320.91049 135.073174 \r\nL 320.964609 186.676172 \r\nL 321.018727 155.574481 \r\nL 321.072846 80.671746 \r\nL 321.126965 156.174224 \r\nL 321.181084 185.385072 \r\nL 321.397558 98.032392 \r\nL 321.559914 142.891147 \r\nL 321.722271 170.107636 \r\nL 321.830508 120.498624 \r\nL 321.992864 160.611152 \r\nL 322.046983 160.777942 \r\nL 322.101102 91.374337 \r\nL 322.15522 150.223258 \r\nL 322.209339 151.01898 \r\nL 322.263458 164.623476 \r\nL 322.317576 134.651794 \r\nL 322.371695 144.676615 \r\nL 322.425814 160.591807 \r\nL 322.534051 160.28353 \r\nL 322.642289 145.731073 \r\nL 322.696407 147.823768 \r\nL 322.750526 145.538102 \r\nL 322.804645 154.448013 \r\nL 322.967001 120.274864 \r\nL 323.129357 176.93205 \r\nL 323.291713 134.578517 \r\nL 323.345832 186.460192 \r\nL 323.399951 134.22942 \r\nL 323.454069 118.790361 \r\nL 323.508188 127.30067 \r\nL 323.616426 188.07402 \r\nL 323.670544 143.263489 \r\nL 323.724663 151.039117 \r\nL 323.778782 163.962201 \r\nL 323.8329 154.280345 \r\nL 323.995257 138.795673 \r\nL 324.049375 121.115552 \r\nL 324.103494 137.373666 \r\nL 324.157613 144.006849 \r\nL 324.211731 188.386643 \r\nL 324.26585 174.983375 \r\nL 324.319969 99.495679 \r\nL 324.374088 160.391941 \r\nL 324.428206 157.951632 \r\nL 324.482325 130.941299 \r\nL 324.644681 200.452927 \r\nL 324.807037 124.726574 \r\nL 324.969393 178.71805 \r\nL 325.023512 160.061455 \r\nL 325.077631 172.565188 \r\nL 325.131749 202.640834 \r\nL 325.294106 114.581856 \r\nL 325.402343 189.788543 \r\nL 325.456462 124.240424 \r\nL 325.51058 149.857004 \r\nL 325.564699 157.360266 \r\nL 325.618818 117.438119 \r\nL 325.672937 149.156939 \r\nL 325.889411 110.107275 \r\nL 326.105886 170.550534 \r\nL 326.268242 103.601991 \r\nL 326.484717 182.586592 \r\nL 326.538836 167.00873 \r\nL 326.592955 184.492403 \r\nL 326.701192 127.711859 \r\nL 326.755311 165.475822 \r\nL 326.80943 154.366244 \r\nL 326.917667 152.791077 \r\nL 326.971786 159.975311 \r\nL 327.025904 134.573062 \r\nL 327.080023 150.865619 \r\nL 327.188261 161.055964 \r\nL 327.242379 147.178859 \r\nL 327.350617 192.816339 \r\nL 327.458854 136.35509 \r\nL 327.512973 154.859073 \r\nL 327.567092 137.912899 \r\nL 327.62121 99.278425 \r\nL 327.783566 157.57526 \r\nL 327.891804 134.723962 \r\nL 328.000041 165.234949 \r\nL 328.162397 103.40745 \r\nL 328.270635 178.979362 \r\nL 328.378872 177.032199 \r\nL 328.432991 135.675162 \r\nL 328.48711 182.497821 \r\nL 328.541228 142.926324 \r\nL 328.703584 159.540213 \r\nL 328.865941 135.143083 \r\nL 328.920059 152.798821 \r\nL 328.974178 141.936795 \r\nL 329.082415 167.084525 \r\nL 329.190653 156.139421 \r\nL 329.244772 139.053386 \r\nL 329.29889 162.97188 \r\nL 329.353009 128.455478 \r\nL 329.407128 160.766197 \r\nL 329.461246 150.490442 \r\nL 329.515365 104.189759 \r\nL 329.569484 157.487187 \r\nL 329.623603 89.072233 \r\nL 329.677721 147.363065 \r\nL 329.73184 166.385857 \r\nL 329.785959 107.275984 \r\nL 329.840077 116.047014 \r\nL 330.002434 164.762156 \r\nL 330.110671 129.965443 \r\nL 330.16479 155.382675 \r\nL 330.218908 138.155456 \r\nL 330.381265 173.990376 \r\nL 330.435383 135.179613 \r\nL 330.489502 166.186307 \r\nL 330.651858 108.060552 \r\nL 330.760096 183.691865 \r\nL 330.814214 179.252275 \r\nL 330.97657 124.4493 \r\nL 331.030689 128.507611 \r\nL 331.084808 167.086037 \r\nL 331.138927 133.787702 \r\nL 331.193045 110.895427 \r\nL 331.355401 158.050298 \r\nL 331.40952 146.110137 \r\nL 331.463639 156.063237 \r\nL 331.517758 155.361776 \r\nL 331.571876 175.053873 \r\nL 331.680114 113.300314 \r\nL 331.734232 184.888343 \r\nL 331.788351 169.080051 \r\nL 331.950707 147.550251 \r\nL 332.058945 168.653071 \r\nL 332.113063 101.05307 \r\nL 332.167182 143.110545 \r\nL 332.221301 143.775663 \r\nL 332.329538 185.781919 \r\nL 332.437776 129.918708 \r\nL 332.491894 164.644432 \r\nL 332.546013 160.235485 \r\nL 332.600132 138.846582 \r\nL 332.65425 62.183092 \r\nL 332.708369 138.709917 \r\nL 332.762488 167.353178 \r\nL 332.816607 152.483649 \r\nL 332.870725 145.111367 \r\nL 332.978963 143.441751 \r\nL 333.033081 182.699112 \r\nL 333.0872 189.473638 \r\nL 333.249556 143.844348 \r\nL 333.303675 140.683982 \r\nL 333.357794 170.20482 \r\nL 333.52015 125.211314 \r\nL 333.574269 112.552506 \r\nL 333.628387 167.265292 \r\nL 333.682506 160.961199 \r\nL 333.736625 123.443765 \r\nL 333.790743 164.003668 \r\nL 333.844862 130.992367 \r\nL 333.898981 143.109984 \r\nL 333.9531 102.47974 \r\nL 334.115456 158.204408 \r\nL 334.169574 158.437811 \r\nL 334.223693 184.213193 \r\nL 334.277812 115.351469 \r\nL 334.331931 167.06436 \r\nL 334.494287 107.783984 \r\nL 334.548405 179.812623 \r\nL 334.602524 108.262549 \r\nL 334.710762 169.384629 \r\nL 334.818999 121.618687 \r\nL 334.927236 175.01114 \r\nL 334.981355 163.474252 \r\nL 335.035474 171.924309 \r\nL 335.089592 168.529173 \r\nL 335.143711 169.869253 \r\nL 335.19783 185.495448 \r\nL 335.414305 84.945525 \r\nL 335.576661 185.19567 \r\nL 335.63078 174.386381 \r\nL 335.684898 120.31079 \r\nL 335.739017 142.815265 \r\nL 335.793136 183.506421 \r\nL 335.847254 152.380118 \r\nL 335.901373 168.235117 \r\nL 335.955492 153.258128 \r\nL 336.009611 142.572406 \r\nL 336.063729 163.802867 \r\nL 336.117848 137.768994 \r\nL 336.171967 145.991219 \r\nL 336.226085 186.226854 \r\nL 336.280204 141.248418 \r\nL 336.334323 171.34063 \r\nL 336.44256 144.213638 \r\nL 336.550798 173.157274 \r\nL 336.604916 168.600017 \r\nL 336.659035 165.731995 \r\nL 336.767273 131.19789 \r\nL 336.821391 162.645453 \r\nL 336.87551 134.07023 \r\nL 337.037866 177.377697 \r\nL 337.091985 170.094769 \r\nL 337.254341 129.587373 \r\nL 337.30846 77.960323 \r\nL 337.470816 165.214179 \r\nL 337.524935 185.678776 \r\nL 337.579053 162.405487 \r\nL 337.633172 195.199995 \r\nL 337.687291 178.054257 \r\nL 337.741409 184.830971 \r\nL 337.849647 147.540233 \r\nL 337.903766 178.29205 \r\nL 338.066122 115.245649 \r\nL 338.174359 156.337344 \r\nL 338.228478 153.527169 \r\nL 338.282597 82.89342 \r\nL 338.336715 117.407648 \r\nL 338.390834 159.574023 \r\nL 338.444953 150.990798 \r\nL 338.499071 134.659739 \r\nL 338.55319 184.87821 \r\nL 338.607309 153.153488 \r\nL 338.661427 130.04606 \r\nL 338.715546 136.863032 \r\nL 338.877902 163.090524 \r\nL 338.932021 141.988165 \r\nL 338.98614 172.865866 \r\nL 339.040258 118.543414 \r\nL 339.094377 141.360887 \r\nL 339.256733 171.992448 \r\nL 339.310852 130.236859 \r\nL 339.364971 149.415703 \r\nL 339.581446 172.787911 \r\nL 339.689683 139.99382 \r\nL 339.743802 140.930267 \r\nL 339.852039 158.908359 \r\nL 339.906158 146.84856 \r\nL 339.960277 146.635769 \r\nL 340.014395 90.365103 \r\nL 340.068514 128.836355 \r\nL 340.176751 163.508234 \r\nL 340.23087 135.895942 \r\nL 340.447345 209.110033 \r\nL 340.501464 136.455196 \r\nL 340.555582 173.157979 \r\nL 340.609701 190.515041 \r\nL 340.772057 107.468193 \r\nL 340.934413 157.220924 \r\nL 340.988532 169.137941 \r\nL 341.09677 109.404965 \r\nL 341.150888 174.458146 \r\nL 341.205007 157.318554 \r\nL 341.259126 135.961216 \r\nL 341.313244 163.10771 \r\nL 341.367363 155.779745 \r\nL 341.421482 154.761486 \r\nL 341.529719 127.11845 \r\nL 341.637957 152.295442 \r\nL 341.692075 144.137066 \r\nL 341.746194 150.204258 \r\nL 341.854431 118.328852 \r\nL 341.90855 154.984468 \r\nL 341.962669 141.894219 \r\nL 342.016788 141.085485 \r\nL 342.179144 164.385093 \r\nL 342.3415 125.835396 \r\nL 342.395619 133.82334 \r\nL 342.557975 168.629783 \r\nL 342.666212 148.87067 \r\nL 342.77445 160.416856 \r\nL 342.882687 140.747154 \r\nL 342.936806 140.880523 \r\nL 343.045043 172.611866 \r\nL 343.099162 160.500668 \r\nL 343.153281 109.836478 \r\nL 343.207399 138.764583 \r\nL 343.261518 121.319578 \r\nL 343.315637 147.433118 \r\nL 343.369755 131.392776 \r\nL 343.477993 168.054307 \r\nL 343.532112 154.118678 \r\nL 343.58623 131.482777 \r\nL 343.640349 144.626858 \r\nL 343.748586 168.190584 \r\nL 343.910943 132.334476 \r\nL 343.965061 187.996684 \r\nL 344.01918 147.336394 \r\nL 344.073299 139.770536 \r\nL 344.181536 175.99091 \r\nL 344.343892 124.190205 \r\nL 344.506248 190.461123 \r\nL 344.614486 115.428171 \r\nL 344.668605 157.776637 \r\nL 344.722723 125.582217 \r\nL 344.939198 162.155589 \r\nL 344.993317 124.354275 \r\nL 345.047436 168.466591 \r\nL 345.101554 140.072508 \r\nL 345.209792 168.493636 \r\nL 345.26391 140.231498 \r\nL 345.318029 143.895401 \r\nL 345.372148 148.160559 \r\nL 345.426266 111.617225 \r\nL 345.480385 164.13626 \r\nL 345.534504 145.571034 \r\nL 345.642741 116.768439 \r\nL 345.69686 127.732874 \r\nL 345.750979 167.714278 \r\nL 345.805097 161.093718 \r\nL 346.021572 138.297 \r\nL 346.075691 157.200816 \r\nL 346.12981 152.483131 \r\nL 346.183928 134.550119 \r\nL 346.238047 176.342454 \r\nL 346.292166 147.464452 \r\nL 346.346285 167.389233 \r\nL 346.400403 156.254323 \r\nL 346.508641 121.557025 \r\nL 346.562759 187.359914 \r\nL 346.616878 163.996616 \r\nL 346.670997 118.48004 \r\nL 346.725116 129.83347 \r\nL 346.887472 161.200028 \r\nL 346.995709 135.541002 \r\nL 347.049828 182.412691 \r\nL 347.158065 112.412833 \r\nL 347.266303 141.760822 \r\nL 347.320421 101.316152 \r\nL 347.428659 169.358001 \r\nL 347.482778 159.834716 \r\nL 347.536896 170.42121 \r\nL 347.591015 127.632336 \r\nL 347.645134 168.980089 \r\nL 347.699252 142.213191 \r\nL 347.753371 159.569274 \r\nL 347.80749 160.744837 \r\nL 347.861609 138.625543 \r\nL 347.915727 143.921194 \r\nL 348.023965 153.198841 \r\nL 348.078083 157.151605 \r\nL 348.24044 115.428402 \r\nL 348.294558 149.322722 \r\nL 348.348677 148.005067 \r\nL 348.402796 145.097549 \r\nL 348.456914 135.919734 \r\nL 348.565152 170.469313 \r\nL 348.673389 125.2514 \r\nL 348.727508 144.971924 \r\nL 348.889864 181.308202 \r\nL 349.05222 148.182811 \r\nL 349.160458 138.970495 \r\nL 349.268695 174.056082 \r\nL 349.322814 147.543558 \r\nL 349.376932 171.38807 \r\nL 349.48517 147.568531 \r\nL 349.647526 181.023393 \r\nL 349.755763 148.544343 \r\nL 349.91812 177.960283 \r\nL 349.972238 177.326644 \r\nL 350.026357 130.02555 \r\nL 350.080476 172.833567 \r\nL 350.188713 128.527603 \r\nL 350.242832 182.665489 \r\nL 350.296951 153.970858 \r\nL 350.351069 147.640742 \r\nL 350.459307 185.745914 \r\nL 350.513425 142.291807 \r\nL 350.567544 162.011684 \r\nL 350.621663 171.092142 \r\nL 350.7299 121.90972 \r\nL 350.784019 133.905296 \r\nL 350.892256 153.606764 \r\nL 350.946375 135.411476 \r\nL 351.108731 161.094539 \r\nL 351.216969 121.641874 \r\nL 351.379325 184.664936 \r\nL 351.433444 171.678802 \r\nL 351.487562 104.879172 \r\nL 351.541681 156.363554 \r\nL 351.5958 146.550373 \r\nL 351.649918 154.79295 \r\nL 351.812275 168.882329 \r\nL 351.866393 113.995686 \r\nL 351.920512 126.677595 \r\nL 352.028749 167.445554 \r\nL 352.082868 166.959461 \r\nL 352.245224 139.288113 \r\nL 352.299343 176.525005 \r\nL 352.353462 155.224924 \r\nL 352.40758 172.330116 \r\nL 352.461699 156.754593 \r\nL 352.515818 139.738208 \r\nL 352.569936 174.456304 \r\nL 352.624055 69.434773 \r\nL 352.678174 186.053853 \r\nL 352.732293 125.364848 \r\nL 352.948767 195.371277 \r\nL 353.111124 113.512832 \r\nL 353.165242 177.518176 \r\nL 353.219361 147.738329 \r\nL 353.27348 142.47479 \r\nL 353.327598 148.33384 \r\nL 353.381717 147.794981 \r\nL 353.435836 115.773742 \r\nL 353.489955 173.127048 \r\nL 353.544073 168.332545 \r\nL 353.598192 147.72028 \r\nL 353.652311 152.912673 \r\nL 353.760548 142.372007 \r\nL 353.977023 187.37289 \r\nL 354.031142 144.853783 \r\nL 354.08526 154.91538 \r\nL 354.139379 184.826214 \r\nL 354.193498 120.618304 \r\nL 354.247617 159.280428 \r\nL 354.301735 179.55121 \r\nL 354.355854 178.678267 \r\nL 354.409973 175.302145 \r\nL 354.51821 98.871381 \r\nL 354.572329 155.415823 \r\nL 354.626448 137.347326 \r\nL 354.680566 126.590371 \r\nL 354.842922 170.064874 \r\nL 354.897041 121.705666 \r\nL 354.95116 185.056393 \r\nL 355.005279 165.521204 \r\nL 355.059397 123.694699 \r\nL 355.113516 162.12686 \r\nL 355.329991 120.090989 \r\nL 355.384109 170.340463 \r\nL 355.438228 114.093475 \r\nL 355.492347 144.373462 \r\nL 355.546466 167.856528 \r\nL 355.600584 149.807894 \r\nL 355.708822 128.952424 \r\nL 355.817059 166.317604 \r\nL 355.871178 122.72047 \r\nL 355.925297 145.043286 \r\nL 355.979415 137.736537 \r\nL 356.033534 185.506207 \r\nL 356.087653 136.203787 \r\nL 356.141771 143.747624 \r\nL 356.19589 139.143489 \r\nL 356.250009 198.816379 \r\nL 356.304128 158.805216 \r\nL 356.358246 158.220356 \r\nL 356.412365 117.421768 \r\nL 356.466484 159.460345 \r\nL 356.520602 151.872608 \r\nL 356.62884 167.571323 \r\nL 356.737077 142.617112 \r\nL 356.791196 159.781619 \r\nL 356.845315 170.504836 \r\nL 356.953552 115.954292 \r\nL 357.06179 173.862463 \r\nL 357.115908 172.773518 \r\nL 357.170027 175.193619 \r\nL 357.224146 173.349382 \r\nL 357.278264 130.046032 \r\nL 357.332383 182.307216 \r\nL 357.386502 177.1757 \r\nL 357.494739 124.523426 \r\nL 357.548858 156.580304 \r\nL 357.602977 155.650996 \r\nL 357.657095 109.662146 \r\nL 357.765333 176.848251 \r\nL 357.819452 137.107014 \r\nL 357.87357 153.513754 \r\nL 357.927689 142.668467 \r\nL 358.035926 189.373215 \r\nL 358.090045 121.708847 \r\nL 358.144164 182.328058 \r\nL 358.252401 151.2871 \r\nL 358.360639 190.915709 \r\nL 358.522995 150.616326 \r\nL 358.685351 178.392113 \r\nL 358.73947 135.101817 \r\nL 358.793588 174.321611 \r\nL 358.847707 180.569836 \r\nL 358.901826 80.7096 \r\nL 358.955944 137.048462 \r\nL 359.226538 185.365454 \r\nL 359.280657 176.234605 \r\nL 359.334775 165.426856 \r\nL 359.388894 183.072404 \r\nL 359.497132 116.268471 \r\nL 359.55125 144.139124 \r\nL 359.605369 152.392885 \r\nL 359.659488 186.729427 \r\nL 359.713606 132.619796 \r\nL 359.767725 144.690937 \r\nL 359.875963 182.587211 \r\nL 359.930081 156.308039 \r\nL 359.9842 166.634373 \r\nL 360.038319 183.88429 \r\nL 360.092437 174.767604 \r\nL 360.146556 157.147115 \r\nL 360.200675 167.77368 \r\nL 360.254794 182.362602 \r\nL 360.363031 154.155727 \r\nL 360.471268 184.124667 \r\nL 360.525387 183.805811 \r\nL 360.633625 96.937459 \r\nL 360.741862 166.226263 \r\nL 360.795981 128.15388 \r\nL 360.904218 128.823027 \r\nL 361.012456 187.72439 \r\nL 361.066574 156.939145 \r\nL 361.120693 161.624272 \r\nL 361.174812 166.017905 \r\nL 361.22893 156.68516 \r\nL 361.283049 160.1134 \r\nL 361.337168 114.581021 \r\nL 361.391287 117.627377 \r\nL 361.499524 116.986757 \r\nL 361.553643 168.009141 \r\nL 361.66188 171.062406 \r\nL 361.715999 177.165251 \r\nL 361.770118 162.792395 \r\nL 361.824236 194.83508 \r\nL 361.878355 171.381478 \r\nL 361.932474 135.699573 \r\nL 361.986592 171.304445 \r\nL 362.040711 182.597977 \r\nL 362.148948 132.034346 \r\nL 362.203067 167.890683 \r\nL 362.257186 143.296551 \r\nL 362.365423 186.128403 \r\nL 362.419542 135.816332 \r\nL 362.473661 163.488515 \r\nL 362.527779 164.660985 \r\nL 362.581898 189.326509 \r\nL 362.636017 181.63596 \r\nL 362.744254 176.084698 \r\nL 362.798373 182.032037 \r\nL 362.90661 146.833202 \r\nL 362.960729 202.451913 \r\nL 363.014848 146.996351 \r\nL 363.068967 152.480526 \r\nL 363.123085 128.476233 \r\nL 363.33956 192.791582 \r\nL 363.393679 156.610458 \r\nL 363.447798 168.395085 \r\nL 363.501916 182.823996 \r\nL 363.556035 173.476303 \r\nL 363.610154 172.399837 \r\nL 363.664272 173.490092 \r\nL 363.718391 181.509745 \r\nL 363.826629 159.681024 \r\nL 363.880747 178.601191 \r\nL 363.934866 172.527334 \r\nL 363.988985 151.404751 \r\nL 364.043103 158.906517 \r\nL 364.151341 143.134553 \r\nL 364.313697 177.037812 \r\nL 364.367816 176.27492 \r\nL 364.421934 180.446485 \r\nL 364.530172 142.521612 \r\nL 364.638409 184.497182 \r\nL 364.692528 153.378831 \r\nL 364.746647 177.384318 \r\nL 364.909003 135.395485 \r\nL 365.071359 168.432651 \r\nL 365.125478 156.700445 \r\nL 365.179596 186.762935 \r\nL 365.233715 178.673388 \r\nL 365.287834 176.481969 \r\nL 365.341953 137.961548 \r\nL 365.396071 142.531471 \r\nL 365.558427 185.740668 \r\nL 365.612546 167.555232 \r\nL 365.666665 171.180201 \r\nL 365.774902 168.54597 \r\nL 365.829021 173.803363 \r\nL 365.88314 197.25616 \r\nL 365.991377 119.534153 \r\nL 366.045496 200.935795 \r\nL 366.099614 169.852399 \r\nL 366.153733 131.943667 \r\nL 366.207852 159.010206 \r\nL 366.261971 144.690649 \r\nL 366.370208 182.633097 \r\nL 366.532564 132.453509 \r\nL 366.586683 157.33171 \r\nL 366.640802 152.841238 \r\nL 366.69492 135.270032 \r\nL 366.857276 178.739079 \r\nL 366.911395 153.376729 \r\nL 366.965514 166.183386 \r\nL 367.019633 163.749928 \r\nL 367.073751 168.405361 \r\nL 367.12787 115.78458 \r\nL 367.181989 184.568493 \r\nL 367.236107 156.273092 \r\nL 367.290226 139.485317 \r\nL 367.344345 143.01493 \r\nL 367.398464 147.097824 \r\nL 367.452582 214.756364 \r\nL 367.506701 202.351987 \r\nL 367.669057 158.590971 \r\nL 367.723176 169.23416 \r\nL 367.777295 132.196631 \r\nL 367.831413 184.14376 \r\nL 367.885532 113.009755 \r\nL 367.939651 175.557382 \r\nL 368.102007 163.618732 \r\nL 368.210244 175.472562 \r\nL 368.264363 143.135935 \r\nL 368.318482 153.436519 \r\nL 368.3726 175.290688 \r\nL 368.426719 168.428305 \r\nL 368.589075 190.945489 \r\nL 368.643194 183.354478 \r\nL 368.697313 172.094237 \r\nL 368.751431 109.118695 \r\nL 368.80555 183.771518 \r\nL 368.859669 178.597938 \r\nL 369.022025 111.953397 \r\nL 369.2385 191.975392 \r\nL 369.292618 132.297327 \r\nL 369.346737 170.168016 \r\nL 369.400856 171.480907 \r\nL 369.454975 156.624218 \r\nL 369.509093 164.808934 \r\nL 369.563212 157.760229 \r\nL 369.671449 193.078939 \r\nL 369.725568 139.839321 \r\nL 369.725568 139.839321 \r\n\" style=\"fill:none;stroke:#1f77b4;stroke-linecap:square;stroke-width:1.5;\"/>\r\n   </g>\r\n   <g id=\"patch_3\">\r\n    <path d=\"M 50.14375 224.64 \r\nL 50.14375 7.2 \r\n\" style=\"fill:none;stroke:#000000;stroke-linecap:square;stroke-linejoin:miter;stroke-width:0.8;\"/>\r\n   </g>\r\n   <g id=\"patch_4\">\r\n    <path d=\"M 384.94375 224.64 \r\nL 384.94375 7.2 \r\n\" style=\"fill:none;stroke:#000000;stroke-linecap:square;stroke-linejoin:miter;stroke-width:0.8;\"/>\r\n   </g>\r\n   <g id=\"patch_5\">\r\n    <path d=\"M 50.14375 224.64 \r\nL 384.94375 224.64 \r\n\" style=\"fill:none;stroke:#000000;stroke-linecap:square;stroke-linejoin:miter;stroke-width:0.8;\"/>\r\n   </g>\r\n   <g id=\"patch_6\">\r\n    <path d=\"M 50.14375 7.2 \r\nL 384.94375 7.2 \r\n\" style=\"fill:none;stroke:#000000;stroke-linecap:square;stroke-linejoin:miter;stroke-width:0.8;\"/>\r\n   </g>\r\n  </g>\r\n </g>\r\n <defs>\r\n  <clipPath id=\"p5e8db4e310\">\r\n   <rect height=\"217.44\" width=\"334.8\" x=\"50.14375\" y=\"7.2\"/>\r\n  </clipPath>\r\n </defs>\r\n</svg>\r\n",
      "image/png": "[encoded data removed]"
     },
     "metadata": {
      "needs_background": "light"
     }
    }
   ],
   "source": [
    "import matplotlib.pyplot as plt\n",
    "\n",
    "plt.plot(loss_history)\n",
    "plt.xlabel('Batch #')\n",
    "plt.ylabel('Loss [entropy]')"
   ]
  },
  {
   "source": [
    "### Variables and optimizers"
   ],
   "cell_type": "markdown",
   "metadata": {}
  },
  {
   "cell_type": "code",
   "execution_count": 11,
   "metadata": {},
   "outputs": [],
   "source": [
    "class Linear(tf.keras.Model):\n",
    "    def __init__(self):\n",
    "        super(Linear, self).__init__()\n",
    "        self.W = tf.Variable(5., name='weight')\n",
    "        self.B = tf.Variable(10., name='bias')\n",
    "    def call(self, inputs):\n",
    "        return inputs * self.W + self.B"
   ]
  },
  {
   "cell_type": "code",
   "execution_count": 12,
   "metadata": {},
   "outputs": [],
   "source": [
    "# A toy dataset of points around 3 * x + 2\n",
    "NUM_EXAMPLES = 2000\n",
    "training_inputs = tf.random.normal([NUM_EXAMPLES])\n",
    "noise = tf.random.normal([NUM_EXAMPLES])\n",
    "training_outputs = training_inputs * 3 + 2 + noise\n",
    "\n",
    "# The loss function to be optimized\n",
    "def loss(model, inputs, targets):\n",
    "    error = model(inputs) - targets\n",
    "    return tf.reduce_mean(tf.square(error))\n",
    "\n",
    "def grad(model, inputs, targets):\n",
    "    with tf.GradientTape() as tape:\n",
    "        loss_value = loss(model, inputs, targets)\n",
    "    return tape.gradient(loss_value, [model.W, model.B])"
   ]
  },
  {
   "cell_type": "code",
   "execution_count": 13,
   "metadata": {},
   "outputs": [
    {
     "output_type": "stream",
     "name": "stdout",
     "text": [
      "Initial loss: 68.411\n",
      "Loss at step 000: 65.767\n",
      "Loss at step 020: 30.105\n",
      "Loss at step 040: 14.086\n",
      "Loss at step 060: 6.888\n",
      "Loss at step 080: 3.653\n",
      "Loss at step 100: 2.198\n",
      "Loss at step 120: 1.543\n",
      "Loss at step 140: 1.248\n",
      "Loss at step 160: 1.115\n",
      "Loss at step 180: 1.056\n",
      "Loss at step 200: 1.029\n",
      "Loss at step 220: 1.017\n",
      "Loss at step 240: 1.011\n",
      "Loss at step 260: 1.009\n",
      "Loss at step 280: 1.008\n"
     ]
    }
   ],
   "source": [
    "model = Linear()\n",
    "optimizer = tf.keras.optimizers.SGD(learning_rate=0.01)\n",
    "\n",
    "print(\"Initial loss: {:.3f}\".format(loss(model, training_inputs, training_outputs)))\n",
    "\n",
    "steps = 300\n",
    "for i in range(steps):\n",
    "    grads = grad(model, training_inputs, training_outputs)\n",
    "    optimizer.apply_gradients(zip(grads, [model.W, model.B]))\n",
    "    if i % 20 == 0:\n",
    "        print(\"Loss at step {:03d}: {:.3f}\".format(i, loss(model,\n",
    "                training_inputs, training_outputs)))"
   ]
  },
  {
   "cell_type": "code",
   "execution_count": 14,
   "metadata": {},
   "outputs": [
    {
     "output_type": "stream",
     "name": "stdout",
     "text": [
      "Final loss: 1.007\n"
     ]
    }
   ],
   "source": [
    "print(\"Final loss: {:.3f}\".format(loss(model, training_inputs, training_outputs)))"
   ]
  },
  {
   "cell_type": "code",
   "execution_count": 15,
   "metadata": {},
   "outputs": [
    {
     "output_type": "stream",
     "name": "stdout",
     "text": [
      "W = 3.0190913677215576, B = 2.0101470947265625\n"
     ]
    }
   ],
   "source": [
    "print(\"W = {}, B = {}\".format(model.W.numpy(), model.B.numpy()))"
   ]
  },
  {
   "source": [
    "### Object-based saving"
   ],
   "cell_type": "markdown",
   "metadata": {}
  },
  {
   "cell_type": "code",
   "execution_count": 16,
   "metadata": {},
   "outputs": [],
   "source": [
    "model.save_weights('weights')\n",
    "status = model.load_weights('weights')"
   ]
  },
  {
   "cell_type": "code",
   "execution_count": 17,
   "metadata": {},
   "outputs": [],
   "source": [
    "x = tf.Variable(10.)\n",
    "checkpoint = tf.train.Checkpoint(x=x)"
   ]
  },
  {
   "cell_type": "code",
   "execution_count": 18,
   "metadata": {},
   "outputs": [
    {
     "output_type": "execute_result",
     "data": {
      "text/plain": [
       "'./ckpt/-1'"
      ]
     },
     "metadata": {},
     "execution_count": 18
    }
   ],
   "source": [
    "x.assign(2.)    # Assign a new value to the variables and save.\n",
    "checkpoint_path = './ckpt'\n",
    "checkpoint.save('./ckpt/')"
   ]
  },
  {
   "cell_type": "code",
   "execution_count": 19,
   "metadata": {},
   "outputs": [
    {
     "output_type": "stream",
     "name": "stdout",
     "text": [
      "<tf.Variable 'Variable:0' shape=() dtype=float32, numpy=2.0>\n"
     ]
    }
   ],
   "source": [
    "x.assign(11.)   # Change the variable after saving.\n",
    "\n",
    "# Restore values from the checkpoint\n",
    "checkpoint.restore(tf.train.latest_checkpoint(checkpoint_path))\n",
    "\n",
    "print(x)    # => 2.0"
   ]
  },
  {
   "cell_type": "code",
   "execution_count": 20,
   "metadata": {},
   "outputs": [
    {
     "output_type": "execute_result",
     "data": {
      "text/plain": [
       "<tensorflow.python.training.tracking.util.CheckpointLoadStatus at 0x202a7014640>"
      ]
     },
     "metadata": {},
     "execution_count": 20
    }
   ],
   "source": [
    "model = tf.keras.Sequential([\n",
    "    tf.keras.layers.Conv2D(16,[3,3], activation='relu'),\n",
    "    tf.keras.layers.GlobalAveragePooling2D(),\n",
    "    tf.keras.layers.Dense(10)\n",
    "])\n",
    "optimizer = tf.keras.optimizers.Adam(learning_rate=0.001)\n",
    "checkpoint_dir = './path_to_model_dir'\n",
    "if not os.path.exists(checkpoint_dir):\n",
    "    os.makedirs(checkpoint_dir)\n",
    "checkpoint_prefix = os.path.join(checkpoint_dir, \"ckpt\")\n",
    "root = tf.train.Checkpoint(optimizer=optimizer,\n",
    "                           model=model)\n",
    "\n",
    "root.save(checkpoint_prefix)\n",
    "root.restore(tf.train.latest_checkpoint(checkpoint_dir))"
   ]
  },
  {
   "source": [
    "### Object-oriented metrics"
   ],
   "cell_type": "markdown",
   "metadata": {}
  },
  {
   "cell_type": "code",
   "execution_count": 21,
   "metadata": {},
   "outputs": [
    {
     "output_type": "execute_result",
     "data": {
      "text/plain": [
       "<tf.Tensor: shape=(), dtype=float32, numpy=5.5>"
      ]
     },
     "metadata": {},
     "execution_count": 21
    }
   ],
   "source": [
    "m = tf.keras.metrics.Mean(\"loss\")\n",
    "m(0)\n",
    "m(5)\n",
    "m.result()  # => 2.5\n",
    "m([8, 9])\n",
    "m.result()  # => 5.5"
   ]
  },
  {
   "source": [
    "### Summaries and TensorBoard"
   ],
   "cell_type": "markdown",
   "metadata": {}
  },
  {
   "cell_type": "code",
   "execution_count": 22,
   "metadata": {},
   "outputs": [],
   "source": [
    "logdir = \"./tb/\"\n",
    "writer = tf.summary.create_file_writer(logdir)\n",
    "\n",
    "steps = 1000\n",
    "with writer.as_default():  # or call writer.set_as_default() before the loop.\n",
    "    for i in range(steps):\n",
    "        step = i + 1\n",
    "        # Calculate loss with your real train function.\n",
    "        loss = 1 - 0.001 * step\n",
    "        if step % 100 == 0:\n",
    "            tf.summary.scalar('loss', loss, step=step)"
   ]
  },
  {
   "cell_type": "code",
   "execution_count": 25,
   "metadata": {},
   "outputs": [
    {
     "output_type": "stream",
     "name": "stdout",
     "text": [
      " Volume in drive D is Backup\n Volume Serial Number is 96A1-99BD\n\n Directory of d:\\Documents\\DeepLearning\\TensorFlow_Guide\\TensorFlow_2\\tb\n\n2021/03/19  15:58    <DIR>          .\n2021/03/19  15:58    <DIR>          ..\n2021/03/19  15:58               669 events.out.tfevents.1616140733.JAYTHINKPADX1.13784.636520.v2\n               1 File(s)            669 bytes\n               2 Dir(s)  332,176,822,272 bytes free\n"
     ]
    }
   ],
   "source": [
    "!dir tb"
   ]
  },
  {
   "source": [
    "## Advanced automatic differentiation topics\n",
    "### Dynamic models"
   ],
   "cell_type": "markdown",
   "metadata": {}
  },
  {
   "cell_type": "code",
   "execution_count": 26,
   "metadata": {},
   "outputs": [],
   "source": [
    "def line_search_step(fn, init_x, rate=1.0):\n",
    "    with tf.GradientTape() as tape:\n",
    "        # Variables are automatically tracked.\n",
    "        # But to calculate a gradient from a tensor, you must `watch` it.\n",
    "        tape.watch(init_x)\n",
    "        value = fn(init_x)\n",
    "    grad = tape.gradient(value, init_x)\n",
    "    grad_norm = tf.reduce_sum(grad * grad)\n",
    "    init_value = value\n",
    "    while value > init_value - rate * grad_norm:\n",
    "        x = init_x - rate * grad\n",
    "        value = fn(x)\n",
    "        rate /= 2.0\n",
    "    return x, value"
   ]
  },
  {
   "source": [
    "### Custom gradients"
   ],
   "cell_type": "markdown",
   "metadata": {}
  },
  {
   "cell_type": "code",
   "execution_count": 27,
   "metadata": {},
   "outputs": [],
   "source": [
    "@tf.custom_gradient\n",
    "def clip_gradient_by_norm(x, norm):\n",
    "    y = tf.identity(x)\n",
    "    def grad_fn(dresult):\n",
    "        return [tf.clip_by_norm(dresult, norm), None]\n",
    "    return y, grad_fn"
   ]
  },
  {
   "cell_type": "code",
   "execution_count": 28,
   "metadata": {},
   "outputs": [],
   "source": [
    "def log1pexp(x):\n",
    "    return tf.math.log(1 + tf.exp(x))\n",
    "\n",
    "def grad_log1pexp(x):\n",
    "    with tf.GradientTape() as tape:\n",
    "        tape.watch(x)\n",
    "        value = log1pexp(x)\n",
    "    return tape.gradient(value, x)"
   ]
  },
  {
   "cell_type": "code",
   "execution_count": 29,
   "metadata": {},
   "outputs": [
    {
     "output_type": "execute_result",
     "data": {
      "text/plain": [
       "0.5"
      ]
     },
     "metadata": {},
     "execution_count": 29
    }
   ],
   "source": [
    "# The gradient computation works fine at x = 0.\n",
    "grad_log1pexp(tf.constant(0.)).numpy()"
   ]
  },
  {
   "cell_type": "code",
   "execution_count": 30,
   "metadata": {},
   "outputs": [
    {
     "output_type": "execute_result",
     "data": {
      "text/plain": [
       "nan"
      ]
     },
     "metadata": {},
     "execution_count": 30
    }
   ],
   "source": [
    "# However, x = 100 fails because of numerical instability.\n",
    "grad_log1pexp(tf.constant(100.)).numpy()"
   ]
  },
  {
   "cell_type": "code",
   "execution_count": 31,
   "metadata": {},
   "outputs": [],
   "source": [
    "@tf.custom_gradient\n",
    "def log1pexp(x):\n",
    "    e = tf.exp(x)\n",
    "    def grad(dy):\n",
    "        return dy * (1 - 1 / (1 + e))\n",
    "    return tf.math.log(1 + e), grad\n",
    "\n",
    "def grad_log1pexp(x):\n",
    "    with tf.GradientTape() as tape:\n",
    "        tape.watch(x)\n",
    "        value = log1pexp(x)\n",
    "    return tape.gradient(value, x)"
   ]
  },
  {
   "cell_type": "code",
   "execution_count": 32,
   "metadata": {},
   "outputs": [
    {
     "output_type": "execute_result",
     "data": {
      "text/plain": [
       "0.5"
      ]
     },
     "metadata": {},
     "execution_count": 32
    }
   ],
   "source": [
    "# As before, the gradient computation works fine at x = 0.\n",
    "grad_log1pexp(tf.constant(0.)).numpy()"
   ]
  },
  {
   "cell_type": "code",
   "execution_count": 33,
   "metadata": {},
   "outputs": [
    {
     "output_type": "execute_result",
     "data": {
      "text/plain": [
       "1.0"
      ]
     },
     "metadata": {},
     "execution_count": 33
    }
   ],
   "source": [
    "# And the gradient computation also works at x = 100.\n",
    "grad_log1pexp(tf.constant(100.)).numpy()"
   ]
  },
  {
   "source": [
    "## Performance"
   ],
   "cell_type": "markdown",
   "metadata": {}
  },
  {
   "cell_type": "code",
   "execution_count": 34,
   "metadata": {},
   "outputs": [
    {
     "output_type": "stream",
     "name": "stdout",
     "text": [
      "Time to multiply a (1000, 1000) matrix by itself 200 times:\n",
      "CPU: 1.2730257511138916 secs\n",
      "GPU: 0.33003854751586914 secs\n"
     ]
    }
   ],
   "source": [
    "import time\n",
    "\n",
    "def measure(x, steps):\n",
    "  # TensorFlow initializes a GPU the first time it's used, exclude from timing.\n",
    "    tf.matmul(x, x)\n",
    "    start = time.time()\n",
    "    for i in range(steps):\n",
    "        x = tf.matmul(x, x)\n",
    "    # tf.matmul can return before completing the matrix multiplication\n",
    "    # (e.g., can return after enqueing the operation on a CUDA stream).\n",
    "    # The x.numpy() call below will ensure that all enqueued operations\n",
    "    # have completed (and will also copy the result to host memory,\n",
    "    # so we're including a little more than just the matmul operation\n",
    "    # time).\n",
    "    _ = x.numpy()\n",
    "    end = time.time()\n",
    "    return end - start\n",
    "\n",
    "shape = (1000, 1000)\n",
    "steps = 200\n",
    "print(\"Time to multiply a {} matrix by itself {} times:\".format(shape, steps))\n",
    "\n",
    "# Run on CPU:\n",
    "with tf.device(\"/cpu:0\"):\n",
    "    print(\"CPU: {} secs\".format(measure(tf.random.normal(shape), steps)))\n",
    "\n",
    "# Run on GPU, if available:\n",
    "if tf.config.list_physical_devices(\"GPU\"):\n",
    "    with tf.device(\"/gpu:0\"):\n",
    "        print(\"GPU: {} secs\".format(measure(tf.random.normal(shape), steps)))\n",
    "else:\n",
    "    print(\"GPU: not found\")"
   ]
  },
  {
   "cell_type": "code",
   "execution_count": 35,
   "metadata": {},
   "outputs": [
    {
     "output_type": "stream",
     "name": "stdout",
     "text": [
      "WARNING:tensorflow:From <ipython-input-35-5e23856f3b6c>:4: _EagerTensorBase.gpu (from tensorflow.python.framework.ops) is deprecated and will be removed in a future version.\n",
      "Instructions for updating:\n",
      "Use tf.identity instead.\n",
      "WARNING:tensorflow:From <ipython-input-35-5e23856f3b6c>:5: _EagerTensorBase.cpu (from tensorflow.python.framework.ops) is deprecated and will be removed in a future version.\n",
      "Instructions for updating:\n",
      "Use tf.identity instead.\n"
     ]
    }
   ],
   "source": [
    "if tf.config.list_physical_devices(\"GPU\"):\n",
    "    x = tf.random.normal([10, 10])\n",
    "\n",
    "    x_gpu0 = x.gpu()\n",
    "    x_cpu = x.cpu()\n",
    "\n",
    "    _ = tf.matmul(x_cpu, x_cpu)    # Runs on CPU\n",
    "    _ = tf.matmul(x_gpu0, x_gpu0)  # Runs on GPU:0"
   ]
  },
  {
   "cell_type": "code",
   "execution_count": null,
   "metadata": {},
   "outputs": [],
   "source": []
  }
 ],
 "metadata": {
  "kernelspec": {
   "name": "python3",
   "display_name": "Python 3",
   "language": "python"
  }
 },
 "nbformat": 4,
 "nbformat_minor": 5
}